{
 "cells": [
  {
   "cell_type": "code",
   "execution_count": 0,
   "metadata": {
    "colab": {},
    "colab_type": "code",
    "id": "KEp38yaVUVt7"
   },
   "outputs": [],
   "source": [
    "#First add the files into your Google Drive. Then mount the drive so that you can navigate to the path of the files. \n",
    "from google.colab import drive\n",
    "drive.mount('/content/gdrive')"
   ]
  },
  {
   "cell_type": "code",
   "execution_count": 0,
   "metadata": {
    "colab": {},
    "colab_type": "code",
    "id": "DUcZ5F3IUxHC"
   },
   "outputs": [],
   "source": [
    "#cd into the drive\n",
    "cd gdrive"
   ]
  },
  {
   "cell_type": "code",
   "execution_count": 0,
   "metadata": {
    "colab": {},
    "colab_type": "code",
    "id": "-1vCXbyLU2Mz"
   },
   "outputs": [],
   "source": [
    "#Continue navigating to the path where the files are stored\n",
    "cd My Drive"
   ]
  },
  {
   "cell_type": "code",
   "execution_count": 0,
   "metadata": {
    "colab": {},
    "colab_type": "code",
    "id": "bzuAYkg6U4GW"
   },
   "outputs": [],
   "source": [
    "#my drive folder was called DL\n",
    "cd DL"
   ]
  },
  {
   "cell_type": "code",
   "execution_count": 0,
   "metadata": {
    "colab": {},
    "colab_type": "code",
    "id": "73ngkj6HU6ox"
   },
   "outputs": [],
   "source": [
    "#CD into the ANN folder\n",
    "cd Artificial_Neural_Networks 9"
   ]
  },
  {
   "cell_type": "code",
   "execution_count": 0,
   "metadata": {
    "colab": {},
    "colab_type": "code",
    "id": "g-MTno5PVAUJ"
   },
   "outputs": [],
   "source": [
    "#use the Python command to execute a file in Colab\n",
    "!python ann.py"
   ]
  },
  {
   "cell_type": "code",
   "execution_count": 0,
   "metadata": {
    "colab": {},
    "colab_type": "code",
    "id": "ewdeudySWtGb"
   },
   "outputs": [],
   "source": [
    "#Once this runs you can cd again, and repeat the process\n",
    "cd .."
   ]
  },
  {
   "cell_type": "code",
   "execution_count": 0,
   "metadata": {
    "colab": {},
    "colab_type": "code",
    "id": "Vu0X2QXwWwim"
   },
   "outputs": [],
   "source": [
    "#Navigating to the AutoEncoders\n",
    "cd AutoEncoders/"
   ]
  },
  {
   "cell_type": "code",
   "execution_count": 0,
   "metadata": {
    "colab": {},
    "colab_type": "code",
    "id": "Y__XKh44U1d3"
   },
   "outputs": [],
   "source": [
    "!python ae.py"
   ]
  },
  {
   "cell_type": "code",
   "execution_count": 0,
   "metadata": {
    "colab": {},
    "colab_type": "code",
    "id": "HMCGwZ8yWyXr"
   },
   "outputs": [],
   "source": [
    "#Listing the directory\n",
    "cd .."
   ]
  },
  {
   "cell_type": "code",
   "execution_count": 0,
   "metadata": {
    "colab": {},
    "colab_type": "code",
    "id": "wFDYaupuW9F0"
   },
   "outputs": [],
   "source": [
    "#Navigating to BM\n",
    "cd Boltzmann_Machines 2"
   ]
  },
  {
   "cell_type": "code",
   "execution_count": 0,
   "metadata": {
    "colab": {},
    "colab_type": "code",
    "id": "5dI55Ir6W_JD"
   },
   "outputs": [],
   "source": [
    "#Executing RBM\n",
    "!python rbm.py"
   ]
  },
  {
   "cell_type": "code",
   "execution_count": 0,
   "metadata": {
    "colab": {},
    "colab_type": "code",
    "id": "iwrvNyN5XORC"
   },
   "outputs": [],
   "source": [
    "#Changing directory\n",
    "cd .."
   ]
  },
  {
   "cell_type": "code",
   "execution_count": 0,
   "metadata": {
    "colab": {},
    "colab_type": "code",
    "id": "Fh3sUl0zXPZX"
   },
   "outputs": [],
   "source": [
    "#Changind directory\n",
    "cd Convolutional_Neural_Networks 3"
   ]
  },
  {
   "cell_type": "code",
   "execution_count": 0,
   "metadata": {
    "colab": {},
    "colab_type": "code",
    "id": "nB9vXWNNXRfX"
   },
   "outputs": [],
   "source": [
    "#Executing cnn.py\n",
    "!python cnn.py"
   ]
  },
  {
   "cell_type": "code",
   "execution_count": 0,
   "metadata": {
    "colab": {},
    "colab_type": "code",
    "id": "IYNPpw13XVpR"
   },
   "outputs": [],
   "source": [
    "#Changind directory\n",
    "cd .."
   ]
  },
  {
   "cell_type": "code",
   "execution_count": 0,
   "metadata": {
    "colab": {},
    "colab_type": "code",
    "id": "dZvAFMj6XX8X"
   },
   "outputs": [],
   "source": [
    "#Changind directory\n",
    "cd Recurrent_Neural_Networks 4"
   ]
  },
  {
   "cell_type": "code",
   "execution_count": 0,
   "metadata": {
    "colab": {},
    "colab_type": "code",
    "id": "Nf-vBhTVXcZc"
   },
   "outputs": [],
   "source": [
    "#Executing rnn.py\n",
    "!python rnn.py"
   ]
  },
  {
   "cell_type": "code",
   "execution_count": 0,
   "metadata": {
    "colab": {},
    "colab_type": "code",
    "id": "CsApVDIgXe88"
   },
   "outputs": [],
   "source": [
    "#Changind directory\n",
    "cd .."
   ]
  },
  {
   "cell_type": "code",
   "execution_count": 0,
   "metadata": {
    "colab": {},
    "colab_type": "code",
    "id": "-OwRrc8MXk0x"
   },
   "outputs": [],
   "source": [
    "#Changind directory\n",
    "cd Self_Organizing_Maps/\n"
   ]
  },
  {
   "cell_type": "code",
   "execution_count": 0,
   "metadata": {
    "colab": {},
    "colab_type": "code",
    "id": "IqsnRf5SXnh7"
   },
   "outputs": [],
   "source": [
    "#Executing som.py\n",
    "!python som.py"
   ]
  },
  {
   "cell_type": "code",
   "execution_count": 0,
   "metadata": {
    "colab": {},
    "colab_type": "code",
    "id": "DRmFf0QfX_Cx"
   },
   "outputs": [],
   "source": [
    "#Executing som.py\n",
    "\n",
    "# Self Organizing Map\n",
    "\n",
    "# Importing the libraries\n",
    "import numpy as np\n",
    "import matplotlib.pyplot as plt\n",
    "import pandas as pd\n",
    "\n",
    "# Importing the dataset\n",
    "dataset = pd.read_csv('Credit_Card_Applications.csv')\n",
    "X = dataset.iloc[:, :-1].values\n",
    "y = dataset.iloc[:, -1].values\n",
    "\n",
    "# Feature Scaling\n",
    "from sklearn.preprocessing import MinMaxScaler\n",
    "sc = MinMaxScaler(feature_range = (0, 1))\n",
    "X = sc.fit_transform(X)\n",
    "\n",
    "# Training the SOM\n",
    "from minisom import MiniSom\n",
    "som = MiniSom(x = 10, y = 10, input_len = 15, sigma = 1.0, learning_rate = 0.5)\n",
    "som.random_weights_init(X)\n",
    "som.train_random(data = X, num_iteration = 100)\n",
    "\n",
    "# Visualizing the results\n",
    "from pylab import bone, pcolor, colorbar, plot, show\n",
    "bone()\n",
    "pcolor(som.distance_map().T)\n",
    "colorbar()\n",
    "markers = ['o', 's']\n",
    "colors = ['r', 'g']\n",
    "for i, x in enumerate(X):\n",
    "    w = som.winner(x)\n",
    "    plot(w[0] + 0.5,\n",
    "         w[1] + 0.5,\n",
    "         markers[y[i]],\n",
    "         markeredgecolor = colors[y[i]],\n",
    "         markerfacecolor = 'None',\n",
    "         markersize = 10,\n",
    "         markeredgewidth = 2)\n",
    "show()\n",
    "\n",
    "# Finding the frauds\n",
    "mappings = som.win_map(X)\n",
    "frauds = np.concatenate((mappings[(5,4)], mappings[(6,5)]), axis = 0)\n",
    "frauds = sc.inverse_transform(frauds)"
   ]
  }
 ],
 "metadata": {
  "colab": {
   "name": "DL_A_Z_Colab_Run_Instructions (1).ipynb 2",
   "provenance": []
  },
  "kernelspec": {
   "display_name": "Python 3",
   "language": "python",
   "name": "python3"
  },
  "language_info": {
   "codemirror_mode": {
    "name": "ipython",
    "version": 3
   },
   "file_extension": ".py",
   "mimetype": "text/x-python",
   "name": "python",
   "nbconvert_exporter": "python",
   "pygments_lexer": "ipython3",
   "version": "3.7.4"
  }
 },
 "nbformat": 4,
 "nbformat_minor": 1
}

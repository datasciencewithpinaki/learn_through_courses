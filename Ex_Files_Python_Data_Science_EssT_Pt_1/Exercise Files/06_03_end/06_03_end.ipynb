{
 "cells": [
  {
   "cell_type": "markdown",
   "metadata": {},
   "source": [
    "# Chapter 6 -  Data Sourcing via Web\n",
    "## Segment 3 - Data parsing"
   ]
  },
  {
   "cell_type": "code",
   "execution_count": 1,
   "metadata": {},
   "outputs": [],
   "source": [
    "from bs4 import BeautifulSoup\n",
    "\n",
    "import urllib\n",
    "import urllib.request\n",
    "import re"
   ]
  },
  {
   "cell_type": "code",
   "execution_count": 2,
   "metadata": {},
   "outputs": [],
   "source": [
    "with urllib.request.urlopen('https://raw.githubusercontent.com/BigDataGal/Data-Mania-Demos/master/IoT-2018.html') as response:\n",
    "    html = response.read()"
   ]
  },
  {
   "cell_type": "code",
   "execution_count": 3,
   "metadata": {},
   "outputs": [
    {
     "data": {
      "text/plain": [
       "bs4.BeautifulSoup"
      ]
     },
     "execution_count": 3,
     "metadata": {},
     "output_type": "execute_result"
    }
   ],
   "source": [
    "soup = BeautifulSoup(html, \"lxml\")\n",
    "type(soup)"
   ]
  },
  {
   "cell_type": "markdown",
   "metadata": {},
   "source": [
    "### Parsing your data"
   ]
  },
  {
   "cell_type": "code",
   "execution_count": 4,
   "metadata": {},
   "outputs": [
    {
     "name": "stdout",
     "output_type": "stream",
     "text": [
      "<html>\n",
      " <head>\n",
      "  <title>\n",
      "   IoT Articles\n",
      "  </title>\n",
      " </head>\n",
      " <body>\n",
      "  <p class=\"title\">\n",
      "   <b>\n",
      "    \n"
     ]
    }
   ],
   "source": [
    "print(soup.prettify()[0:100])"
   ]
  },
  {
   "cell_type": "markdown",
   "metadata": {},
   "source": [
    "### Getting data from a parse tree"
   ]
  },
  {
   "cell_type": "code",
   "execution_count": 5,
   "metadata": {},
   "outputs": [
    {
     "name": "stdout",
     "output_type": "stream",
     "text": [
      "IoT Articles\n",
      "\n",
      "2018 Trends: Best New IoT Device Ideas for Data Scientists and Engineers\n",
      "It’s almost 2018 and IoT is on the cusp of an explosive expansion. In this article, I offer you a listing of new IoT device ideas that you can use...\r\n",
      "\n",
      "\r\n",
      "It’s almost 2018 and IoT is on the cusp of an explosive expansion. In this article, I offer you a listing of new IoT device ideas that you can use to get practice in designing your first IoT applications.\r\n",
      "Looking Back at My Coolest IoT Find in 2017\r\n",
      "Before going into detail about best new IoT device ideas, here’s the backstory. Last month Ericsson Digital invited me to tour the Ericsson Studio in Kista, Sweden. Up until that visit, IoT had been largely theoretical to me. Of course, I know the usual mumbo-jumbo about wearables and IoT-connected fitness trackers. That stuff is all well and good, but it’s somewhat old hat – plus I am not sure we are really benefiting so much from those, so I’m not that impressed.\r\n",
      "\r\n",
      "It wasn’t until I got to the Ericsson Studio that I became extremely impressed by how far IoT has really come. Relying on the promise of the 5g network expansion, IoT-powered smart devices are on the cusp of an explosive growth in adoption. It was Ericsson’s Smart Car that sent me reeling:\r\n",
      "\r\n",
      "This car is connected to Ericsson’s Connected Vehicle Cloud, an IoT platform that manages services for the Smart Cars to which it’s connected. The Volvo pictured above acts as a drop-off location for groceries that have been ordered by its owner.\r\n",
      "\r\n",
      "To understand how it works, imagine you’re pulling your normal 9-to-5 and you know you need to grab some groceries on your way home. Well, since you’re smart you’ve used Ericsson IoT platform to connect your car to the local grocery delivery service (Mat.se), so all you need to do is open the Mat.se app and make your usual order. Mat.se automatically handles the payment, grocery selection, delivery, and delivery scheduling. Since your car is IoT-enabled, Mat.se issues its trusted delivery agent a 1-time token to use for opening your car in order to place your groceries in your car for you at 4:40 pm (just before you get off from work).\r\n",
      "\r\n",
      "To watch some of the amazing IoT device demos I witnessed at Ericsson Studio, make sure to go watch the videos on this page.\r\n",
      "Future Trends for IoT in 2018\r\n",
      "New IoT device ideas won’t do you much good unless you at least know the basic technology trends that are set to impact IoT over the next year(s). These include:\r\n",
      "\n",
      "Big Data & Data Engineering: Sensors that are embedded within IoT devices spin off machine-generated data like it’s going out of style. For IoT to function, the platform must be solidly engineered to handle big data. Be assured, that requires some serious data engineering.\n",
      "Machine Learning Data Science: While a lot of IoT devices are still operated according to rules-based decision criteria, the age of artificial intelligence is upon us. IoT will increasingly depend on machine learning algorithms to control device operations so that devices are able to autonomously respond to a complex set of overlapping stimuli.\n",
      "Blockchain-Enabled Security: Above all else, IoT networks must be secure. Blockchain technology is primed to meet the security demands that come along with building and expanding the IoT.\n",
      "\n",
      "Best New IoT Device Ideas\r\n",
      "This listing of new IoT device ideas has been sub-divided according to the main technology upon which the IoT devices are built. Below I’m providing a list of new IoT device ideas, but for detailed instructions on how to build these IoT applications, I recommend the IoT courses on Udemy (ß Please note: if you purchase a Udemy course through this link, I may receive a small commission), or courses that are available at SkyFi and Coursera.\r\n",
      "Raspberry Pi IoT Ideas\r\n",
      "Using Raspberry Pi as open-source hardware, you can build IoT applications that offer any one of the following benefits:\r\n",
      "\n",
      "Enable built-in sensing to build a weather station that measures ambient temperature and humidity\n",
      "Build a system that detects discrepancies in electrical readings to identify electricity theft\n",
      "Use IoT to build a Servo that is controlled by motion detection readings\n",
      "Build a smart control switch that operates devices based on external stimuli. Use this for home automation.\n",
      "Build a music playing application that enables music for each room in your house\n",
      "Implement biometrics on IoT-connected devices\n",
      "\n",
      "Arduino IoT Ideas\r\n",
      "There are a number of new IoT device ideas that deploy Arduino as a microcontroller. These include:\r\n",
      "\n",
      "Integrate Arduino with Android to build a remote-control RGB LED device.\n",
      "Connect PIR sensors across the IoT to implement a smart building.\n",
      "Build a temperature and sunlight sensor system to remotely monitor and control the conditions of your garden.\n",
      "Deploy Arduino and IoT to automate your neighborhood streetlights.\n",
      "Build a smart irrigation system based on IoT-connected temperature and moisture sensors built-in to your agricultural plants.\n",
      "\r\n",
      "[caption id=\"attachment_3807\" align=\"aligncenter\" width=\"300\"] An IoT Chatbot Tree at the Ericsson Studio[/caption]\r\n",
      "Wireless (GSM) IoT Ideas\r\n",
      "Several new IoT device ideas are developed around the GSM wireless network. Those are:\r\n",
      "\n",
      "Monitor soil moisture to automate agricultural irrigation cycles.\n",
      "Automate and control the conditions of a greenhouse.\n",
      "Enable bio-metrics to build a smart security system for your home or office building\n",
      "Build an autonomously operating fitness application that automatically makes recommendations based on motion detection and heart rate sensors that are embedded on wearable fitness trackers.\n",
      "Build a healthcare monitoring system that tracks, informs, and automatically alerts healthcare providers based on sensor readings that describe a patients vital statistics (like temperature, pulse, blood pressure, etc).\n",
      "\n",
      "IoT Automation Ideas\r\n",
      "Almost all new IoT device ideas offer automation benefits, but to outline a few more ideas:\r\n",
      "\n",
      "Build an IoT device that automatically locates and reports the closest nearby parking spot.\n",
      "Build a motion detection system that automatically issues emails or sms messages to alert home owners of a likely home invasion.\n",
      "Use temperature sensors connected across the IoT to automatically alert you if your home windows or doors have been left open.\n",
      "Use bio-metric sensors to build a smart system that automate security for your home or office building\n",
      "\r\n",
      "To learn more about IoT and what’s happening on the leading edge, be sure to pop over to Ericsson’s Studio Tour recap and watch these videos.\r\n",
      "\r\n",
      "(I captured some of this content on behalf of DevMode Strategies during an invite-only tour of the Ericsson Studio in Kista. Rest assure, the text and opinions are my own)\r\n",
      "...\n"
     ]
    }
   ],
   "source": [
    "text_only = soup.get_text()\n",
    "print(text_only)"
   ]
  },
  {
   "cell_type": "markdown",
   "metadata": {},
   "source": [
    "### Searching and retrieving data from a parse tree"
   ]
  },
  {
   "cell_type": "markdown",
   "metadata": {},
   "source": [
    "#### Retrieving tags by filtering with name arguments"
   ]
  },
  {
   "cell_type": "code",
   "execution_count": 6,
   "metadata": {},
   "outputs": [
    {
     "data": {
      "text/plain": [
       "[<li><strong>Big Data</strong> &amp; Data Engineering: Sensors that are embedded within IoT devices spin off machine-generated data like it’s going out of style. For IoT to function, the platform must be solidly engineered to handle big data. Be assured, that requires some serious data engineering.</li>,\n",
       " <li><strong>Machine Learning</strong> Data Science: While a lot of IoT devices are still operated according to rules-based decision criteria, the age of artificial intelligence is upon us. IoT will increasingly depend on machine learning algorithms to control device operations so that devices are able to autonomously respond to a complex set of overlapping stimuli.</li>,\n",
       " <li><strong>Blockchain</strong>-Enabled Security: Above all else, IoT networks must be secure. Blockchain technology is primed to meet the security demands that come along with building and expanding the IoT.</li>,\n",
       " <li>Enable built-in sensing to build a weather station that measures ambient temperature and humidity</li>,\n",
       " <li>Build a system that detects discrepancies in electrical readings to identify electricity theft</li>,\n",
       " <li>Use IoT to build a Servo that is controlled by motion detection readings</li>,\n",
       " <li>Build a smart control switch that operates devices based on external stimuli. Use this for home automation.</li>,\n",
       " <li>Build a music playing application that enables music for each room in your house</li>,\n",
       " <li>Implement biometrics on IoT-connected devices</li>,\n",
       " <li>Integrate Arduino with Android to build a remote-control RGB LED device.</li>,\n",
       " <li>Connect PIR sensors across the IoT to implement a smart building.</li>,\n",
       " <li>Build a temperature and sunlight sensor system to remotely monitor and control the conditions of your garden.</li>,\n",
       " <li>Deploy Arduino and IoT to automate your neighborhood streetlights.</li>,\n",
       " <li>Build a smart irrigation system based on IoT-connected temperature and moisture sensors built-in to your agricultural plants.</li>,\n",
       " <li>Monitor soil moisture to automate agricultural irrigation cycles.</li>,\n",
       " <li>Automate and control the conditions of a greenhouse.</li>,\n",
       " <li>Enable bio-metrics to build a smart security system for your home or office building</li>,\n",
       " <li>Build an autonomously operating fitness application that automatically makes recommendations based on motion detection and heart rate sensors that are embedded on wearable fitness trackers.</li>,\n",
       " <li>Build a healthcare monitoring system that tracks, informs, and automatically alerts healthcare providers based on sensor readings that describe a patients vital statistics (like temperature, pulse, blood pressure, etc).</li>,\n",
       " <li>Build an IoT device that automatically locates and reports the closest nearby parking spot.</li>,\n",
       " <li>Build a motion detection system that automatically issues emails or sms messages to alert home owners of a likely home invasion.</li>,\n",
       " <li>Use temperature sensors connected across the IoT to automatically alert you if your home windows or doors have been left open.</li>,\n",
       " <li>Use bio-metric sensors to build a smart system that automate security for your home or office building</li>]"
      ]
     },
     "execution_count": 6,
     "metadata": {},
     "output_type": "execute_result"
    }
   ],
   "source": [
    "soup.find_all(\"li\")"
   ]
  },
  {
   "cell_type": "markdown",
   "metadata": {},
   "source": [
    "##### Retrieving tags by filtering with keyword arguments"
   ]
  },
  {
   "cell_type": "code",
   "execution_count": 7,
   "metadata": {},
   "outputs": [
    {
     "data": {
      "text/plain": [
       "[<a class=\"preview\" href=\"http://www.skyfilabs.com/iot-online-courses\" id=\"link 7\">SkyFi</a>]"
      ]
     },
     "execution_count": 7,
     "metadata": {},
     "output_type": "execute_result"
    }
   ],
   "source": [
    "soup.find_all(id=\"link 7\")"
   ]
  },
  {
   "cell_type": "markdown",
   "metadata": {},
   "source": [
    "##### Retrieving tags by filtering with string arguments"
   ]
  },
  {
   "cell_type": "code",
   "execution_count": 8,
   "metadata": {},
   "outputs": [
    {
     "data": {
      "text/plain": [
       "[<ol>\n",
       " <li><strong>Big Data</strong> &amp; Data Engineering: Sensors that are embedded within IoT devices spin off machine-generated data like it’s going out of style. For IoT to function, the platform must be solidly engineered to handle big data. Be assured, that requires some serious data engineering.</li>\n",
       " <li><strong>Machine Learning</strong> Data Science: While a lot of IoT devices are still operated according to rules-based decision criteria, the age of artificial intelligence is upon us. IoT will increasingly depend on machine learning algorithms to control device operations so that devices are able to autonomously respond to a complex set of overlapping stimuli.</li>\n",
       " <li><strong>Blockchain</strong>-Enabled Security: Above all else, IoT networks must be secure. Blockchain technology is primed to meet the security demands that come along with building and expanding the IoT.</li>\n",
       " </ol>, <ol>\n",
       " <li>Enable built-in sensing to build a weather station that measures ambient temperature and humidity</li>\n",
       " <li>Build a system that detects discrepancies in electrical readings to identify electricity theft</li>\n",
       " <li>Use IoT to build a Servo that is controlled by motion detection readings</li>\n",
       " <li>Build a smart control switch that operates devices based on external stimuli. Use this for home automation.</li>\n",
       " <li>Build a music playing application that enables music for each room in your house</li>\n",
       " <li>Implement biometrics on IoT-connected devices</li>\n",
       " </ol>, <ol>\n",
       " <li>Integrate Arduino with Android to build a remote-control RGB LED device.</li>\n",
       " <li>Connect PIR sensors across the IoT to implement a smart building.</li>\n",
       " <li>Build a temperature and sunlight sensor system to remotely monitor and control the conditions of your garden.</li>\n",
       " <li>Deploy Arduino and IoT to automate your neighborhood streetlights.</li>\n",
       " <li>Build a smart irrigation system based on IoT-connected temperature and moisture sensors built-in to your agricultural plants.</li>\n",
       " </ol>, <ol>\n",
       " <li>Monitor soil moisture to automate agricultural irrigation cycles.</li>\n",
       " <li>Automate and control the conditions of a greenhouse.</li>\n",
       " <li>Enable bio-metrics to build a smart security system for your home or office building</li>\n",
       " <li>Build an autonomously operating fitness application that automatically makes recommendations based on motion detection and heart rate sensors that are embedded on wearable fitness trackers.</li>\n",
       " <li>Build a healthcare monitoring system that tracks, informs, and automatically alerts healthcare providers based on sensor readings that describe a patients vital statistics (like temperature, pulse, blood pressure, etc).</li>\n",
       " </ol>, <ol>\n",
       " <li>Build an IoT device that automatically locates and reports the closest nearby parking spot.</li>\n",
       " <li>Build a motion detection system that automatically issues emails or sms messages to alert home owners of a likely home invasion.</li>\n",
       " <li>Use temperature sensors connected across the IoT to automatically alert you if your home windows or doors have been left open.</li>\n",
       " <li>Use bio-metric sensors to build a smart system that automate security for your home or office building</li>\n",
       " </ol>]"
      ]
     },
     "execution_count": 8,
     "metadata": {},
     "output_type": "execute_result"
    }
   ],
   "source": [
    "soup.find_all('ol')"
   ]
  },
  {
   "cell_type": "markdown",
   "metadata": {},
   "source": [
    "##### Retrieving tags by filtering with list objects"
   ]
  },
  {
   "cell_type": "code",
   "execution_count": 9,
   "metadata": {},
   "outputs": [
    {
     "data": {
      "text/plain": [
       "[<b>2018 Trends: Best New IoT Device Ideas for Data Scientists and Engineers</b>,\n",
       " <ol>\n",
       " <li><strong>Big Data</strong> &amp; Data Engineering: Sensors that are embedded within IoT devices spin off machine-generated data like it’s going out of style. For IoT to function, the platform must be solidly engineered to handle big data. Be assured, that requires some serious data engineering.</li>\n",
       " <li><strong>Machine Learning</strong> Data Science: While a lot of IoT devices are still operated according to rules-based decision criteria, the age of artificial intelligence is upon us. IoT will increasingly depend on machine learning algorithms to control device operations so that devices are able to autonomously respond to a complex set of overlapping stimuli.</li>\n",
       " <li><strong>Blockchain</strong>-Enabled Security: Above all else, IoT networks must be secure. Blockchain technology is primed to meet the security demands that come along with building and expanding the IoT.</li>\n",
       " </ol>,\n",
       " <ol>\n",
       " <li>Enable built-in sensing to build a weather station that measures ambient temperature and humidity</li>\n",
       " <li>Build a system that detects discrepancies in electrical readings to identify electricity theft</li>\n",
       " <li>Use IoT to build a Servo that is controlled by motion detection readings</li>\n",
       " <li>Build a smart control switch that operates devices based on external stimuli. Use this for home automation.</li>\n",
       " <li>Build a music playing application that enables music for each room in your house</li>\n",
       " <li>Implement biometrics on IoT-connected devices</li>\n",
       " </ol>,\n",
       " <ol>\n",
       " <li>Integrate Arduino with Android to build a remote-control RGB LED device.</li>\n",
       " <li>Connect PIR sensors across the IoT to implement a smart building.</li>\n",
       " <li>Build a temperature and sunlight sensor system to remotely monitor and control the conditions of your garden.</li>\n",
       " <li>Deploy Arduino and IoT to automate your neighborhood streetlights.</li>\n",
       " <li>Build a smart irrigation system based on IoT-connected temperature and moisture sensors built-in to your agricultural plants.</li>\n",
       " </ol>,\n",
       " <ol>\n",
       " <li>Monitor soil moisture to automate agricultural irrigation cycles.</li>\n",
       " <li>Automate and control the conditions of a greenhouse.</li>\n",
       " <li>Enable bio-metrics to build a smart security system for your home or office building</li>\n",
       " <li>Build an autonomously operating fitness application that automatically makes recommendations based on motion detection and heart rate sensors that are embedded on wearable fitness trackers.</li>\n",
       " <li>Build a healthcare monitoring system that tracks, informs, and automatically alerts healthcare providers based on sensor readings that describe a patients vital statistics (like temperature, pulse, blood pressure, etc).</li>\n",
       " </ol>,\n",
       " <ol>\n",
       " <li>Build an IoT device that automatically locates and reports the closest nearby parking spot.</li>\n",
       " <li>Build a motion detection system that automatically issues emails or sms messages to alert home owners of a likely home invasion.</li>\n",
       " <li>Use temperature sensors connected across the IoT to automatically alert you if your home windows or doors have been left open.</li>\n",
       " <li>Use bio-metric sensors to build a smart system that automate security for your home or office building</li>\n",
       " </ol>]"
      ]
     },
     "execution_count": 9,
     "metadata": {},
     "output_type": "execute_result"
    }
   ],
   "source": [
    "soup.find_all(['ol', 'b'])"
   ]
  },
  {
   "cell_type": "markdown",
   "metadata": {},
   "source": [
    "##### Retrieving tags by filtering with regular expressions"
   ]
  },
  {
   "cell_type": "code",
   "execution_count": 10,
   "metadata": {},
   "outputs": [
    {
     "name": "stdout",
     "output_type": "stream",
     "text": [
      "html\n",
      "title\n",
      "strong\n",
      "strong\n",
      "strong\n",
      "strong\n",
      "strong\n",
      "strong\n"
     ]
    }
   ],
   "source": [
    "t = re.compile(\"t\")\n",
    "for tag in soup.find_all(t):\n",
    "    print(tag.name)"
   ]
  },
  {
   "cell_type": "markdown",
   "metadata": {},
   "source": [
    "##### Retrieving tags by filtering with a Boolean value"
   ]
  },
  {
   "cell_type": "code",
   "execution_count": 11,
   "metadata": {},
   "outputs": [
    {
     "name": "stdout",
     "output_type": "stream",
     "text": [
      "html\n",
      "head\n",
      "title\n",
      "body\n",
      "p\n",
      "b\n",
      "p\n",
      "br\n",
      "br\n",
      "h1\n",
      "span\n",
      "strong\n",
      "a\n",
      "a\n",
      "a\n",
      "img\n",
      "a\n",
      "span\n",
      "strong\n",
      "a\n",
      "h1\n",
      "ol\n",
      "li\n",
      "strong\n",
      "li\n",
      "strong\n",
      "li\n",
      "strong\n",
      "h1\n",
      "a\n",
      "a\n",
      "a\n",
      "h2\n",
      "ol\n",
      "li\n",
      "li\n",
      "li\n",
      "li\n",
      "li\n",
      "li\n",
      "h2\n",
      "ol\n",
      "li\n",
      "li\n",
      "li\n",
      "li\n",
      "li\n",
      "a\n",
      "img\n",
      "h2\n",
      "ol\n",
      "li\n",
      "li\n",
      "li\n",
      "li\n",
      "li\n",
      "h2\n",
      "ol\n",
      "li\n",
      "li\n",
      "li\n",
      "li\n",
      "span\n",
      "strong\n",
      "a\n",
      "em\n",
      "p\n"
     ]
    }
   ],
   "source": [
    "for tag in soup.find_all(True):\n",
    "    print(tag.name)"
   ]
  },
  {
   "cell_type": "markdown",
   "metadata": {},
   "source": [
    "##### Retrieving weblinks by filtering with string objects"
   ]
  },
  {
   "cell_type": "code",
   "execution_count": 12,
   "metadata": {},
   "outputs": [
    {
     "name": "stdout",
     "output_type": "stream",
     "text": [
      "http://bit.ly/LPlNDJj\n",
      "http://www.data-mania.com/blog/m2m-vs-iot/\n",
      "bit.ly/LPlNDJj\n",
      "http://mat.se/\n",
      "http://bit.ly/LPlNDJj\n",
      "https://click.linksynergy.com/deeplink?id=*JDLXjeE*wk&mid=39197&murl=https%3A%2F%2Fwww.udemy.com%2Ftopic%2Finternet-of-things%2F%3Fsort%3Dhighest-rated\n",
      "http://www.skyfilabs.com/iot-online-courses\n",
      "https://www.coursera.org/specializations/iot\n",
      "bit.ly/LPlNDJj\n",
      "http://bit.ly/LPlNDJj\n"
     ]
    }
   ],
   "source": [
    "for link in soup.find_all('a'):\n",
    "    print(link.get('href'))"
   ]
  },
  {
   "cell_type": "markdown",
   "metadata": {},
   "source": [
    "##### Retrieving strings by filtering with regular expressions"
   ]
  },
  {
   "cell_type": "code",
   "execution_count": 13,
   "metadata": {},
   "outputs": [
    {
     "data": {
      "text/plain": [
       "[' & Data Engineering: Sensors that are embedded within IoT devices spin off machine-generated data like it’s going out of style. For IoT to function, the platform must be solidly engineered to handle big data. Be assured, that requires some serious data engineering.']"
      ]
     },
     "execution_count": 13,
     "metadata": {},
     "output_type": "execute_result"
    }
   ],
   "source": [
    "soup.find_all(string=re.compile(\"data\"))"
   ]
  },
  {
   "cell_type": "code",
   "execution_count": null,
   "metadata": {},
   "outputs": [],
   "source": []
  }
 ],
 "metadata": {
  "kernelspec": {
   "display_name": "Python 3",
   "language": "python",
   "name": "python3"
  },
  "language_info": {
   "codemirror_mode": {
    "name": "ipython",
    "version": 3
   },
   "file_extension": ".py",
   "mimetype": "text/x-python",
   "name": "python",
   "nbconvert_exporter": "python",
   "pygments_lexer": "ipython3",
   "version": "3.7.3"
  }
 },
 "nbformat": 4,
 "nbformat_minor": 1
}

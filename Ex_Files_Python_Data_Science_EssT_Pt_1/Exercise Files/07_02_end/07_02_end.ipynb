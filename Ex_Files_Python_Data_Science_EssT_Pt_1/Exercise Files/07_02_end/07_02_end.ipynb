{
 "cells": [
  {
   "cell_type": "markdown",
   "metadata": {},
   "source": [
    "# Chapter 7 - Collaborative Analytics with Plotly\n",
    "## Segment 1 - Creating basic charts\n",
    "### Setting up to use Plotly within Jupyter"
   ]
  },
  {
   "cell_type": "code",
   "execution_count": 1,
   "metadata": {},
   "outputs": [
    {
     "name": "stdout",
     "output_type": "stream",
     "text": [
      "Collecting Plotly\n",
      "  Using cached https://files.pythonhosted.org/packages/70/19/8437e22c84083a6d5d8a3c80f4edc73c9dcbb89261d07e6bd13b48752bbd/plotly-4.1.1-py2.py3-none-any.whl\n",
      "Requirement already satisfied: retrying>=1.3.3 in c:\\users\\lillian\\anaconda3\\lib\\site-packages (from Plotly) (1.3.3)\n",
      "Requirement already satisfied: six in c:\\users\\lillian\\anaconda3\\lib\\site-packages (from Plotly) (1.12.0)\n",
      "Installing collected packages: Plotly\n",
      "Successfully installed Plotly-4.1.1\n"
     ]
    }
   ],
   "source": [
    "! pip install Plotly"
   ]
  },
  {
   "cell_type": "code",
   "execution_count": 2,
   "metadata": {},
   "outputs": [
    {
     "name": "stdout",
     "output_type": "stream",
     "text": [
      "Collecting cufflinks\n",
      "  Using cached https://files.pythonhosted.org/packages/5e/5a/db3d6523ee870ecc229008b209b6b21231397302de34f9c446929a41f027/cufflinks-0.16.tar.gz\n",
      "Requirement already satisfied: numpy>=1.9.2 in c:\\users\\lillian\\anaconda3\\lib\\site-packages (from cufflinks) (1.16.4)\n",
      "Requirement already satisfied: pandas>=0.19.2 in c:\\users\\lillian\\anaconda3\\lib\\site-packages (from cufflinks) (0.24.2)\n",
      "Collecting plotly<4.0.0a0,>=3.0.0 (from cufflinks)\n",
      "  Using cached https://files.pythonhosted.org/packages/ff/75/3982bac5076d0ce6d23103c03840fcaec90c533409f9d82c19f54512a38a/plotly-3.10.0-py2.py3-none-any.whl\n",
      "Requirement already satisfied: six>=1.9.0 in c:\\users\\lillian\\anaconda3\\lib\\site-packages (from cufflinks) (1.12.0)\n",
      "Collecting colorlover>=0.2.1 (from cufflinks)\n",
      "  Downloading https://files.pythonhosted.org/packages/9a/53/f696e4480b1d1de3b1523991dea71cf417c8b19fe70c704da164f3f90972/colorlover-0.3.0-py3-none-any.whl\n",
      "Requirement already satisfied: setuptools>=34.4.1 in c:\\users\\lillian\\anaconda3\\lib\\site-packages (from cufflinks) (41.0.1)\n",
      "Requirement already satisfied: ipython>=5.3.0 in c:\\users\\lillian\\anaconda3\\lib\\site-packages (from cufflinks) (7.6.1)\n",
      "Requirement already satisfied: ipywidgets>=7.0.0 in c:\\users\\lillian\\anaconda3\\lib\\site-packages (from cufflinks) (7.5.0)\n",
      "Requirement already satisfied: python-dateutil>=2.5.0 in c:\\users\\lillian\\anaconda3\\lib\\site-packages (from pandas>=0.19.2->cufflinks) (2.8.0)\n",
      "Requirement already satisfied: pytz>=2011k in c:\\users\\lillian\\anaconda3\\lib\\site-packages (from pandas>=0.19.2->cufflinks) (2019.1)\n",
      "Requirement already satisfied: decorator>=4.0.6 in c:\\users\\lillian\\anaconda3\\lib\\site-packages (from plotly<4.0.0a0,>=3.0.0->cufflinks) (4.4.0)\n",
      "Requirement already satisfied: retrying>=1.3.3 in c:\\users\\lillian\\anaconda3\\lib\\site-packages (from plotly<4.0.0a0,>=3.0.0->cufflinks) (1.3.3)\n",
      "Requirement already satisfied: nbformat>=4.2 in c:\\users\\lillian\\anaconda3\\lib\\site-packages (from plotly<4.0.0a0,>=3.0.0->cufflinks) (4.4.0)\n",
      "Requirement already satisfied: requests in c:\\users\\lillian\\anaconda3\\lib\\site-packages (from plotly<4.0.0a0,>=3.0.0->cufflinks) (2.22.0)\n",
      "Requirement already satisfied: prompt-toolkit<2.1.0,>=2.0.0 in c:\\users\\lillian\\anaconda3\\lib\\site-packages (from ipython>=5.3.0->cufflinks) (2.0.9)\n",
      "Requirement already satisfied: backcall in c:\\users\\lillian\\anaconda3\\lib\\site-packages (from ipython>=5.3.0->cufflinks) (0.1.0)\n",
      "Requirement already satisfied: traitlets>=4.2 in c:\\users\\lillian\\anaconda3\\lib\\site-packages (from ipython>=5.3.0->cufflinks) (4.3.2)\n",
      "Requirement already satisfied: colorama; sys_platform == \"win32\" in c:\\users\\lillian\\anaconda3\\lib\\site-packages (from ipython>=5.3.0->cufflinks) (0.4.1)\n",
      "Requirement already satisfied: jedi>=0.10 in c:\\users\\lillian\\anaconda3\\lib\\site-packages (from ipython>=5.3.0->cufflinks) (0.13.3)\n",
      "Requirement already satisfied: pygments in c:\\users\\lillian\\anaconda3\\lib\\site-packages (from ipython>=5.3.0->cufflinks) (2.4.2)\n",
      "Requirement already satisfied: pickleshare in c:\\users\\lillian\\anaconda3\\lib\\site-packages (from ipython>=5.3.0->cufflinks) (0.7.5)\n",
      "Requirement already satisfied: widgetsnbextension~=3.5.0 in c:\\users\\lillian\\anaconda3\\lib\\site-packages (from ipywidgets>=7.0.0->cufflinks) (3.5.0)\n",
      "Requirement already satisfied: ipykernel>=4.5.1 in c:\\users\\lillian\\anaconda3\\lib\\site-packages (from ipywidgets>=7.0.0->cufflinks) (5.1.1)\n",
      "Requirement already satisfied: jupyter-core in c:\\users\\lillian\\anaconda3\\lib\\site-packages (from nbformat>=4.2->plotly<4.0.0a0,>=3.0.0->cufflinks) (4.5.0)\n",
      "Requirement already satisfied: jsonschema!=2.5.0,>=2.4 in c:\\users\\lillian\\anaconda3\\lib\\site-packages (from nbformat>=4.2->plotly<4.0.0a0,>=3.0.0->cufflinks) (3.0.1)\n",
      "Requirement already satisfied: ipython-genutils in c:\\users\\lillian\\anaconda3\\lib\\site-packages (from nbformat>=4.2->plotly<4.0.0a0,>=3.0.0->cufflinks) (0.2.0)\n",
      "Requirement already satisfied: chardet<3.1.0,>=3.0.2 in c:\\users\\lillian\\anaconda3\\lib\\site-packages (from requests->plotly<4.0.0a0,>=3.0.0->cufflinks) (3.0.4)\n",
      "Requirement already satisfied: urllib3!=1.25.0,!=1.25.1,<1.26,>=1.21.1 in c:\\users\\lillian\\anaconda3\\lib\\site-packages (from requests->plotly<4.0.0a0,>=3.0.0->cufflinks) (1.24.2)\n",
      "Requirement already satisfied: idna<2.9,>=2.5 in c:\\users\\lillian\\anaconda3\\lib\\site-packages (from requests->plotly<4.0.0a0,>=3.0.0->cufflinks) (2.8)\n",
      "Requirement already satisfied: certifi>=2017.4.17 in c:\\users\\lillian\\anaconda3\\lib\\site-packages (from requests->plotly<4.0.0a0,>=3.0.0->cufflinks) (2019.6.16)\n",
      "Requirement already satisfied: wcwidth in c:\\users\\lillian\\anaconda3\\lib\\site-packages (from prompt-toolkit<2.1.0,>=2.0.0->ipython>=5.3.0->cufflinks) (0.1.7)\n",
      "Requirement already satisfied: parso>=0.3.0 in c:\\users\\lillian\\anaconda3\\lib\\site-packages (from jedi>=0.10->ipython>=5.3.0->cufflinks) (0.5.0)\n",
      "Requirement already satisfied: notebook>=4.4.1 in c:\\users\\lillian\\anaconda3\\lib\\site-packages (from widgetsnbextension~=3.5.0->ipywidgets>=7.0.0->cufflinks) (6.0.0)\n",
      "Requirement already satisfied: jupyter-client in c:\\users\\lillian\\anaconda3\\lib\\site-packages (from ipykernel>=4.5.1->ipywidgets>=7.0.0->cufflinks) (5.3.1)\n",
      "Requirement already satisfied: tornado>=4.2 in c:\\users\\lillian\\anaconda3\\lib\\site-packages (from ipykernel>=4.5.1->ipywidgets>=7.0.0->cufflinks) (6.0.3)\n",
      "Requirement already satisfied: attrs>=17.4.0 in c:\\users\\lillian\\anaconda3\\lib\\site-packages (from jsonschema!=2.5.0,>=2.4->nbformat>=4.2->plotly<4.0.0a0,>=3.0.0->cufflinks) (19.1.0)\n",
      "Requirement already satisfied: pyrsistent>=0.14.0 in c:\\users\\lillian\\anaconda3\\lib\\site-packages (from jsonschema!=2.5.0,>=2.4->nbformat>=4.2->plotly<4.0.0a0,>=3.0.0->cufflinks) (0.14.11)\n",
      "Requirement already satisfied: pyzmq>=17 in c:\\users\\lillian\\anaconda3\\lib\\site-packages (from notebook>=4.4.1->widgetsnbextension~=3.5.0->ipywidgets>=7.0.0->cufflinks) (18.0.0)\n",
      "Requirement already satisfied: nbconvert in c:\\users\\lillian\\anaconda3\\lib\\site-packages (from notebook>=4.4.1->widgetsnbextension~=3.5.0->ipywidgets>=7.0.0->cufflinks) (5.5.0)\n",
      "Requirement already satisfied: jinja2 in c:\\users\\lillian\\anaconda3\\lib\\site-packages (from notebook>=4.4.1->widgetsnbextension~=3.5.0->ipywidgets>=7.0.0->cufflinks) (2.10.1)\n",
      "Requirement already satisfied: prometheus-client in c:\\users\\lillian\\anaconda3\\lib\\site-packages (from notebook>=4.4.1->widgetsnbextension~=3.5.0->ipywidgets>=7.0.0->cufflinks) (0.7.1)\n",
      "Requirement already satisfied: terminado>=0.8.1 in c:\\users\\lillian\\anaconda3\\lib\\site-packages (from notebook>=4.4.1->widgetsnbextension~=3.5.0->ipywidgets>=7.0.0->cufflinks) (0.8.2)\n",
      "Requirement already satisfied: Send2Trash in c:\\users\\lillian\\anaconda3\\lib\\site-packages (from notebook>=4.4.1->widgetsnbextension~=3.5.0->ipywidgets>=7.0.0->cufflinks) (1.5.0)\n",
      "Requirement already satisfied: pandocfilters>=1.4.1 in c:\\users\\lillian\\anaconda3\\lib\\site-packages (from nbconvert->notebook>=4.4.1->widgetsnbextension~=3.5.0->ipywidgets>=7.0.0->cufflinks) (1.4.2)\n",
      "Requirement already satisfied: entrypoints>=0.2.2 in c:\\users\\lillian\\anaconda3\\lib\\site-packages (from nbconvert->notebook>=4.4.1->widgetsnbextension~=3.5.0->ipywidgets>=7.0.0->cufflinks) (0.3)\n",
      "Requirement already satisfied: defusedxml in c:\\users\\lillian\\anaconda3\\lib\\site-packages (from nbconvert->notebook>=4.4.1->widgetsnbextension~=3.5.0->ipywidgets>=7.0.0->cufflinks) (0.6.0)\n",
      "Requirement already satisfied: testpath in c:\\users\\lillian\\anaconda3\\lib\\site-packages (from nbconvert->notebook>=4.4.1->widgetsnbextension~=3.5.0->ipywidgets>=7.0.0->cufflinks) (0.4.2)\n",
      "Requirement already satisfied: bleach in c:\\users\\lillian\\anaconda3\\lib\\site-packages (from nbconvert->notebook>=4.4.1->widgetsnbextension~=3.5.0->ipywidgets>=7.0.0->cufflinks) (3.1.0)\n",
      "Requirement already satisfied: mistune>=0.8.1 in c:\\users\\lillian\\anaconda3\\lib\\site-packages (from nbconvert->notebook>=4.4.1->widgetsnbextension~=3.5.0->ipywidgets>=7.0.0->cufflinks) (0.8.4)\n",
      "Requirement already satisfied: MarkupSafe>=0.23 in c:\\users\\lillian\\anaconda3\\lib\\site-packages (from jinja2->notebook>=4.4.1->widgetsnbextension~=3.5.0->ipywidgets>=7.0.0->cufflinks) (1.1.1)\n",
      "Requirement already satisfied: webencodings in c:\\users\\lillian\\anaconda3\\lib\\site-packages (from bleach->nbconvert->notebook>=4.4.1->widgetsnbextension~=3.5.0->ipywidgets>=7.0.0->cufflinks) (0.5.1)\n",
      "Building wheels for collected packages: cufflinks\n",
      "  Building wheel for cufflinks (setup.py): started\n",
      "  Building wheel for cufflinks (setup.py): finished with status 'done'\n",
      "  Stored in directory: C:\\Users\\Lillian\\AppData\\Local\\pip\\Cache\\wheels\\8d\\5a\\6f\\c97d47dc901071611809eb61aaa477d50a60692dc764dca622\n",
      "Successfully built cufflinks\n",
      "Installing collected packages: plotly, colorlover, cufflinks\n",
      "  Found existing installation: plotly 4.1.1\n",
      "    Uninstalling plotly-4.1.1:\n",
      "      Successfully uninstalled plotly-4.1.1\n",
      "Successfully installed colorlover-0.3.0 cufflinks-0.16 plotly-3.10.0\n"
     ]
    }
   ],
   "source": [
    "! pip install cufflinks"
   ]
  },
  {
   "cell_type": "code",
   "execution_count": 3,
   "metadata": {},
   "outputs": [],
   "source": [
    "import numpy as np\n",
    "import pandas as pd\n",
    "\n",
    "import cufflinks as cf\n",
    "\n",
    "import plotly.plotly as py\n",
    "import plotly.tools as tls\n",
    "import plotly.graph_objs as go"
   ]
  },
  {
   "cell_type": "code",
   "execution_count": 7,
   "metadata": {},
   "outputs": [],
   "source": [
    "tls.set_credentials_file(username='', api_key='')"
   ]
  },
  {
   "cell_type": "markdown",
   "metadata": {},
   "source": [
    "### Creating line charts"
   ]
  },
  {
   "cell_type": "markdown",
   "metadata": {},
   "source": [
    "#### A very basic line chart"
   ]
  },
  {
   "cell_type": "code",
   "execution_count": null,
   "metadata": {},
   "outputs": [],
   "source": []
  },
  {
   "cell_type": "markdown",
   "metadata": {},
   "source": [
    "#### A line chart from a pandas dataframe "
   ]
  },
  {
   "cell_type": "code",
   "execution_count": null,
   "metadata": {},
   "outputs": [],
   "source": []
  },
  {
   "cell_type": "markdown",
   "metadata": {},
   "source": [
    "### Creating bar charts"
   ]
  },
  {
   "cell_type": "code",
   "execution_count": null,
   "metadata": {},
   "outputs": [],
   "source": []
  },
  {
   "cell_type": "code",
   "execution_count": null,
   "metadata": {},
   "outputs": [],
   "source": []
  },
  {
   "cell_type": "markdown",
   "metadata": {},
   "source": [
    "### Creating pie charts"
   ]
  },
  {
   "cell_type": "code",
   "execution_count": null,
   "metadata": {},
   "outputs": [],
   "source": []
  },
  {
   "cell_type": "code",
   "execution_count": null,
   "metadata": {},
   "outputs": [],
   "source": []
  }
 ],
 "metadata": {
  "anaconda-cloud": {},
  "kernelspec": {
   "display_name": "Python 3",
   "language": "python",
   "name": "python3"
  },
  "language_info": {
   "codemirror_mode": {
    "name": "ipython",
    "version": 3
   },
   "file_extension": ".py",
   "mimetype": "text/x-python",
   "name": "python",
   "nbconvert_exporter": "python",
   "pygments_lexer": "ipython3",
   "version": "3.7.3"
  }
 },
 "nbformat": 4,
 "nbformat_minor": 1
}

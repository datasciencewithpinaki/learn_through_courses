{
 "cells": [
  {
   "cell_type": "code",
   "execution_count": 1,
   "id": "d8dce30f-cd25-454e-9b48-e4b21416b080",
   "metadata": {
    "tags": []
   },
   "outputs": [],
   "source": [
    "import itertools"
   ]
  },
  {
   "cell_type": "code",
   "execution_count": null,
   "id": "7768886a-3b32-45e9-8748-6c782997f481",
   "metadata": {},
   "outputs": [],
   "source": []
  },
  {
   "cell_type": "code",
   "execution_count": 2,
   "id": "c81cad7e-1636-4de6-b7c2-41b131a6f5db",
   "metadata": {
    "tags": []
   },
   "outputs": [
    {
     "data": {
      "text/plain": [
       "<generator object <genexpr> at 0x107a36e30>"
      ]
     },
     "execution_count": 2,
     "metadata": {},
     "output_type": "execute_result"
    }
   ],
   "source": [
    "myiter = (idx for idx in range(20) if idx%2==0)\n",
    "myiter"
   ]
  },
  {
   "cell_type": "code",
   "execution_count": 3,
   "id": "50a9250e-4549-4186-9e0a-72c2c943d100",
   "metadata": {
    "tags": []
   },
   "outputs": [
    {
     "data": {
      "text/plain": [
       "[0, 2, 4, 6, 8, 10, 12, 14, 16, 18]"
      ]
     },
     "execution_count": 3,
     "metadata": {},
     "output_type": "execute_result"
    }
   ],
   "source": [
    "list(myiter)"
   ]
  },
  {
   "cell_type": "code",
   "execution_count": 21,
   "id": "83b07457-2144-49dd-bbf9-6d58e96ba260",
   "metadata": {
    "tags": []
   },
   "outputs": [
    {
     "name": "stdout",
     "output_type": "stream",
     "text": [
      "0\n",
      "1\n",
      "2\n",
      "3\n",
      "4\n",
      "5\n",
      "6\n",
      "7\n",
      "8\n",
      "9\n"
     ]
    }
   ],
   "source": [
    "res = itertools.count()\n",
    "\n",
    "i=0\n",
    "while i<10:\n",
    "    try:\n",
    "        print(next(res))\n",
    "    except StopIteration:\n",
    "        break\n",
    "    i+=1"
   ]
  },
  {
   "cell_type": "code",
   "execution_count": 22,
   "id": "69129841-257b-41b5-bf20-6c152cf25bbd",
   "metadata": {
    "tags": []
   },
   "outputs": [
    {
     "name": "stdout",
     "output_type": "stream",
     "text": [
      "('a', 'b')\n",
      "('a', 'c')\n",
      "('a', 'd')\n",
      "('b', 'c')\n",
      "('b', 'd')\n",
      "('c', 'd')\n"
     ]
    }
   ],
   "source": [
    "res = itertools.combinations(('a', 'b', 'c', 'd'), 2)\n",
    "\n",
    "i=0\n",
    "while True:\n",
    "    try:\n",
    "        print(next(res))\n",
    "    except StopIteration:\n",
    "        break\n",
    "    i+=1"
   ]
  },
  {
   "cell_type": "code",
   "execution_count": 23,
   "id": "f40653d5-ca10-4055-b35b-2675b5a99dd8",
   "metadata": {
    "tags": []
   },
   "outputs": [
    {
     "name": "stdout",
     "output_type": "stream",
     "text": [
      "('a', 'b')\n",
      "('a', 'c')\n",
      "('a', 'd')\n",
      "('b', 'a')\n",
      "('b', 'c')\n",
      "('b', 'd')\n",
      "('c', 'a')\n",
      "('c', 'b')\n",
      "('c', 'd')\n",
      "('d', 'a')\n",
      "('d', 'b')\n",
      "('d', 'c')\n"
     ]
    }
   ],
   "source": [
    "res = itertools.permutations(('a', 'b', 'c', 'd'), 2)\n",
    "\n",
    "i=0\n",
    "while True:\n",
    "    try:\n",
    "        print(next(res))\n",
    "    except StopIteration:\n",
    "        break\n",
    "    i+=1"
   ]
  },
  {
   "cell_type": "code",
   "execution_count": 24,
   "id": "c27b7daf-69fd-488a-a265-6c5c005708f5",
   "metadata": {
    "tags": []
   },
   "outputs": [
    {
     "name": "stdout",
     "output_type": "stream",
     "text": [
      "10\n",
      "20\n",
      "30\n",
      "40\n",
      "50\n"
     ]
    }
   ],
   "source": [
    "res = itertools.chain((10,20,30,40,50))\n",
    "\n",
    "i=0\n",
    "while True:\n",
    "    try:\n",
    "        print(next(res))\n",
    "    except StopIteration:\n",
    "        break\n",
    "    i+=1"
   ]
  },
  {
   "cell_type": "code",
   "execution_count": 25,
   "id": "1fd0551e-9e5d-40a3-9a20-21017f1e57e2",
   "metadata": {
    "tags": []
   },
   "outputs": [
    {
     "name": "stdout",
     "output_type": "stream",
     "text": [
      "0\n",
      "1\n",
      "0\n",
      "1\n",
      "0\n",
      "1\n",
      "0\n",
      "1\n",
      "0\n",
      "1\n"
     ]
    }
   ],
   "source": [
    "res = itertools.cycle((0,1))\n",
    "\n",
    "i=0\n",
    "while i<10:\n",
    "    try:\n",
    "        print(next(res))\n",
    "    except StopIteration:\n",
    "        break\n",
    "    i+=1"
   ]
  },
  {
   "cell_type": "code",
   "execution_count": 26,
   "id": "1b172f3e-9c10-419b-b45f-e5aeaf5c17d7",
   "metadata": {
    "tags": []
   },
   "outputs": [
    {
     "name": "stdout",
     "output_type": "stream",
     "text": [
      "('i1', 'w1')\n",
      "('i1', 'w2')\n",
      "('i1', 'w3')\n",
      "('i1', 'w4')\n",
      "('i2', 'w1')\n",
      "('i2', 'w2')\n",
      "('i2', 'w3')\n",
      "('i2', 'w4')\n",
      "('i3', 'w1')\n",
      "('i3', 'w2')\n",
      "('i3', 'w3')\n",
      "('i3', 'w4')\n"
     ]
    }
   ],
   "source": [
    "res = itertools.product(('i1', 'i2', 'i3'), ('w1', 'w2', 'w3', 'w4'))\n",
    "\n",
    "i=0\n",
    "while True:\n",
    "    try:\n",
    "        print(next(res))\n",
    "    except StopIteration:\n",
    "        break\n",
    "    i+=1"
   ]
  },
  {
   "cell_type": "code",
   "execution_count": 27,
   "id": "b66b9a7f-c68f-4e7f-81e2-1c280f8d9f90",
   "metadata": {
    "tags": []
   },
   "outputs": [
    {
     "name": "stdout",
     "output_type": "stream",
     "text": [
      "10\n",
      "20\n",
      "30\n",
      "100\n",
      "200\n",
      "300\n",
      "piku\n",
      "ari\n",
      "tultuli\n",
      "arjun\n"
     ]
    }
   ],
   "source": [
    "# 3 separate genenerators\n",
    "a1 = (i for i in [10,20,30])\n",
    "a2 = (i for i in [100,200,300])\n",
    "a3 = (i for i in ['piku', 'ari', 'tultuli', 'arjun'])\n",
    "\n",
    "# chain all the above without increasing memory consumption\n",
    "res = itertools.chain(a1,a2,a3)\n",
    "\n",
    "i=0\n",
    "while True:\n",
    "    try:\n",
    "        print(next(res))\n",
    "    except StopIteration:\n",
    "        break\n",
    "    i+=1\n",
    "    \n",
    "del(a1, a2, a3)"
   ]
  },
  {
   "cell_type": "code",
   "execution_count": 30,
   "id": "2f8f56ed-f3ca-49c8-bb0b-41319e61267a",
   "metadata": {
    "tags": []
   },
   "outputs": [
    {
     "name": "stdout",
     "output_type": "stream",
     "text": [
      "10\n",
      "200\n",
      "6000\n"
     ]
    }
   ],
   "source": [
    "import operator\n",
    "\n",
    "a1 = (i for i in [10,20,30])\n",
    "res = itertools.accumulate(a1)  # default func is sum\n",
    "res = itertools.accumulate(a1, operator.mul)\n",
    "\n",
    "i=0\n",
    "while i<10:\n",
    "    try:\n",
    "        print(next(res))\n",
    "    except StopIteration:\n",
    "        break\n",
    "    i+=1"
   ]
  },
  {
   "cell_type": "code",
   "execution_count": 21,
   "id": "27794c2a-b1af-40f9-a726-225b9cd749a2",
   "metadata": {
    "tags": []
   },
   "outputs": [
    {
     "name": "stdout",
     "output_type": "stream",
     "text": [
      "0\n",
      "1\n",
      "2\n",
      "3\n",
      "4\n",
      "5\n",
      "6\n",
      "7\n",
      "8\n",
      "9\n"
     ]
    }
   ],
   "source": [
    "res = itertools.islice()\n",
    "\n",
    "i=0\n",
    "while i<10:\n",
    "    try:\n",
    "        print(next(res))\n",
    "    except StopIteration:\n",
    "        break\n",
    "    i+=1"
   ]
  },
  {
   "cell_type": "code",
   "execution_count": null,
   "id": "2ab96329-634c-4be4-8d04-4659c640832b",
   "metadata": {},
   "outputs": [],
   "source": [
    "operator."
   ]
  },
  {
   "cell_type": "code",
   "execution_count": null,
   "id": "90eb91f9-eb28-4798-8a08-5855e8eb5f0c",
   "metadata": {},
   "outputs": [],
   "source": []
  },
  {
   "cell_type": "code",
   "execution_count": null,
   "id": "5edb0a40-3d6b-4209-b7d5-d6ad29b39a4f",
   "metadata": {},
   "outputs": [],
   "source": []
  }
 ],
 "metadata": {
  "kernelspec": {
   "display_name": "Python 3 (ipykernel)",
   "language": "python",
   "name": "python3"
  },
  "language_info": {
   "codemirror_mode": {
    "name": "ipython",
    "version": 3
   },
   "file_extension": ".py",
   "mimetype": "text/x-python",
   "name": "python",
   "nbconvert_exporter": "python",
   "pygments_lexer": "ipython3",
   "version": "3.10.9"
  }
 },
 "nbformat": 4,
 "nbformat_minor": 5
}

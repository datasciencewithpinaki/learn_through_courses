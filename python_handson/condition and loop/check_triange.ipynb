{
 "cells": [
  {
   "cell_type": "code",
   "execution_count": 10,
   "metadata": {},
   "outputs": [],
   "source": [
    "# ---------------------------------------------------------------\n",
    "# python best courses https://courses.tanpham.org/\n",
    "# ---------------------------------------------------------------\n",
    "# Write a Python program to check a triangle is valid or not"
   ]
  },
  {
   "cell_type": "code",
   "execution_count": 11,
   "metadata": {},
   "outputs": [
    {
     "name": "stdout",
     "output_type": "stream",
     "text": [
      "enter dimension of side 1 of triangle: 15\n",
      "enter dimension of side 2 of triangle: 6\n",
      "enter dimension of side 3 of triangle: 5\n"
     ]
    }
   ],
   "source": [
    "s1 = int(input('enter dimension of side 1 of triangle: '))\n",
    "s2 = int(input('enter dimension of side 2 of triangle: '))\n",
    "s3 = int(input('enter dimension of side 3 of triangle: '))"
   ]
  },
  {
   "cell_type": "code",
   "execution_count": 12,
   "metadata": {},
   "outputs": [
    {
     "name": "stdout",
     "output_type": "stream",
     "text": [
      "Sides of the triangle are found to be VALID\n"
     ]
    }
   ],
   "source": [
    "def validateTriangleSides:\n",
    "    max_s = max(s1,s2,s3)\n",
    "    if max_s > (s1+s2+s3 - max_s):\n",
    "        print('Sides of the triangle are found to be VALID')\n",
    "    else: \n",
    "        print('Sides of the triangle are found to be INVALID')"
   ]
  },
  {
   "cell_type": "code",
   "execution_count": null,
   "metadata": {},
   "outputs": [],
   "source": []
  }
 ],
 "metadata": {
  "kernelspec": {
   "display_name": "Python 3",
   "language": "python",
   "name": "python3"
  },
  "language_info": {
   "codemirror_mode": {
    "name": "ipython",
    "version": 3
   },
   "file_extension": ".py",
   "mimetype": "text/x-python",
   "name": "python",
   "nbconvert_exporter": "python",
   "pygments_lexer": "ipython3",
   "version": "3.7.4"
  }
 },
 "nbformat": 4,
 "nbformat_minor": 2
}

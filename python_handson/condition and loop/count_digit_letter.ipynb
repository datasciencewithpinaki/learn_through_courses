{
 "cells": [
  {
   "cell_type": "code",
   "execution_count": null,
   "metadata": {
    "collapsed": true
   },
   "outputs": [],
   "source": [
    "# ---------------------------------------------------------------\n",
    "# python best courses https://courses.tanpham.org/\n",
    "# ---------------------------------------------------------------\n",
    "# Write a Python program that accepts a string and calculate the number of digits and letters\n",
    "# Sample Data : \"Python 3.2\"\n",
    "# Expected Output :\n",
    "# Letters 6 \n",
    "# Digits 2"
   ]
  },
  {
   "cell_type": "code",
   "execution_count": 1,
   "metadata": {},
   "outputs": [
    {
     "name": "stdout",
     "output_type": "stream",
     "text": [
      "Enter a string: Help me. i live in 43rd street\n"
     ]
    }
   ],
   "source": [
    "sentence = input('Enter a string: ')"
   ]
  },
  {
   "cell_type": "code",
   "execution_count": 6,
   "metadata": {},
   "outputs": [
    {
     "name": "stdout",
     "output_type": "stream",
     "text": [
      "Letters: 21\n",
      "Digits: 2\n"
     ]
    }
   ],
   "source": [
    "d = l = 0\n",
    "for s in sentence:\n",
    "    if s.isdigit():\n",
    "        d +=1\n",
    "    if s.isalpha():\n",
    "        l +=1\n",
    "print('Letters:', l)\n",
    "print('Digits:', d)"
   ]
  },
  {
   "cell_type": "code",
   "execution_count": null,
   "metadata": {},
   "outputs": [],
   "source": []
  }
 ],
 "metadata": {
  "kernelspec": {
   "display_name": "Python 3",
   "language": "python",
   "name": "python3"
  },
  "language_info": {
   "codemirror_mode": {
    "name": "ipython",
    "version": 3
   },
   "file_extension": ".py",
   "mimetype": "text/x-python",
   "name": "python",
   "nbconvert_exporter": "python",
   "pygments_lexer": "ipython3",
   "version": "3.7.4"
  }
 },
 "nbformat": 4,
 "nbformat_minor": 2
}

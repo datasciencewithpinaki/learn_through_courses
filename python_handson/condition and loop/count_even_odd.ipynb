{
 "cells": [
  {
   "cell_type": "code",
   "execution_count": null,
   "metadata": {
    "collapsed": true
   },
   "outputs": [],
   "source": [
    "# Count the number of even and odd numbers from a series of numbers\n",
    "# Input \n",
    "# numbers = (1, 2, 3, 4, 5, 6, 7, 8, 9) # Declaring the tuple\n",
    "# Output\n",
    "# Number of even numbers : 4                                                                                    \n",
    "# Number of odd numbers : 5 "
   ]
  },
  {
   "cell_type": "code",
   "execution_count": 18,
   "metadata": {},
   "outputs": [
    {
     "name": "stdout",
     "output_type": "stream",
     "text": [
      "how many numbers you want to enter: 15\n",
      "Enter digit: 23\n",
      "Enter digit: 45\n",
      "Enter digit: 23\n",
      "Enter digit: 67\n",
      "Enter digit: 43\n",
      "Enter digit: 11\n",
      "Enter digit: 56\n",
      "Enter digit: 89\n",
      "Enter digit: 543\n",
      "Enter digit: 111\n",
      "[23, 45, 23, 67, 43, 11, 56, 89, 543, 111]\n"
     ]
    }
   ],
   "source": [
    "counter = int(input('how many numbers you want to enter: '))\n",
    "if counter > 10:\n",
    "    counter = 10\n",
    "import numpy as np\n",
    "numbers = list()\n",
    "for i in range(counter):\n",
    "    numbers.append(int(input('Enter digit: ')))\n",
    "print(numbers)"
   ]
  },
  {
   "cell_type": "code",
   "execution_count": 20,
   "metadata": {},
   "outputs": [
    {
     "name": "stdout",
     "output_type": "stream",
     "text": [
      "Even: 1 Odd: 9\n"
     ]
    }
   ],
   "source": [
    "even = odd = 0\n",
    "for i in numbers:\n",
    "    if (i%2) == 0:\n",
    "        even += 1\n",
    "    else: \n",
    "        odd += 1\n",
    "print('Even: '+ str(even) + ' Odd: '+ str(odd))"
   ]
  },
  {
   "cell_type": "code",
   "execution_count": null,
   "metadata": {},
   "outputs": [],
   "source": []
  }
 ],
 "metadata": {
  "kernelspec": {
   "display_name": "Python 3",
   "language": "python",
   "name": "python3"
  },
  "language_info": {
   "codemirror_mode": {
    "name": "ipython",
    "version": 3
   },
   "file_extension": ".py",
   "mimetype": "text/x-python",
   "name": "python",
   "nbconvert_exporter": "python",
   "pygments_lexer": "ipython3",
   "version": "3.7.4"
  }
 },
 "nbformat": 4,
 "nbformat_minor": 2
}

{
 "cells": [
  {
   "cell_type": "code",
   "execution_count": null,
   "metadata": {
    "collapsed": true
   },
   "outputs": [],
   "source": [
    "# Generate a random number between 1 and 9 (including 1 and 9).\n",
    "# Ask the user to guess the number, then tell them whether they guessed too low, too high, or exactly right. \n"
   ]
  },
  {
   "cell_type": "code",
   "execution_count": 8,
   "metadata": {},
   "outputs": [
    {
     "name": "stdout",
     "output_type": "stream",
     "text": [
      "Guess a number between 1 and 9: 3\n",
      "Enter a larger number\n",
      "Guess a number between 1 and 9: 5\n",
      "Enter a larger number\n",
      "Guess a number between 1 and 9: 7\n",
      "You guessed the right number in 3 attempts\n"
     ]
    }
   ],
   "source": [
    "start, end = 1,9\n",
    "\n",
    "import random\n",
    "target = random.randint(start,end)\n",
    "\n",
    "guess_cnt = 1\n",
    "while(guess_cnt < 10):\n",
    "    user_guess = int(input('Guess a number between '+ str(start)+' and '+str(end)+': '))\n",
    "    if user_guess == target: \n",
    "        print('You guessed the right number in '+ str(guess_cnt)+' attempts')\n",
    "        break\n",
    "    if user_guess < target:\n",
    "        print('Enter a larger number')\n",
    "        guess_cnt += 1\n",
    "        next\n",
    "    if user_guess > target:\n",
    "        print('Enter a smaller number')\n",
    "        guess_cnt += 1\n",
    "        next\n"
   ]
  },
  {
   "cell_type": "code",
   "execution_count": null,
   "metadata": {},
   "outputs": [],
   "source": []
  }
 ],
 "metadata": {
  "kernelspec": {
   "display_name": "Python 3",
   "language": "python",
   "name": "python3"
  },
  "language_info": {
   "codemirror_mode": {
    "name": "ipython",
    "version": 3
   },
   "file_extension": ".py",
   "mimetype": "text/x-python",
   "name": "python",
   "nbconvert_exporter": "python",
   "pygments_lexer": "ipython3",
   "version": "3.7.4"
  }
 },
 "nbformat": 4,
 "nbformat_minor": 2
}

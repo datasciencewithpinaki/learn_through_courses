{
 "cells": [
  {
   "cell_type": "code",
   "execution_count": null,
   "metadata": {
    "collapsed": true
   },
   "outputs": [],
   "source": [
    "# Write a Python program to check the validity of a password (input from users).\n",
    "\n",
    "# Validation :\n",
    "\n",
    "# At least 1 letter between [a-z] and 1 letter between [A-Z].\n",
    "# At least 1 number between [0-9].\n",
    "# At least 1 character from [$#@].\n",
    "# Minimum length 6 characters.\n",
    "# Maximum length 16 characters.\n",
    "\n",
    "# Input\n",
    "# W3r@100a #Pa$$w0rd\n",
    "# Output\n",
    "# Valid password"
   ]
  },
  {
   "cell_type": "code",
   "execution_count": 19,
   "metadata": {},
   "outputs": [
    {
     "name": "stdout",
     "output_type": "stream",
     "text": [
      "Enter password: W3r@100a\n"
     ]
    }
   ],
   "source": [
    "pwd = input('Enter password: ')"
   ]
  },
  {
   "cell_type": "code",
   "execution_count": 20,
   "metadata": {},
   "outputs": [
    {
     "name": "stdout",
     "output_type": "stream",
     "text": [
      "Valid Password\n"
     ]
    }
   ],
   "source": [
    "min_len, max_len = 6, 16\n",
    "l=d=s=0\n",
    "for c in pwd: \n",
    "    if c.isdigit(): \n",
    "        d +=1\n",
    "    if c.isalpha():\n",
    "        l +=1\n",
    "    else:\n",
    "        s +=1\n",
    "if len(pwd) >= min_len and len(pwd) <= max_len and d>=1 and l>=1 and s-1>=1:\n",
    "    print('Valid Password')\n",
    "else: \n",
    "    print('Invalid Password')"
   ]
  },
  {
   "cell_type": "code",
   "execution_count": 21,
   "metadata": {},
   "outputs": [
    {
     "name": "stdout",
     "output_type": "stream",
     "text": [
      "4 3 4 8\n"
     ]
    }
   ],
   "source": [
    "print(d, l, s-1, len(pwd))"
   ]
  }
 ],
 "metadata": {
  "kernelspec": {
   "display_name": "Python 3",
   "language": "python",
   "name": "python3"
  },
  "language_info": {
   "codemirror_mode": {
    "name": "ipython",
    "version": 3
   },
   "file_extension": ".py",
   "mimetype": "text/x-python",
   "name": "python",
   "nbconvert_exporter": "python",
   "pygments_lexer": "ipython3",
   "version": "3.7.4"
  }
 },
 "nbformat": 4,
 "nbformat_minor": 2
}

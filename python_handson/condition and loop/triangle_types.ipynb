{
 "cells": [
  {
   "cell_type": "code",
   "execution_count": null,
   "metadata": {
    "collapsed": true
   },
   "outputs": [],
   "source": [
    "# Write a Python program to check a triangle is equilateral, isosceles or scalene.\n",
    "# Note :\n",
    "# An equilateral triangle is a triangle in which all three sides are equal.\n",
    "# A scalene triangle is a triangle that has three unequal sides.\n",
    "# An isosceles triangle is a triangle with (at least) two equal sides."
   ]
  },
  {
   "cell_type": "code",
   "execution_count": 29,
   "metadata": {},
   "outputs": [],
   "source": [
    "def inputSides():    \n",
    "    s=[]\n",
    "    print('You will be entering the three sides of a triangle')\n",
    "    for i in range(3):\n",
    "        s.append(int(input('Enter side '+str(i+1)+': ')))\n",
    "    print(s)\n",
    "    return(s)"
   ]
  },
  {
   "cell_type": "code",
   "execution_count": 30,
   "metadata": {},
   "outputs": [],
   "source": [
    "def whichTriangle(s):\n",
    "    if s[0]==s[1] and s[1]==s[2]:\n",
    "        print('Triangle is equilateral')\n",
    "    elif s[0]==s[1] or s[0]==s[2] or s[1]==s[2]:\n",
    "        print('Triangle is isosceles')\n",
    "    else: \n",
    "        print('Triangle is Scalene')"
   ]
  },
  {
   "cell_type": "code",
   "execution_count": 37,
   "metadata": {},
   "outputs": [
    {
     "name": "stdout",
     "output_type": "stream",
     "text": [
      "You will be entering the three sides of a triangle\n",
      "Enter side 1: 11\n",
      "Enter side 2: 1\n",
      "Enter side 3: 3\n",
      "[11, 1, 3]\n"
     ]
    }
   ],
   "source": [
    "s=inputSides()"
   ]
  },
  {
   "cell_type": "code",
   "execution_count": 39,
   "metadata": {},
   "outputs": [
    {
     "name": "stdout",
     "output_type": "stream",
     "text": [
      "Sides of the triangle are INVALID\n"
     ]
    }
   ],
   "source": [
    "# Test for valid sides\n",
    "max_s = max(s)\n",
    "if max_s <= (sum(s)-max_s):\n",
    "    print(\"Sides of the triangle are VALID\")\n",
    "    whichTriangle(s)\n",
    "else:\n",
    "    print(\"Sides of the triangle are INVALID\")"
   ]
  }
 ],
 "metadata": {
  "kernelspec": {
   "display_name": "Python 3",
   "language": "python",
   "name": "python3"
  },
  "language_info": {
   "codemirror_mode": {
    "name": "ipython",
    "version": 3
   },
   "file_extension": ".py",
   "mimetype": "text/x-python",
   "name": "python",
   "nbconvert_exporter": "python",
   "pygments_lexer": "ipython3",
   "version": "3.7.4"
  }
 },
 "nbformat": 4,
 "nbformat_minor": 2
}

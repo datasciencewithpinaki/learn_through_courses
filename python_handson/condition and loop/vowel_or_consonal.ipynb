{
 "cells": [
  {
   "cell_type": "code",
   "execution_count": null,
   "metadata": {
    "collapsed": true
   },
   "outputs": [],
   "source": [
    "# Write a Python program to check whether an alphabet is a vowel or consonant\n"
   ]
  },
  {
   "cell_type": "code",
   "execution_count": 5,
   "metadata": {},
   "outputs": [
    {
     "name": "stdout",
     "output_type": "stream",
     "text": [
      "Enter an alphabet: e\n"
     ]
    }
   ],
   "source": [
    "import re\n",
    "vowel = ['a','e','i','o','u']\n",
    "user_input = input('Enter an alphabet: ')"
   ]
  },
  {
   "cell_type": "code",
   "execution_count": 6,
   "metadata": {},
   "outputs": [
    {
     "name": "stdout",
     "output_type": "stream",
     "text": [
      "Alphabet entered e is a Vowel\n"
     ]
    }
   ],
   "source": [
    "if user_input.isalpha():\n",
    "    if user_input in vowel:\n",
    "        print('Alphabet entered {0} is a Vowel'.format(user_input))\n",
    "    else:\n",
    "        print('Alphabet entered {0} is a Consonant'.format(user_input))\n",
    "else:\n",
    "    print('Entered character is not an alphabet')"
   ]
  },
  {
   "cell_type": "code",
   "execution_count": null,
   "metadata": {},
   "outputs": [],
   "source": []
  }
 ],
 "metadata": {
  "kernelspec": {
   "display_name": "Python 3",
   "language": "python",
   "name": "python3"
  },
  "language_info": {
   "codemirror_mode": {
    "name": "ipython",
    "version": 3
   },
   "file_extension": ".py",
   "mimetype": "text/x-python",
   "name": "python",
   "nbconvert_exporter": "python",
   "pygments_lexer": "ipython3",
   "version": "3.7.4"
  }
 },
 "nbformat": 4,
 "nbformat_minor": 2
}

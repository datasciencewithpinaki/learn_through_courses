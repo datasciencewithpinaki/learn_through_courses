{
 "cells": [
  {
   "cell_type": "markdown",
   "metadata": {},
   "source": [
    "# COURSE: Master statistics and machine learning: Intuition, Math, code\n",
    "##### COURSE URL: udemy.com/course/statsml_x/?couponCode=202304 \n",
    "## SECTION: The t-test family\n",
    "### VIDEO: One-sample t-test\n",
    "#### TEACHER: Mike X Cohen, sincxpress.com"
   ]
  },
  {
   "cell_type": "code",
   "execution_count": 1,
   "metadata": {},
   "outputs": [],
   "source": [
    "# import libraries\n",
    "import matplotlib.pyplot as plt\n",
    "import numpy as np\n",
    "import scipy.stats as stats"
   ]
  },
  {
   "cell_type": "code",
   "execution_count": null,
   "metadata": {},
   "outputs": [],
   "source": [
    "## generate the data\n",
    "\n",
    "# parameters\n",
    "N = 20  # sample size\n",
    "popMu = .5 # true population mean\n",
    "data  = np.random.randn(N) + popMu\n",
    "\n",
    "# let's see what the data look(s) like\n",
    "plt.plot(data,'ko-',markerfacecolor='w',markersize=10)\n",
    "plt.xlabel('Data index')\n",
    "plt.ylabel('Data value')\n",
    "plt.show()\n",
    "\n",
    "### question: Should there be lines in this plot?"
   ]
  },
  {
   "cell_type": "code",
   "execution_count": null,
   "metadata": {},
   "outputs": [],
   "source": [
    "## \"manual\" t-test\n",
    "\n",
    "# the null-hypothesis value\n",
    "H0val = 0\n",
    "\n",
    "# compute the t-value\n",
    "t_num = np.mean(data) - H0val\n",
    "t_den = np.std(data) / np.sqrt(N)\n",
    "tval = t_num / t_den\n",
    "\n",
    "# degrees of freedom\n",
    "df = N-1\n",
    "\n",
    "# p-value\n",
    "pval = 1-stats.t.cdf(abs(tval),df)\n",
    "\n",
    "# show the H0 parameter distribution and observed t-value\n",
    "x = np.linspace(-4,4,1001)\n",
    "tdist = stats.t.pdf(x,df) * np.mean(np.diff(x))\n",
    "\n",
    "plt.plot(x,tdist,linewidth=2)\n",
    "plt.plot([tval,tval],[0,max(tdist)],'r--')\n",
    "plt.legend(('H_0 distribution','Observed t-value'))\n",
    "plt.xlabel('t-value')\n",
    "plt.ylabel('pdf(t)')\n",
    "plt.title('t(%g) = %g, p=%g'%(df,tval,pval))\n",
    "plt.show()"
   ]
  },
  {
   "cell_type": "code",
   "execution_count": null,
   "metadata": {},
   "outputs": [],
   "source": [
    "## now using the Python function\n",
    "\n",
    "t,p = stats.ttest_1samp(data,H0val)\n",
    "\n",
    "print(t,p)\n",
    "# do these values match our manually computed values?"
   ]
  }
 ],
 "metadata": {
  "kernelspec": {
   "display_name": "Python 3",
   "language": "python",
   "name": "python3"
  },
  "language_info": {
   "codemirror_mode": {
    "name": "ipython",
    "version": 3
   },
   "file_extension": ".py",
   "mimetype": "text/x-python",
   "name": "python",
   "nbconvert_exporter": "python",
   "pygments_lexer": "ipython3",
   "version": "3.7.3"
  }
 },
 "nbformat": 4,
 "nbformat_minor": 2
}

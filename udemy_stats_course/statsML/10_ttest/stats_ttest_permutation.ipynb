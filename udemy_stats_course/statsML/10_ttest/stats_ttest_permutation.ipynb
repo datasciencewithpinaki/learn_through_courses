{
 "cells": [
  {
   "cell_type": "markdown",
   "metadata": {},
   "source": [
    "# COURSE: Master statistics and machine learning: Intuition, Math, code\n",
    "##### COURSE URL: udemy.com/course/statsml_x/?couponCode=202304 \n",
    "## SECTION: The t-test family\n",
    "### VIDEO: Permutation testing\n",
    "#### TEACHER: Mike X Cohen, sincxpress.com"
   ]
  },
  {
   "cell_type": "code",
   "execution_count": null,
   "metadata": {},
   "outputs": [],
   "source": [
    "# import libraries\n",
    "import matplotlib.pyplot as plt\n",
    "import numpy as np\n",
    "import scipy.stats as stats"
   ]
  },
  {
   "cell_type": "code",
   "execution_count": null,
   "metadata": {},
   "outputs": [],
   "source": [
    "## simulate two distributions\n",
    "\n",
    "# number of trials\n",
    "N = 100\n",
    "\n",
    "# dataset \"A\"\n",
    "r = np.random.randn(N)\n",
    "r[r>0] = np.log(1+r[r>0])\n",
    "dataA = 26-r*10\n",
    "\n",
    "# get histogram values for later comparison\n",
    "yA,xA = np.histogram(dataA,20)\n",
    "xA = (xA[:-1]+xA[1:])/2\n",
    "\n",
    "# dataset \"B\"\n",
    "r = np.random.randn(N)\n",
    "r[r>0] = np.log(1+r[r>0])\n",
    "dataB = 30-r*10\n",
    "\n",
    "#get histogram values for later comparison\n",
    "yB,xB = np.histogram(dataB,20)\n",
    "xB = (xB[:-1]+xB[1:])/2\n",
    "\n",
    "\n",
    "plt.stem(xA,yA,'b',markerfmt='bo',basefmt=' ',label='Data\"A\"')\n",
    "plt.stem(xB,yB,'r',markerfmt='ro',basefmt=' ',label='Data\"B\"')\n",
    "plt.legend()\n",
    "plt.show()"
   ]
  },
  {
   "cell_type": "code",
   "execution_count": null,
   "metadata": {},
   "outputs": [],
   "source": [
    "## mix trials together\n",
    "\n",
    "# concatenate trials\n",
    "alldata = np.hstack((dataA,dataB))\n",
    "\n",
    "# condition labels\n",
    "conds = np.hstack((np.ones(N),2*np.ones(N)))"
   ]
  },
  {
   "cell_type": "code",
   "execution_count": null,
   "metadata": {},
   "outputs": [],
   "source": [
    "## generate one null hypothesis scenario\n",
    "\n",
    "# random permutation\n",
    "fakeconds = np.random.permutation(N*2)\n",
    "\n",
    "# shuffled condition labels\n",
    "fakeconds[fakeconds<N] = 1\n",
    "fakeconds[fakeconds>1] = 2\n",
    "\n",
    "\n",
    "# these two means should be different.\n",
    "print([np.mean(alldata[conds==1]), np.mean(alldata[conds==2])])\n",
    "\n",
    "# should these two be different?\n",
    "print([np.mean(alldata[fakeconds==1]), np.mean(alldata[fakeconds==2])])\n"
   ]
  },
  {
   "cell_type": "code",
   "execution_count": null,
   "metadata": {},
   "outputs": [],
   "source": [
    "## and now a distribution of null hypothesis values\n",
    "\n",
    "nPerms = 1000\n",
    "permdiffs = np.zeros(nPerms)\n",
    "\n",
    "for permi in range(nPerms):\n",
    "    fconds = np.random.permutation(N*2)\n",
    "    fconds[fconds<N] = 1\n",
    "    fconds[fconds>1] = 2\n",
    "    permdiffs[permi] = np.mean(alldata[fconds==2]) - np.mean(alldata[fconds==1])\n",
    "\n",
    "\n",
    "# plot the distribution of H0 values\n",
    "plt.hist(permdiffs,50)\n",
    "\n",
    "# and plot the observed value on top\n",
    "obsval = np.mean(alldata[conds==2]) - np.mean(alldata[conds==1])\n",
    "plt.plot([obsval, obsval],[0, 50],'m',linewidth=10)\n",
    "plt.xlabel('Value')\n",
    "plt.ylabel('Count')\n",
    "plt.show()"
   ]
  },
  {
   "cell_type": "code",
   "execution_count": null,
   "metadata": {},
   "outputs": [],
   "source": [
    "## two methods of evaluating statistical significance\n",
    "\n",
    "# Z-value\n",
    "zVal = ( obsval-np.mean(permdiffs) ) / np.std(permdiffs,ddof=1)\n",
    "p = 1-stats.norm.cdf(abs(zVal))\n",
    "\n",
    "# p-value count\n",
    "pCount = sum(permdiffs>obsval)/nPerms\n",
    "\n",
    "print(p,pCount)"
   ]
  }
 ],
 "metadata": {
  "kernelspec": {
   "display_name": "Python 3",
   "language": "python",
   "name": "python3"
  },
  "language_info": {
   "codemirror_mode": {
    "name": "ipython",
    "version": 3
   },
   "file_extension": ".py",
   "mimetype": "text/x-python",
   "name": "python",
   "nbconvert_exporter": "python",
   "pygments_lexer": "ipython3",
   "version": "3.7.4"
  }
 },
 "nbformat": 4,
 "nbformat_minor": 2
}

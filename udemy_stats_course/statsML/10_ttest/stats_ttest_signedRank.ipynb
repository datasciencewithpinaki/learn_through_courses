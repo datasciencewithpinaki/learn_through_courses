{
 "cells": [
  {
   "cell_type": "markdown",
   "metadata": {},
   "source": [
    "# COURSE: Master statistics and machine learning: Intuition, Math, code\n",
    "##### COURSE URL: udemy.com/course/statsml_x/?couponCode=202304 \n",
    "## SECTION: The t-test family\n",
    "### VIDEO: Signed-rank test (Wilcoxon signed-rank for one-sample or paired samples)\n",
    "#### TEACHER: Mike X Cohen, sincxpress.com"
   ]
  },
  {
   "cell_type": "code",
   "execution_count": null,
   "metadata": {},
   "outputs": [],
   "source": [
    "# import libraries\n",
    "import matplotlib.pyplot as plt\n",
    "import numpy as np\n",
    "import scipy.stats as stats"
   ]
  },
  {
   "cell_type": "code",
   "execution_count": null,
   "metadata": {},
   "outputs": [],
   "source": [
    "## generate the data\n",
    "\n",
    "N = 30\n",
    "\n",
    "data1 = np.random.poisson(1.5,N)\n",
    "data2 = np.random.poisson(1,N)\n",
    "\n",
    "colors = 'kr'\n",
    "for i in range(N):\n",
    "    plt.plot([data1[i], data2[i]],[i, i],colors[int(data1[i]<data2[i])])\n",
    "\n",
    "plt.plot(data1,np.arange(N),'ks',markerfacecolor='k',label='data1')\n",
    "plt.plot(data2,np.arange(N),'ro',markerfacecolor='r',label='data2')\n",
    "\n",
    "plt.ylabel('Data index')\n",
    "plt.xlabel('Data value')\n",
    "plt.legend()\n",
    "\n",
    "plt.show()"
   ]
  },
  {
   "cell_type": "code",
   "execution_count": null,
   "metadata": {},
   "outputs": [],
   "source": [
    "## now for the test\n",
    "\n",
    "t,p = stats.wilcoxon(data1,data2)\n",
    "print('Wilcoxon z=%g, p=%g'%(t,p))\n"
   ]
  },
  {
   "cell_type": "code",
   "execution_count": null,
   "metadata": {},
   "outputs": [],
   "source": [
    "## now for the 2D space\n",
    "\n",
    "# parameter ranges\n",
    "Ns = np.arange(5,51)\n",
    "lambdas = np.linspace(1,3,40)\n",
    "\n",
    "# initialize output matrix\n",
    "pvals = np.zeros((len(Ns),len(lambdas)))\n",
    "\n",
    "for ni in range(len(Ns)):\n",
    "    for li in range(len(lambdas)):\n",
    "        \n",
    "        # generate some data\n",
    "        data1 = np.random.poisson(lambdas[0], Ns[ni])\n",
    "        data2 = np.random.poisson(lambdas[li],Ns[ni])\n",
    "        \n",
    "        # compute the statistic\n",
    "        t,p = stats.wilcoxon(data1,data2)\n",
    "        \n",
    "        # store the results\n",
    "        pvals[ni,li] = -np.log(p)\n",
    "        \n",
    "\n",
    "# optional p-value thresholding\n",
    "pvalthresh = .01\n",
    "pvals[ pvals<-np.log(pvalthresh) ] = np.NaN\n",
    "\n",
    "\n",
    "# now show in a heatmap!\n",
    "plt.imshow(pvals,origin='lower',extent=[lambdas[0],lambdas[-1],Ns[0],Ns[-1]],aspect='auto')\n",
    "plt.xlabel('lambda difference')\n",
    "plt.ylabel('Sample size')\n",
    "plt.title('Signed-rank test results: -log(p)')\n",
    "plt.colorbar()\n",
    "plt.show()"
   ]
  }
 ],
 "metadata": {
  "kernelspec": {
   "display_name": "Python 3",
   "language": "python",
   "name": "python3"
  },
  "language_info": {
   "codemirror_mode": {
    "name": "ipython",
    "version": 3
   },
   "file_extension": ".py",
   "mimetype": "text/x-python",
   "name": "python",
   "nbconvert_exporter": "python",
   "pygments_lexer": "ipython3",
   "version": "3.7.4"
  }
 },
 "nbformat": 4,
 "nbformat_minor": 2
}

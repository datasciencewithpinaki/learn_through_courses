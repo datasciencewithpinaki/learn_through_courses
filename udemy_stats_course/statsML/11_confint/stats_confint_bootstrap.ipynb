{
 "cells": [
  {
   "cell_type": "markdown",
   "metadata": {},
   "source": [
    "# COURSE: Master statistics and machine learning: Intuition, Math, code\n",
    "##### COURSE URL: udemy.com/course/statsml_x/?couponCode=202304 \n",
    "## SECTION: Confidence intervals\n",
    "### VIDEO: Bootstrapping confidence intervals\n",
    "#### TEACHER: Mike X Cohen, sincxpress.com"
   ]
  },
  {
   "cell_type": "code",
   "execution_count": null,
   "metadata": {},
   "outputs": [],
   "source": [
    "# import libraries\n",
    "import matplotlib.pyplot as plt\n",
    "import numpy as np\n",
    "import scipy.stats as stats\n",
    "from matplotlib.patches import Polygon"
   ]
  },
  {
   "cell_type": "code",
   "execution_count": null,
   "metadata": {},
   "outputs": [],
   "source": [
    "## simulate data\n",
    "\n",
    "popN = int(1e7)  # lots and LOTS of data!!\n",
    "\n",
    "# the data (note: non-normal!)\n",
    "population = (4*np.random.randn(popN))**2\n",
    "\n",
    "# we can calculate the exact population mean\n",
    "popMean = np.mean(population)\n",
    "\n",
    "# let's see it\n",
    "fig,ax = plt.subplots(2,1,figsize=(6,4))\n",
    "\n",
    "# only plot every 1000th sample\n",
    "ax[0].plot(population[::1000],'k.')\n",
    "ax[0].set_xlabel('Data index')\n",
    "ax[0].set_ylabel('Data value')\n",
    "\n",
    "ax[1].hist(population,bins='fd')\n",
    "ax[1].set_ylabel('Count')\n",
    "ax[1].set_xlabel('Data value')\n",
    "plt.show()\n"
   ]
  },
  {
   "cell_type": "code",
   "execution_count": null,
   "metadata": {},
   "outputs": [],
   "source": [
    "## draw a random sample\n",
    "\n",
    "# parameters\n",
    "samplesize = 40\n",
    "confidence = 95 # in percent\n",
    "\n",
    "# compute sample mean\n",
    "randSamples = np.random.randint(0,popN,samplesize)\n",
    "sampledata  = population[randSamples]\n",
    "samplemean  = np.mean(population[randSamples])\n",
    "samplestd   = np.std(population[randSamples]) # used later for analytic solution\n",
    "\n",
    "\n",
    "\n",
    "### now for bootstrapping\n",
    "numBoots  = 1000\n",
    "bootmeans = np.zeros(numBoots)\n",
    "\n",
    "# resample with replacement\n",
    "for booti in range(numBoots):\n",
    "    bootmeans[booti] = np.mean( np.random.choice(sampledata,samplesize) )\n",
    "    \n",
    "\n",
    "# find confidence intervals\n",
    "confint = [0,0] # initialize\n",
    "confint[0] = np.percentile(bootmeans,(100-confidence)/2)\n",
    "confint[1] = np.percentile(bootmeans,100-(100-confidence)/2)"
   ]
  },
  {
   "cell_type": "code",
   "execution_count": null,
   "metadata": {
    "scrolled": true
   },
   "outputs": [],
   "source": [
    "## graph everything\n",
    "fig,ax = plt.subplots(1,1)\n",
    "\n",
    "# start with histogram of resampled means\n",
    "y,x = np.histogram(bootmeans,40)\n",
    "y = y/max(y)\n",
    "x = (x[:-1]+x[1:])/2\n",
    "ax.bar(x,y)\n",
    "\n",
    "y = np.array([ [confint[0],0],[confint[1],0],[confint[1],1],[confint[0],1] ])\n",
    "p = Polygon(y,facecolor='g',alpha=.3)\n",
    "ax.add_patch(p)\n",
    "\n",
    "# now add the lines\n",
    "ax.plot([popMean,popMean],[0, 1.5],'k:',linewidth=2)\n",
    "ax.plot([samplemean,samplemean],[0, 1],'r--',linewidth=3)\n",
    "ax.set_xlim([popMean-30, popMean+30])\n",
    "ax.set_yticks([])\n",
    "ax.set_xlabel('Data values')\n",
    "ax.legend(('%g%% CI region'%confidence,'True mean','Sample mean','Empirical dist.'))\n",
    "plt.show()"
   ]
  },
  {
   "cell_type": "code",
   "execution_count": null,
   "metadata": {},
   "outputs": [],
   "source": [
    "## compare against the analytic confidence interval\n",
    "\n",
    "# compute confidence intervals\n",
    "citmp = (1-confidence/100)/2\n",
    "confint2 = samplemean + stats.t.ppf([citmp, 1-citmp],samplesize-1) * samplestd/np.sqrt(samplesize)\n",
    "\n",
    "print('Empirical: %g - %g'%(confint[0],confint[1]))\n",
    "print('Analytic:  %g - %g'%(confint2[0],confint2[1]))"
   ]
  },
  {
   "cell_type": "code",
   "execution_count": null,
   "metadata": {},
   "outputs": [],
   "source": []
  }
 ],
 "metadata": {
  "kernelspec": {
   "display_name": "Python 3",
   "language": "python",
   "name": "python3"
  },
  "language_info": {
   "codemirror_mode": {
    "name": "ipython",
    "version": 3
   },
   "file_extension": ".py",
   "mimetype": "text/x-python",
   "name": "python",
   "nbconvert_exporter": "python",
   "pygments_lexer": "ipython3",
   "version": "3.7.3"
  }
 },
 "nbformat": 4,
 "nbformat_minor": 2
}

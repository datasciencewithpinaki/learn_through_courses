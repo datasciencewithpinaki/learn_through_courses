{
 "cells": [
  {
   "cell_type": "markdown",
   "metadata": {},
   "source": [
    "# COURSE: Master statistics and machine learning: Intuition, Math, code\n",
    "##### COURSE URL: udemy.com/course/statsml_x/?couponCode=202304 \n",
    "## SECTION: Correlation\n",
    "### VIDEO: Kendall correlation\n",
    "#### TEACHER: Mike X Cohen, sincxpress.com"
   ]
  },
  {
   "cell_type": "code",
   "execution_count": null,
   "metadata": {},
   "outputs": [],
   "source": [
    "# import libraries\n",
    "import matplotlib.pyplot as plt\n",
    "import numpy as np\n",
    "import scipy.stats as stats"
   ]
  },
  {
   "cell_type": "code",
   "execution_count": null,
   "metadata": {},
   "outputs": [],
   "source": [
    "## generate some data!\n",
    "\n",
    "N = 40\n",
    "\n",
    "# movie ratings\n",
    "docuRatings = np.random.randint(low=1,high=6,size=N)\n",
    "\n",
    "# education level (1-4, correlated with docuRatings)\n",
    "eduLevel = np.ceil( (docuRatings + np.random.randint(low=1,high=5,size=N) )/9 * 4 )\n",
    "\n",
    "# compute the correlations\n",
    "cr = [0,0,0]\n",
    "cr[0] = stats.kendalltau(eduLevel,docuRatings)[0]\n",
    "cr[1] = stats.pearsonr(eduLevel,docuRatings)[0]\n",
    "cr[2] = stats.spearmanr(eduLevel,docuRatings)[0]\n",
    "\n",
    "# round for convenience\n",
    "cr = np.round(cr,4)\n",
    "\n",
    "\n",
    "# plot the data\n",
    "plt.plot(eduLevel+np.random.randn(N)/30,docuRatings+np.random.randn(N)/30,'ks',markersize=10,markerfacecolor=[0,0,0,.25])\n",
    "plt.xticks(np.arange(4)+1)\n",
    "plt.yticks(np.arange(5)+1)\n",
    "plt.xlabel('Education level')\n",
    "plt.ylabel('Documentary ratings')\n",
    "plt.grid()\n",
    "plt.title('$r_k$ = %g, $r_p$=%g, $r_s$=%g'%(cr[0],cr[1],cr[2]))\n",
    "\n",
    "plt.show()"
   ]
  },
  {
   "cell_type": "code",
   "execution_count": null,
   "metadata": {},
   "outputs": [],
   "source": [
    "## correlation estimation errors under H0\n",
    "\n",
    "numExprs = 1000\n",
    "nValues = 50\n",
    "nCategories = 6\n",
    "\n",
    "c = np.zeros((numExprs,3))\n",
    "\n",
    "for i in range(numExprs):\n",
    "    \n",
    "    # create data\n",
    "    x = np.random.randint(low=0,high=nCategories,size=nValues)\n",
    "    y = np.random.randint(low=0,high=nCategories,size=nValues)\n",
    "    \n",
    "    # store correlations\n",
    "    c[i,:] = [ stats.kendalltau(x,y)[0],\n",
    "               stats.pearsonr(x,y)[0],\n",
    "               stats.spearmanr(x,y)[0] ]\n",
    "print(c)"
   ]
  },
  {
   "cell_type": "code",
   "execution_count": null,
   "metadata": {},
   "outputs": [],
   "source": [
    "## show the graphs\n",
    "plt.bar(range(3),np.mean(c**2,axis=0))\n",
    "plt.errorbar(range(3),np.mean(c**2,axis=0),yerr=np.std(c**2,ddof=1,axis=0))\n",
    "plt.xticks(range(3),('Kendall','Pearson','Spearman'))\n",
    "plt.ylabel('Squared correlation error')\n",
    "plt.title('Noise correlation ($r^2$) distributions')\n",
    "plt.show()\n",
    "\n",
    "\n",
    "plt.plot(c[:100,:],'s-')\n",
    "plt.xlabel('Experiment number')\n",
    "plt.ylabel('Correlation value')\n",
    "plt.legend(('K','P','S'))\n",
    "plt.show()\n",
    "\n",
    "\n",
    "plt.imshow(np.corrcoef(c.T),vmin=.9,vmax=1)\n",
    "plt.xticks(range(3),['K','P','S'])\n",
    "plt.yticks(range(3),('K','P','S'))\n",
    "plt.colorbar()\n",
    "plt.title('Correlation matrix')\n",
    "plt.show()"
   ]
  }
 ],
 "metadata": {
  "kernelspec": {
   "display_name": "Python 3",
   "language": "python",
   "name": "python3"
  },
  "language_info": {
   "codemirror_mode": {
    "name": "ipython",
    "version": 3
   },
   "file_extension": ".py",
   "mimetype": "text/x-python",
   "name": "python",
   "nbconvert_exporter": "python",
   "pygments_lexer": "ipython3",
   "version": "3.7.4"
  }
 },
 "nbformat": 4,
 "nbformat_minor": 2
}

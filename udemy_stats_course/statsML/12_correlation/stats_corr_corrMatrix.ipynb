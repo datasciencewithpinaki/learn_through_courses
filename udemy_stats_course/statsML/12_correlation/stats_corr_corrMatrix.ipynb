{
 "cells": [
  {
   "cell_type": "markdown",
   "metadata": {},
   "source": [
    "# COURSE: Master statistics and machine learning: Intuition, Math, code\n",
    "##### COURSE URL: udemy.com/course/statsml_x/?couponCode=202304 \n",
    "## SECTION: Correlation\n",
    "### VIDEO: Correlation matrix\n",
    "#### TEACHER: Mike X Cohen, sincxpress.com"
   ]
  },
  {
   "cell_type": "code",
   "execution_count": null,
   "metadata": {},
   "outputs": [],
   "source": [
    "# import libraries\n",
    "import matplotlib.pyplot as plt\n",
    "import numpy as np\n",
    "import numpy.matlib as matlib"
   ]
  },
  {
   "cell_type": "code",
   "execution_count": null,
   "metadata": {},
   "outputs": [],
   "source": [
    "## simulate data\n",
    "\n",
    "# simulation parameters\n",
    "N = 1000  # time points\n",
    "M =   20  # channels\n",
    "\n",
    "# time vector (radian units)\n",
    "t = np.linspace(0,6*np.pi,N)\n",
    "\n",
    "# relationship across channels (imposing covariance)\n",
    "chanrel = np.sin(np.linspace(0,2*np.pi,M))\n",
    "\n",
    "# create the data\n",
    "data = np.zeros((M,N))\n",
    "for mi in range(M):\n",
    "    data[mi,:] = np.sin(t) * chanrel[mi]\n",
    "\n",
    "data = data + np.random.randn(M,N)\n",
    "    \n",
    "\n",
    "# two ways of visualizing the multichannel data\n",
    "for i in range(M):\n",
    "    plt.plot(t,data[i,:]+i*4)\n",
    "    \n",
    "plt.yticks([])\n",
    "plt.xlabel('Time (a.u.)')\n",
    "plt.ylabel('Channel')\n",
    "plt.show()\n",
    "\n",
    "plt.imshow(data,aspect='auto',vmin=-2,vmax=2,extent=[t[0],t[-1],0,M])\n",
    "plt.xlabel('Time (a.u.)')\n",
    "plt.ylabel('Channel')\n",
    "plt.show()"
   ]
  },
  {
   "cell_type": "code",
   "execution_count": null,
   "metadata": {},
   "outputs": [],
   "source": [
    "## now compute the covariance matrix\n",
    "\n",
    "# note the size of the output!\n",
    "dataCovMat = np.cov(data.T)\n",
    "\n",
    "plt.imshow(dataCovMat,vmin=-.5,vmax=.5)\n",
    "plt.title('Data covariance matrix')\n",
    "plt.xlabel('??')\n",
    "plt.ylabel('??')\n",
    "plt.show()"
   ]
  },
  {
   "cell_type": "code",
   "execution_count": null,
   "metadata": {},
   "outputs": [],
   "source": [
    "## and now the correlation matrix\n",
    "\n",
    "# note the size of the output!\n",
    "dataCorrMat = np.corrcoef(data)\n",
    "\n",
    "plt.imshow(dataCorrMat,vmin=-.5,vmax=.5)\n",
    "plt.title('Data correlation matrix')\n",
    "plt.xlabel('??')\n",
    "plt.ylabel('??')\n",
    "plt.show()"
   ]
  }
 ],
 "metadata": {
  "kernelspec": {
   "display_name": "Python 3",
   "language": "python",
   "name": "python3"
  },
  "language_info": {
   "codemirror_mode": {
    "name": "ipython",
    "version": 3
   },
   "file_extension": ".py",
   "mimetype": "text/x-python",
   "name": "python",
   "nbconvert_exporter": "python",
   "pygments_lexer": "ipython3",
   "version": "3.7.4"
  }
 },
 "nbformat": 4,
 "nbformat_minor": 2
}

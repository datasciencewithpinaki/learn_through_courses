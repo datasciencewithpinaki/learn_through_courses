{
 "cells": [
  {
   "cell_type": "markdown",
   "metadata": {},
   "source": [
    "# COURSE: Master statistics and machine learning: Intuition, Math, code\n",
    "##### COURSE URL: udemy.com/course/statsml_x/?couponCode=202304 \n",
    "## SECTION: Correlation\n",
    "### VIDEO: Cosine similarity\n",
    "#### TEACHER: Mike X Cohen, sincxpress.com"
   ]
  },
  {
   "cell_type": "code",
   "execution_count": null,
   "metadata": {},
   "outputs": [],
   "source": [
    "# import libraries\n",
    "import matplotlib.pyplot as plt\n",
    "import numpy as np\n",
    "from scipy import spatial"
   ]
  },
  {
   "cell_type": "code",
   "execution_count": null,
   "metadata": {},
   "outputs": [],
   "source": [
    "# range of requested correlation coefficients\n",
    "rs = np.linspace(-1,1,100)\n",
    "\n",
    "# sample size\n",
    "N = 500\n",
    "\n",
    "\n",
    "# initialize output matrix\n",
    "corrs = np.zeros((len(rs),2))\n",
    "\n",
    "\n",
    "# loop over a range of r values\n",
    "for ri in range(len(rs)):\n",
    "    \n",
    "    # generate data\n",
    "    x = np.random.randn(N)\n",
    "    y = x*rs[ri] + np.random.randn(N)*np.sqrt(1-rs[ri]**2)\n",
    "    \n",
    "    # optional mean-off-centering\n",
    "    #x = x+10\n",
    "    #y = y+10\n",
    "    \n",
    "    \n",
    "    # compute correlation\n",
    "    corrs[ri,0] = np.corrcoef(x,y)[0,1]\n",
    "    \n",
    "    # compute cosine similarity\n",
    "    cs_num = sum(x*y)\n",
    "    cs_den = np.sqrt(sum(x*x)) * np.sqrt(sum(y*y))\n",
    "    corrs[ri,1] = cs_num / cs_den\n",
    "    \n",
    "    # using built-in distance function\n",
    "    #corrs[ri,1] = 1-spatial.distance.cosine(x,y)\n",
    "    "
   ]
  },
  {
   "cell_type": "code",
   "execution_count": null,
   "metadata": {
    "scrolled": false
   },
   "outputs": [],
   "source": [
    "## visualize the results\n",
    "\n",
    "plt.plot(rs,corrs[:,0],'s-',label='Correlation')\n",
    "plt.plot(rs,corrs[:,1],'s-',label='Cosine sim.')\n",
    "plt.legend()\n",
    "plt.xlabel('Requested correlation')\n",
    "plt.ylabel('Empirical correlation')\n",
    "plt.axis('square')\n",
    "plt.show()\n",
    "\n",
    "\n",
    "plt.plot(corrs[:,0],corrs[:,1],'ks')\n",
    "plt.axis('square')\n",
    "plt.xlabel('Correlation')\n",
    "plt.ylabel('Cosine similarity')\n",
    "plt.show()"
   ]
  },
  {
   "cell_type": "code",
   "execution_count": null,
   "metadata": {},
   "outputs": [],
   "source": [
    "# their empirical correlation\n",
    "np.corrcoef(corrs.T)"
   ]
  }
 ],
 "metadata": {
  "kernelspec": {
   "display_name": "Python 3",
   "language": "python",
   "name": "python3"
  },
  "language_info": {
   "codemirror_mode": {
    "name": "ipython",
    "version": 3
   },
   "file_extension": ".py",
   "mimetype": "text/x-python",
   "name": "python",
   "nbconvert_exporter": "python",
   "pygments_lexer": "ipython3",
   "version": "3.7.4"
  }
 },
 "nbformat": 4,
 "nbformat_minor": 2
}

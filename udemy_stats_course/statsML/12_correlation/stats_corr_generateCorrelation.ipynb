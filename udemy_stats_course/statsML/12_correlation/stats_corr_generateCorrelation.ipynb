{
 "cells": [
  {
   "cell_type": "markdown",
   "metadata": {},
   "source": [
    "# COURSE: Master statistics and machine learning: Intuition, Math, code\n",
    "##### COURSE URL: udemy.com/course/statsml_x/?couponCode=202304 \n",
    "## SECTION: Correlation\n",
    "### VIDEO: Simulate data with specified correlation\n",
    "#### TEACHER: Mike X Cohen, sincxpress.com"
   ]
  },
  {
   "cell_type": "code",
   "execution_count": null,
   "metadata": {},
   "outputs": [],
   "source": [
    "# import libraries\n",
    "import matplotlib.pyplot as plt\n",
    "import numpy as np"
   ]
  },
  {
   "cell_type": "code",
   "execution_count": null,
   "metadata": {},
   "outputs": [],
   "source": [
    "## simulate data\n",
    "\n",
    "# data simulation parameters\n",
    "N = 100  # number of samples\n",
    "r = .6   # desired correlation coefficient\n",
    "\n",
    "# start with random numbers\n",
    "x = np.random.randn(N)\n",
    "y = np.random.randn(N)\n",
    "\n",
    "# impose the correlation on y\n",
    "y = x*r + y*np.sqrt(1-r**2)\n",
    "\n",
    "# plot the data\n",
    "plt.plot(x,y,'kp',markerfacecolor='b',markersize=12)\n",
    "plt.xlabel('Variable X')\n",
    "plt.ylabel('Variable Y')\n",
    "plt.xticks([])\n",
    "plt.yticks([])\n",
    "plt.show()"
   ]
  },
  {
   "cell_type": "code",
   "execution_count": null,
   "metadata": {},
   "outputs": [],
   "source": [
    "## compute the empirical correlation\n",
    "\n",
    "empR = np.corrcoef(x,y)\n",
    "\n",
    "print('Desired r=%g, empirical r=%g'%(r,empR[0,1]))"
   ]
  },
  {
   "cell_type": "code",
   "execution_count": null,
   "metadata": {},
   "outputs": [],
   "source": [
    "## Test the errors as a function of N\n",
    "\n",
    "# range of sample sizes\n",
    "Ns = np.round( np.linspace(5,400,123) ).astype(int)\n",
    "\n",
    "# theoretical correlation coefficient (fixed)\n",
    "r = .6\n",
    "\n",
    "# initialize\n",
    "corrs = np.zeros(len(Ns))\n",
    "\n",
    "# run the experiment!\n",
    "for ni in range(len(Ns)):\n",
    "    x = np.random.randn(Ns[ni])\n",
    "    y = x*r + np.random.randn(Ns[ni])*np.sqrt(1-r**2)\n",
    "    corrs[ni] = (r-np.corrcoef(x,y)[0,1])**2\n",
    "    \n",
    "\n",
    "plt.stem(Ns,corrs,'ko-')\n",
    "plt.xlabel('Sample size')\n",
    "plt.ylabel('Squared divergence')\n",
    "plt.show()"
   ]
  }
 ],
 "metadata": {
  "kernelspec": {
   "display_name": "Python 3",
   "language": "python",
   "name": "python3"
  },
  "language_info": {
   "codemirror_mode": {
    "name": "ipython",
    "version": 3
   },
   "file_extension": ".py",
   "mimetype": "text/x-python",
   "name": "python",
   "nbconvert_exporter": "python",
   "pygments_lexer": "ipython3",
   "version": "3.7.4"
  }
 },
 "nbformat": 4,
 "nbformat_minor": 2
}

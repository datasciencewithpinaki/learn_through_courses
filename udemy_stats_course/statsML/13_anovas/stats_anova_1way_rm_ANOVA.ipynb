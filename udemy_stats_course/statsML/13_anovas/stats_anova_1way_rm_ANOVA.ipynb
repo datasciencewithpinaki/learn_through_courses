{
 "cells": [
  {
   "cell_type": "markdown",
   "metadata": {},
   "source": [
    "# COURSE: Master statistics and machine learning: Intuition, Math, code\n",
    "##### COURSE URL: udemy.com/course/statsml_x/?couponCode=202304 \n",
    "## SECTION: ANOVA\n",
    "### VIDEO: One-way repeated-measures ANOVA\n",
    "#### TEACHER: Mike X Cohen, sincxpress.com"
   ]
  },
  {
   "cell_type": "code",
   "execution_count": null,
   "metadata": {},
   "outputs": [],
   "source": [
    "# import libraries\n",
    "import numpy as np\n",
    "import matplotlib.pyplot as plt\n",
    "import pingouin as pg\n",
    "import pandas as pd"
   ]
  },
  {
   "cell_type": "code",
   "execution_count": null,
   "metadata": {},
   "outputs": [],
   "source": [
    "## data parameters\n",
    "\n",
    "# group means\n",
    "mean1 = 4\n",
    "mean2 = 3.8\n",
    "mean3 = 7\n",
    "\n",
    "# samples (same across group)\n",
    "N = 30\n",
    "\n",
    "# standard deviation (assume common across groups)\n",
    "stdev = 2\n"
   ]
  },
  {
   "cell_type": "code",
   "execution_count": null,
   "metadata": {},
   "outputs": [],
   "source": [
    "## now to simulate the data\n",
    "data1 = mean1 + np.random.randn(N)*stdev\n",
    "data2 = mean2 + np.random.randn(N)*stdev\n",
    "data3 = mean3 + np.random.randn(N)*stdev\n",
    "\n",
    "datamat = np.vstack((data1,data2,data3)).T\n",
    "\n",
    "# convert to a pandas dataframe\n",
    "df = pd.DataFrame(data=datamat,columns=['d1','d2','d3'])\n",
    "df"
   ]
  },
  {
   "cell_type": "code",
   "execution_count": null,
   "metadata": {},
   "outputs": [],
   "source": [
    "pg.rm_anova(data=df,detailed=True)"
   ]
  },
  {
   "cell_type": "code",
   "execution_count": null,
   "metadata": {},
   "outputs": [],
   "source": [
    "df.boxplot();"
   ]
  },
  {
   "cell_type": "code",
   "execution_count": null,
   "metadata": {},
   "outputs": [],
   "source": [
    "## example from SPSS website\n",
    "\n",
    "# https://www.spss-tutorials.com/repeated-measures-anova/\n",
    "\n",
    "data = [\n",
    "    [8, 7, 6, 7],\n",
    "    [5, 8, 5, 6],\n",
    "    [6, 5, 3, 4],\n",
    "    [6, 6, 7, 3],\n",
    "    [8, 10, 8, 6],\n",
    "    [6, 5, 6, 3],\n",
    "    [6, 5, 2, 3],\n",
    "    [9, 9, 9, 6],\n",
    "    [5, 4, 3, 7],\n",
    "    [7, 6, 6, 5]]\n",
    "\n",
    "\n",
    "df = pd.DataFrame(data=data,columns=['1','2','3','4'])\n",
    "\n",
    "pg.rm_anova(data=df,detailed=True)"
   ]
  }
 ],
 "metadata": {
  "kernelspec": {
   "display_name": "Python 3",
   "language": "python",
   "name": "python3"
  },
  "language_info": {
   "codemirror_mode": {
    "name": "ipython",
    "version": 3
   },
   "file_extension": ".py",
   "mimetype": "text/x-python",
   "name": "python",
   "nbconvert_exporter": "python",
   "pygments_lexer": "ipython3",
   "version": "3.7.4"
  }
 },
 "nbformat": 4,
 "nbformat_minor": 2
}

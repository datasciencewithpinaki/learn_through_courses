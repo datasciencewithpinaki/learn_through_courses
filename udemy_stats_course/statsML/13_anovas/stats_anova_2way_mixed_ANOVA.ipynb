{
 "cells": [
  {
   "cell_type": "markdown",
   "metadata": {},
   "source": [
    "# COURSE: Master statistics and machine learning: Intuition, Math, code\n",
    "##### COURSE URL: udemy.com/course/statsml_x/?couponCode=202304 \n",
    "## SECTION: ANOVA\n",
    "### VIDEO: Two-way mixed-effects ANOVA\n",
    "#### TEACHER: Mike X Cohen, sincxpress.com"
   ]
  },
  {
   "cell_type": "code",
   "execution_count": null,
   "metadata": {},
   "outputs": [],
   "source": [
    "# import libraries\n",
    "import numpy as np\n",
    "import matplotlib.pyplot as plt\n",
    "import pingouin as pg\n",
    "import pandas as pd\n",
    "import seaborn as sns"
   ]
  },
  {
   "cell_type": "code",
   "execution_count": null,
   "metadata": {},
   "outputs": [],
   "source": [
    "## the data and group labels\n",
    "\n",
    "data = np.loadtxt(open(\"TwoWayMixedANOVA_data.csv\"),delimiter=\",\")\n",
    "\n",
    "timepoint = ['1']*45 + ['2']*45 + ['3']*45\n",
    "groups    = ['1']*15 + ['2']*15 + ['3']*15\n",
    "s = []\n",
    "for i in range(45):\n",
    "    s += [str(i)]\n",
    "\n",
    "# # convert to pandas\n",
    "df = pd.DataFrame(data=np.matrix.flatten(data,'F'),columns=['TheData'])\n",
    "df['Group'] = np.tile(groups,3)\n",
    "df['TimePoint'] = timepoint\n",
    "df['Subject'] = np.tile(s,3)\n",
    "\n",
    "pd.set_option(\"display.max_rows\", None, \"display.max_columns\", None)\n",
    "df"
   ]
  },
  {
   "cell_type": "code",
   "execution_count": null,
   "metadata": {},
   "outputs": [],
   "source": [
    "pg.mixed_anova(data=df,dv='TheData',between='Group',within='TimePoint',subject='Subject')"
   ]
  },
  {
   "cell_type": "code",
   "execution_count": null,
   "metadata": {},
   "outputs": [],
   "source": [
    "sns.boxplot(data=df,hue=\"Group\",y=\"TheData\",x='TimePoint')"
   ]
  }
 ],
 "metadata": {
  "kernelspec": {
   "display_name": "Python 3",
   "language": "python",
   "name": "python3"
  },
  "language_info": {
   "codemirror_mode": {
    "name": "ipython",
    "version": 3
   },
   "file_extension": ".py",
   "mimetype": "text/x-python",
   "name": "python",
   "nbconvert_exporter": "python",
   "pygments_lexer": "ipython3",
   "version": "3.7.4"
  }
 },
 "nbformat": 4,
 "nbformat_minor": 2
}

{
 "cells": [
  {
   "cell_type": "markdown",
   "metadata": {},
   "source": [
    "# COURSE: Master statistics and machine learning: Intuition, Math, code\n",
    "##### COURSE URL: udemy.com/course/statsml_x/?couponCode=202304 \n",
    "## SECTION: Regression\n",
    "### VIDEO: Logistic regression\n",
    "#### TEACHER: Mike X Cohen, sincxpress.com"
   ]
  },
  {
   "cell_type": "code",
   "execution_count": null,
   "metadata": {},
   "outputs": [],
   "source": [
    "import numpy as np\n",
    "import matplotlib.pyplot as plt\n",
    "from sklearn.linear_model import LogisticRegression"
   ]
  },
  {
   "cell_type": "code",
   "execution_count": null,
   "metadata": {},
   "outputs": [],
   "source": [
    "## generate the data\n",
    "\n",
    "exam_outcome = [0, 0, 0, 0, 0, 0, 0, 0, 0, 0, 1, 1, 1, 1, 1, 1, 1, 1, 1, 1];\n",
    "study_hours  = [7.9, 7.9, 2.8, 5.4, 6.1, 4.5, 6.9, 2.3, 1.9, 1, 3.1, 5.7, 5.6, 4.7, 4.2, 2, 7.7, 6.5, 5.1, 3.7]\n",
    "sleep_hours  = [4.4, 5.2, 7.5, 4.6, 5.5, 6.1, 6.6, 3.1, 5.9, 3.2, 7.5, 7.8, 6.1, 5.4, 10.5, 8.2, 7.2, 7.2, 5.9, 7.9]\n",
    "\n",
    "n = len(exam_outcome)\n",
    "\n",
    "# and plot\n",
    "for i in range(n):\n",
    "    plt.plot([exam_outcome[i]-.05, exam_outcome[i]+.05],[study_hours[i],sleep_hours[i]],color=[.7,.7,.7])\n",
    "\n",
    "plt.plot(exam_outcome-.05*np.ones(n),study_hours,'ks',markerfacecolor=[1,.8,1],label='Study')\n",
    "plt.plot(exam_outcome+.05*np.ones(n),sleep_hours,'ks',markerfacecolor=[.39,1,1],label='Sleep')\n",
    "\n",
    "plt.xticks([0,1],labels=('Fail','Pass'))\n",
    "plt.xlim([-.5,1.5])\n",
    "plt.ylabel('Hours sleep or study')\n",
    "plt.legend()\n",
    "plt.show()"
   ]
  },
  {
   "cell_type": "code",
   "execution_count": null,
   "metadata": {},
   "outputs": [],
   "source": [
    "## now for the logistic regression\n",
    "\n",
    "# create a model\n",
    "logregmodel = LogisticRegression(solver='liblinear')#'newton-cg')#\n",
    "\n",
    "# create the design matrix\n",
    "desmat = np.vstack((study_hours,sleep_hours)).T\n",
    "\n",
    "logregmodel.fit(desmat,np.array(exam_outcome))\n",
    "\n",
    "print(logregmodel.intercept_)\n",
    "print(logregmodel.coef_)"
   ]
  },
  {
   "cell_type": "code",
   "execution_count": null,
   "metadata": {},
   "outputs": [],
   "source": [
    "# compute predictions and accuracy\n",
    "\n",
    "predvals = logregmodel.predict(desmat) # class labels\n",
    "predvalsP = logregmodel.predict_proba(desmat) # probability values\n",
    "\n",
    "print(predvals)\n",
    "print(np.array(exam_outcome))\n",
    "\n",
    "print(predvalsP)\n",
    "\n",
    "logregmodel.score(desmat,np.array(exam_outcome))"
   ]
  },
  {
   "cell_type": "code",
   "execution_count": null,
   "metadata": {},
   "outputs": [],
   "source": [
    "# plotting\n",
    "\n",
    "fig,ax = plt.subplots(1,1,figsize=(5,5))\n",
    "\n",
    "ax.plot(predvalsP[:,1],'ks')\n",
    "ax.plot([0,19],[.5,.5],'b--')\n",
    "ax.plot([9.5,9.5],[0,1],'b--')\n",
    "\n",
    "ax.set_xticks(np.arange(20))\n",
    "ax.set_xlabel('Individual')\n",
    "ax.set_ylabel('p(pass)')\n",
    "ax.set_xlim([-.5, 19.5])\n",
    "ax.set_ylim([0,1])\n",
    "plt.show()"
   ]
  }
 ],
 "metadata": {
  "kernelspec": {
   "display_name": "Python 3",
   "language": "python",
   "name": "python3"
  },
  "language_info": {
   "codemirror_mode": {
    "name": "ipython",
    "version": 3
   },
   "file_extension": ".py",
   "mimetype": "text/x-python",
   "name": "python",
   "nbconvert_exporter": "python",
   "pygments_lexer": "ipython3",
   "version": "3.7.4"
  }
 },
 "nbformat": 4,
 "nbformat_minor": 2
}

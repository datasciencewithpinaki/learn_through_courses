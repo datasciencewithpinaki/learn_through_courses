{
 "cells": [
  {
   "cell_type": "markdown",
   "metadata": {},
   "source": [
    "# COURSE: Master statistics and machine learning: Intuition, Math, code\n",
    "##### COURSE URL: udemy.com/course/statsml_x/?couponCode=202304 \n",
    "## SECTION: Regression\n",
    "### VIDEO: Multiple regression\n",
    "#### TEACHER: Mike X Cohen, sincxpress.com"
   ]
  },
  {
   "cell_type": "code",
   "execution_count": null,
   "metadata": {},
   "outputs": [],
   "source": [
    "import numpy as np\n",
    "import matplotlib.pyplot as plt\n",
    "import scipy.stats as stats\n",
    "\n",
    "from sklearn.linear_model import LinearRegression\n",
    "import statsmodels.api as sm"
   ]
  },
  {
   "cell_type": "code",
   "execution_count": null,
   "metadata": {},
   "outputs": [],
   "source": [
    "## example: effects of sleep and study hours on exam scores\n",
    "### create the data\n",
    "\n",
    "exam_scores = []\n",
    "for ei in range(5):\n",
    "    exam_scores = np.hstack((exam_scores,60*np.ones(6)+np.linspace(-1,5,6)*ei))\n",
    "\n",
    "hours_studied = np.tile(np.linspace(2,8,6),5)\n",
    "ave_sleep_hrs = np.linspace(6,10,30)\n"
   ]
  },
  {
   "cell_type": "code",
   "execution_count": null,
   "metadata": {},
   "outputs": [],
   "source": [
    "## plot the data\n",
    "\n",
    "### stratify by hours studied\n",
    "\n",
    "# fewer than 4 hours studied\n",
    "plotidx = hours_studied<4.1\n",
    "plt.plot(ave_sleep_hrs[plotidx],exam_scores[plotidx],'ko',markerfacecolor='k')\n",
    "\n",
    "# 5-6 hours studied\n",
    "plotidx = np.logical_and(hours_studied>4.9, hours_studied<6.1)\n",
    "plt.plot(ave_sleep_hrs[plotidx],exam_scores[plotidx],'ro',markerfacecolor='r')\n",
    "\n",
    "# more than 6 hours\n",
    "plotidx = hours_studied>6\n",
    "plt.plot(ave_sleep_hrs[plotidx],exam_scores[plotidx],'bo',markerfacecolor='b')\n",
    "\n",
    "plt.xlabel('Hours of sleep')\n",
    "plt.ylabel('Exam score')\n",
    "plt.legend(('<4 hours studied','5-6 hours studied','>7 hours studied'))\n",
    "plt.show()\n"
   ]
  },
  {
   "cell_type": "code",
   "execution_count": null,
   "metadata": {},
   "outputs": [],
   "source": [
    "## multiple regression \n",
    "\n",
    "# build the design matrix\n",
    "desmat = np.vstack((np.ones((30,)),ave_sleep_hrs,hours_studied,ave_sleep_hrs*hours_studied)).T\n",
    "\n",
    "multireg = sm.OLS(endog=exam_scores, exog=desmat).fit()\n",
    "multireg.summary()"
   ]
  },
  {
   "cell_type": "code",
   "execution_count": null,
   "metadata": {},
   "outputs": [],
   "source": [
    "# without the interaction term\n",
    "\n",
    "multireg = sm.OLS(endog=exam_scores, exog=desmat[:,0:-1]).fit()\n",
    "multireg.summary()"
   ]
  },
  {
   "cell_type": "code",
   "execution_count": null,
   "metadata": {},
   "outputs": [],
   "source": [
    "# inspect the correlations of the IVs\n",
    "np.corrcoef(desmat[:,1:].T)"
   ]
  },
  {
   "cell_type": "code",
   "execution_count": null,
   "metadata": {},
   "outputs": [],
   "source": []
  }
 ],
 "metadata": {
  "kernelspec": {
   "display_name": "Python 3",
   "language": "python",
   "name": "python3"
  },
  "language_info": {
   "codemirror_mode": {
    "name": "ipython",
    "version": 3
   },
   "file_extension": ".py",
   "mimetype": "text/x-python",
   "name": "python",
   "nbconvert_exporter": "python",
   "pygments_lexer": "ipython3",
   "version": "3.7.4"
  }
 },
 "nbformat": 4,
 "nbformat_minor": 2
}

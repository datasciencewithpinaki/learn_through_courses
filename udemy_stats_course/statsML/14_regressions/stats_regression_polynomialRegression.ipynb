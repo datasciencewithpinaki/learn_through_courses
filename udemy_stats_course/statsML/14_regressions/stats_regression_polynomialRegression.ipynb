{
 "cells": [
  {
   "cell_type": "markdown",
   "metadata": {},
   "source": [
    "# COURSE: Master statistics and machine learning: Intuition, Math, code\n",
    "##### COURSE URL: udemy.com/course/statsml_x/?couponCode=202304 \n",
    "## SECTION: Regression\n",
    "### VIDEO: Polynomial regression\n",
    "#### TEACHER: Mike X Cohen, sincxpress.com"
   ]
  },
  {
   "cell_type": "code",
   "execution_count": null,
   "metadata": {},
   "outputs": [],
   "source": [
    "import numpy as np\n",
    "import matplotlib.pyplot as plt"
   ]
  },
  {
   "cell_type": "code",
   "execution_count": null,
   "metadata": {},
   "outputs": [],
   "source": [
    "## generate the data\n",
    "\n",
    "n  = 30\n",
    "x  = np.linspace(-2,4,n)\n",
    "y1 = x**2 + np.random.randn(n)\n",
    "y2 = x**3 + np.random.randn(n)\n",
    "\n",
    "\n",
    "# plot the data\n",
    "plt.plot(x,y1,'ko',markerfacecolor='r')\n",
    "plt.plot(x,y2,'ko',markerfacecolor='g')\n",
    "plt.legend(('Quadratic','Cubic'))\n",
    "plt.show()"
   ]
  },
  {
   "cell_type": "code",
   "execution_count": null,
   "metadata": {},
   "outputs": [],
   "source": [
    "## now for a polynomial fit\n",
    "\n",
    "# for y1\n",
    "pterms = np.polyfit(x,y1,2)\n",
    "yHat1 = np.polyval(pterms,x)\n",
    "\n",
    "# for y2\n",
    "pterms = np.polyfit(x,y2,3)\n",
    "yHat2 = np.polyval(pterms,x)\n",
    "\n",
    "# and all the plotting\n",
    "plt.plot(x,y1,'ko',markerfacecolor='r',label='y1')\n",
    "plt.plot(x,y2,'ko',markerfacecolor='g',label='y2')\n",
    "\n",
    "plt.plot(x,yHat1,'r',label='y1 fit')\n",
    "plt.plot(x,yHat2,'g',label='y2 fit')\n",
    "plt.legend()\n",
    "plt.show()"
   ]
  },
  {
   "cell_type": "code",
   "execution_count": null,
   "metadata": {},
   "outputs": [],
   "source": [
    "# compute R2\n",
    "\n",
    "# compute R2 for several polynomial orders\n",
    "orders = np.arange(1,6)\n",
    "\n",
    "# output matrices\n",
    "r2 = np.zeros((2,len(orders)))\n",
    "sse = np.zeros((2,len(orders)))\n",
    "\n",
    "# the loop!\n",
    "for oi in range(len(orders)):\n",
    "    \n",
    "    # fit the model with oi terms\n",
    "    pterms = np.polyfit(x,y1,orders[oi])\n",
    "    yHat = np.polyval(pterms,x)\n",
    "    \n",
    "    # compute R2\n",
    "    ss_eta = sum((y1-yHat)**2)  # numerator\n",
    "    ss_tot = sum((y1-np.mean(y1))**2)  # denominator\n",
    "    r2[0,oi] = 1 - ss_eta/ss_tot  # R^2\n",
    "    sse[0,oi] = ss_eta  # store just the SSe for model comparison later\n",
    "    \n",
    "    \n",
    "    ### repeat for y2\n",
    "    pterms = np.polyfit(x,y2,orders[oi])\n",
    "    yHat   = np.polyval(pterms,x)\n",
    "    ss_eta = sum((y2-yHat)**2)\n",
    "    ss_tot = np.var(y2)*(n-1)\n",
    "    r2[1,oi] = 1 - ss_eta/ss_tot\n",
    "    sse[1,oi] = ss_eta\n"
   ]
  },
  {
   "cell_type": "code",
   "execution_count": null,
   "metadata": {},
   "outputs": [],
   "source": [
    "fig,ax = plt.subplots(2,1,figsize=(6,4))\n",
    "\n",
    "# plot the R2 results\n",
    "ax[0].plot(orders,r2[0,:],'s-',markerfacecolor='w')\n",
    "ax[0].plot(orders,r2[1,:],'s-',markerfacecolor='w')\n",
    "ax[0].set_ylabel('Model $R^2$')\n",
    "ax[0].set_xticks([])\n",
    "ax[0].legend(('y1','y2'))\n",
    "\n",
    "\n",
    "\n",
    "# compute the Bayes Information Criterion\n",
    "bic = n*np.log(sse) + orders*np.log(n)\n",
    "ax[1].plot(orders,bic[0,:],'s-',markerfacecolor='w')\n",
    "ax[1].plot(orders,bic[1,:],'s-',markerfacecolor='w')\n",
    "ax[1].set_xlabel('Polynomial model order')\n",
    "ax[1].set_xticks(range(1,6))\n",
    "ax[1].set_ylabel('Model BIC')\n",
    "\n",
    "# optional zoom\n",
    "ax[1].set_ylim([90,120])\n",
    "\n",
    "plt.show()"
   ]
  }
 ],
 "metadata": {
  "kernelspec": {
   "display_name": "Python 3",
   "language": "python",
   "name": "python3"
  },
  "language_info": {
   "codemirror_mode": {
    "name": "ipython",
    "version": 3
   },
   "file_extension": ".py",
   "mimetype": "text/x-python",
   "name": "python",
   "nbconvert_exporter": "python",
   "pygments_lexer": "ipython3",
   "version": "3.7.3"
  }
 },
 "nbformat": 4,
 "nbformat_minor": 2
}

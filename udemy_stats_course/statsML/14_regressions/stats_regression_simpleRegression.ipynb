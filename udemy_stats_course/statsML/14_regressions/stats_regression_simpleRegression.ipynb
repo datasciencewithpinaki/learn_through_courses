{
 "cells": [
  {
   "cell_type": "markdown",
   "metadata": {},
   "source": [
    "# COURSE: Master statistics and machine learning: Intuition, Math, code\n",
    "##### COURSE URL: udemy.com/course/statsml_x/?couponCode=202304 \n",
    "## SECTION: Regression\n",
    "### VIDEO: Simple regression\n",
    "#### TEACHER: Mike X Cohen, sincxpress.com"
   ]
  },
  {
   "cell_type": "code",
   "execution_count": null,
   "metadata": {},
   "outputs": [],
   "source": [
    "import numpy as np\n",
    "import matplotlib.pyplot as plt\n",
    "import scipy.stats as stats"
   ]
  },
  {
   "cell_type": "code",
   "execution_count": null,
   "metadata": {},
   "outputs": [],
   "source": [
    "## example: effects of sleep on food spending\n",
    "\n",
    "sleepHours = [5, 5.5, 6, 6, 7, 7, 7.5, 8, 8.5, 9]\n",
    "dollars = [47, 53, 52, 44, 39, 49, 50, 38, 43, 40]\n",
    "\n",
    "# start by showing the data\n",
    "plt.plot(sleepHours,dollars,'ko',markerfacecolor='k')\n",
    "plt.xlabel('Hours of sleep')\n",
    "plt.ylabel('Fijian dollars')\n",
    "plt.show()"
   ]
  },
  {
   "cell_type": "code",
   "execution_count": null,
   "metadata": {},
   "outputs": [],
   "source": [
    "## \"manual\" regression via least-squares fitting\n",
    "\n",
    "# create the design matrix\n",
    "desmat = np.vstack((np.ones(10),sleepHours)).T\n",
    "print(desmat)\n",
    "\n",
    "# compute the beta parameters (regression coefficients)\n",
    "beta = np.linalg.lstsq(desmat,dollars,rcond=None)[0]\n",
    "print(beta)\n",
    "\n",
    "# predicted data values\n",
    "yHat = desmat@beta"
   ]
  },
  {
   "cell_type": "code",
   "execution_count": null,
   "metadata": {},
   "outputs": [],
   "source": [
    "## show the predicted results on top of the \"real\" data\n",
    "\n",
    "# show previous data\n",
    "plt.plot(sleepHours,dollars,'ko',markerfacecolor='k')\n",
    "\n",
    "# predicted results\n",
    "plt.plot(sleepHours,yHat,'s-')\n",
    "\n",
    "# show the residuals\n",
    "for i in range(10):\n",
    "    plt.plot([sleepHours[i],sleepHours[i]],[dollars[i], yHat[i]],'m--')\n",
    "    \n",
    "\n",
    "plt.legend(('Data (y)','Model ($\\^{y}$)','Residuals'))\n",
    "\n",
    "plt.xlabel('Hours of sleep')\n",
    "plt.ylabel('Fijian dollars')\n",
    "plt.show()"
   ]
  },
  {
   "cell_type": "code",
   "execution_count": null,
   "metadata": {},
   "outputs": [],
   "source": [
    "## now with scipy\n",
    "\n",
    "slope,intercept,r,p,std_err = stats.linregress(sleepHours,dollars)\n",
    "print(intercept,slope)\n",
    "print(beta)"
   ]
  }
 ],
 "metadata": {
  "kernelspec": {
   "display_name": "Python 3",
   "language": "python",
   "name": "python3"
  },
  "language_info": {
   "codemirror_mode": {
    "name": "ipython",
    "version": 3
   },
   "file_extension": ".py",
   "mimetype": "text/x-python",
   "name": "python",
   "nbconvert_exporter": "python",
   "pygments_lexer": "ipython3",
   "version": "3.7.3"
  }
 },
 "nbformat": 4,
 "nbformat_minor": 2
}

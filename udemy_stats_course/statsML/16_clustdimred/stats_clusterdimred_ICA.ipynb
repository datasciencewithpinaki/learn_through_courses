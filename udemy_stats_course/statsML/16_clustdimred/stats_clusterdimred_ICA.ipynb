{
 "cells": [
  {
   "cell_type": "markdown",
   "metadata": {},
   "source": [
    "# COURSE: Master statistics and machine learning: Intuition, Math, code\n",
    "##### COURSE URL: udemy.com/course/statsml_x/?couponCode=202304 \n",
    "## SECTION: Clustering and dimension-reduction\n",
    "### VIDEO: ICA\n",
    "#### TEACHER: Mike X Cohen, sincxpress.com"
   ]
  },
  {
   "cell_type": "code",
   "execution_count": null,
   "metadata": {},
   "outputs": [],
   "source": [
    "import numpy as np\n",
    "import matplotlib.pyplot as plt\n",
    "from sklearn.decomposition import FastICA"
   ]
  },
  {
   "cell_type": "code",
   "execution_count": null,
   "metadata": {},
   "outputs": [],
   "source": [
    "## Create the data\n",
    "\n",
    "#number of data points\n",
    "N = 1000\n",
    "\n",
    "#a non-Gaussian distribution\n",
    "dist1 = np.random.rand(N)\n",
    "\n",
    "# another non-Gaussian distribution\n",
    "dist2 = np.random.rand(N)**4\n",
    "\n",
    "\n",
    "# setup the figure\n",
    "fig = plt.figure(constrained_layout=False,figsize=(10,8))\n",
    "axs = fig.add_gridspec(2,2)\n",
    "\n",
    "\n",
    "# individual distributions\n",
    "ax1 = fig.add_subplot(axs[0,0])\n",
    "ax1.hist(dist1,100)\n",
    "ax1.set_title('Distribution 1')\n",
    "\n",
    "ax2 = fig.add_subplot(axs[0,1])\n",
    "ax2.hist(dist2,100)\n",
    "ax2.set_title('Distribution 2')\n",
    "\n",
    "# and their summed histogram\n",
    "ax3 = fig.add_subplot(axs[1,:])\n",
    "ax3.hist(dist1+dist2,100)\n",
    "ax3.set_title('Distributions 1+2')\n",
    "\n",
    "plt.show()"
   ]
  },
  {
   "cell_type": "code",
   "execution_count": null,
   "metadata": {},
   "outputs": [],
   "source": [
    "## ICA\n",
    "\n",
    "# two non-Gaussian distributions\n",
    "data = np.vstack((.4*dist1+.3*dist2, .8*dist1-.7*dist2))\n",
    "\n",
    "# ICA and scores\n",
    "fastica = FastICA(max_iter=10000,tol=.0000001)\n",
    "b = fastica.fit_transform(data)\n",
    "iscores = b@data\n",
    "\n",
    "\n",
    "# plot distributions\n",
    "\n",
    "# IC 1\n",
    "fig,ax = plt.subplots(1,2,figsize=(8,5))\n",
    "ax[0].hist(iscores[0,:],100)\n",
    "ax[0].set_title('IC 1')\n",
    "\n",
    "# IC 2\n",
    "ax[1].hist(iscores[1,:],100)\n",
    "ax[1].set_title('IC 2')\n",
    "\n",
    "\n",
    "plt.show()"
   ]
  },
  {
   "cell_type": "code",
   "execution_count": null,
   "metadata": {},
   "outputs": [],
   "source": [
    "## look at the data in data space and IC space\n",
    "\n",
    "fig,ax = plt.subplots(1,2,figsize=(8,5))\n",
    "\n",
    "ax[0].plot(data[0,:],data[1,:],'o')\n",
    "ax[0].set_title('Data space')\n",
    "\n",
    "ax[1].plot(iscores[0,:],iscores[1,:],'o')\n",
    "ax[1].set_title('IC space')\n",
    "plt.show()"
   ]
  },
  {
   "cell_type": "code",
   "execution_count": null,
   "metadata": {},
   "outputs": [],
   "source": [
    "## show that the original data match the ICs\n",
    "\n",
    "# now plot data as a function of ICs\n",
    "fig,ax = plt.subplots(1,2,figsize=(8,5))\n",
    "\n",
    "ax[0].plot(dist1,iscores[0,:],'o')\n",
    "ax[0].set_xticks([])\n",
    "ax[0].set_yticks([])\n",
    "ax[0].set_xlabel('Original signal')\n",
    "ax[0].set_ylabel('IC1 scores')\n",
    "\n",
    "ax[1].plot(dist2,iscores[1,:],'o')\n",
    "ax[1].set_xticks([])\n",
    "ax[1].set_yticks([])\n",
    "ax[1].set_xlabel('Original signal')\n",
    "ax[1].set_ylabel('IC2 scores')\n",
    "plt.show()"
   ]
  }
 ],
 "metadata": {
  "kernelspec": {
   "display_name": "Python 3",
   "language": "python",
   "name": "python3"
  },
  "language_info": {
   "codemirror_mode": {
    "name": "ipython",
    "version": 3
   },
   "file_extension": ".py",
   "mimetype": "text/x-python",
   "name": "python",
   "nbconvert_exporter": "python",
   "pygments_lexer": "ipython3",
   "version": "3.7.3"
  }
 },
 "nbformat": 4,
 "nbformat_minor": 2
}

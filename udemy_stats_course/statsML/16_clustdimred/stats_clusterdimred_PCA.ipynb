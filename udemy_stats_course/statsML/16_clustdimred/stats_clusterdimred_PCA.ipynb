{
 "cells": [
  {
   "cell_type": "markdown",
   "metadata": {},
   "source": [
    "# COURSE: Master statistics and machine learning: Intuition, Math, code\n",
    "##### COURSE URL: udemy.com/course/statsml_x/?couponCode=202304 \n",
    "## SECTION: Clustering and dimension-reduction\n",
    "### VIDEO: PCA\n",
    "#### TEACHER: Mike X Cohen, sincxpress.com"
   ]
  },
  {
   "cell_type": "code",
   "execution_count": null,
   "metadata": {},
   "outputs": [],
   "source": [
    "import numpy as np\n",
    "import matplotlib.pyplot as plt\n",
    "from sklearn.decomposition import PCA"
   ]
  },
  {
   "cell_type": "code",
   "execution_count": null,
   "metadata": {},
   "outputs": [],
   "source": [
    "## Create the data\n",
    "\n",
    "N = 1000\n",
    "\n",
    "# data\n",
    "x = np.array([ np.random.randn(N), .4*np.random.randn(N) ]).T\n",
    "\n",
    "# rotation matrix\n",
    "th = np.pi/4\n",
    "R1 = [ [np.cos(th), -np.sin(th)], [np.sin(th), np.cos(th)] ]\n",
    "\n",
    "# rotate data\n",
    "y = x@np.array(R1)\n",
    "\n",
    "axlim = [-1.1*max(abs(y.flatten())), 1.1*max(abs(y.flatten()))] # axis limits\n",
    "\n",
    "# and plot\n",
    "plt.plot(y[:,0],y[:,1],'k.')\n",
    "plt.xticks([])\n",
    "plt.yticks([])\n",
    "plt.xlabel('$X_1$')\n",
    "plt.ylabel('$X_2$')\n",
    "plt.axis('square')\n",
    "plt.title('Data space')\n",
    "plt.show()"
   ]
  },
  {
   "cell_type": "code",
   "execution_count": null,
   "metadata": {},
   "outputs": [],
   "source": [
    "## now for PCA\n",
    "\n",
    "# PCA using scikitlearn's function\n",
    "pca = PCA().fit(y)\n",
    "\n",
    "# get the PC scores\n",
    "pcscores = pca.transform(y)\n",
    "\n",
    "\n",
    "# and plot\n",
    "fig,ax = plt.subplots(1,2,figsize=(8,4))\n",
    "ax[0].plot(y[:,0],y[:,1],'k.')\n",
    "ax[0].axis('square')\n",
    "ax[0].set_xticks([])\n",
    "ax[0].set_yticks([])\n",
    "ax[1].set_xlim(axlim)\n",
    "ax[1].set_ylim(axlim)\n",
    "ax[0].set_xlabel('$X_1$')\n",
    "ax[0].set_ylabel('$X_2$')\n",
    "ax[0].set_title('Data space')\n",
    "\n",
    "ax[1].plot(pcscores[:,0],pcscores[:,1],'k.')\n",
    "ax[1].axis('square')\n",
    "ax[1].set_xticks([])\n",
    "ax[1].set_yticks([])\n",
    "ax[1].set_xlim(axlim)\n",
    "ax[1].set_ylim(axlim)\n",
    "ax[1].set_xlabel('$PC_1$')\n",
    "ax[1].set_ylabel('$PC_2$')\n",
    "ax[1].set_title('PC space')\n",
    "\n",
    "plt.show()"
   ]
  },
  {
   "cell_type": "code",
   "execution_count": null,
   "metadata": {},
   "outputs": [],
   "source": [
    "## for dimension reduction\n",
    "\n",
    "spikes = np.loadtxt('spikes.csv',delimiter=',')\n",
    "\n",
    "\n",
    "# let's see it!\n",
    "plt.plot(np.mean(spikes,axis=0))\n",
    "plt.title('Average of all spikes')\n",
    "plt.show()\n",
    "\n",
    "plt.imshow(spikes,aspect='auto')\n",
    "plt.xlabel('Time points')\n",
    "plt.ylabel('Individual spikes')\n",
    "plt.show()"
   ]
  },
  {
   "cell_type": "code",
   "execution_count": null,
   "metadata": {},
   "outputs": [],
   "source": [
    "## pca\n",
    "\n",
    "# PCA using scikitlearn's function\n",
    "pca = PCA().fit(spikes)\n",
    "\n",
    "# get the PC scores and the eigenspectrum\n",
    "pcscores = pca.transform(spikes)\n",
    "explVar = pca.explained_variance_\n",
    "explVar = 100*explVar/sum(explVar) # convert to %total\n",
    "coeffs  = pca.components_\n",
    "\n",
    "\n",
    "# show the scree plot (a.k.a. eigenspectrum)\n",
    "fig,ax = plt.subplots(1,2,figsize=(10,4))\n",
    "\n",
    "ax[0].plot(explVar,'kp-',markerfacecolor='k',markersize=10)\n",
    "ax[0].set_xlabel('Component number')\n",
    "ax[0].set_ylabel('Percent variance explained')\n",
    "\n",
    "ax[1].plot(np.cumsum(explVar),'kp-',markerfacecolor='k',markersize=10)\n",
    "ax[1].set_xlabel('Component number')\n",
    "ax[1].set_ylabel('Cumulative percent variance explained')\n",
    "plt.show()\n",
    "\n",
    "# now show the PC weights for the top two components\n",
    "plt.plot(coeffs[0,:])\n",
    "plt.plot(coeffs[1,:])\n",
    "plt.xlabel('Time')\n",
    "plt.legend(('Comp 1','Comp 2'))\n",
    "plt.title('PC weights (coefficients)')\n",
    "plt.show()"
   ]
  },
  {
   "cell_type": "code",
   "execution_count": null,
   "metadata": {},
   "outputs": [],
   "source": [
    "## finally, show the PC scores\n",
    "plt.plot(pcscores[:,0],pcscores[:,1],'k.',markersize=.1)\n",
    "plt.xlabel('PC_1')\n",
    "plt.ylabel('PC_2')\n",
    "plt.title('PC space')\n",
    "plt.show()"
   ]
  }
 ],
 "metadata": {
  "kernelspec": {
   "display_name": "Python 3",
   "language": "python",
   "name": "python3"
  },
  "language_info": {
   "codemirror_mode": {
    "name": "ipython",
    "version": 3
   },
   "file_extension": ".py",
   "mimetype": "text/x-python",
   "name": "python",
   "nbconvert_exporter": "python",
   "pygments_lexer": "ipython3",
   "version": "3.7.4"
  }
 },
 "nbformat": 4,
 "nbformat_minor": 2
}

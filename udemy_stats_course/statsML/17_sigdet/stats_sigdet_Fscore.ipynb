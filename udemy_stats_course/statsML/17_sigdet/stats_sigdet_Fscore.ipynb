{
 "cells": [
  {
   "cell_type": "markdown",
   "metadata": {},
   "source": [
    "# COURSE: Master statistics and machine learning: Intuition, Math, code\n",
    "##### COURSE URL: udemy.com/course/statsml_x/?couponCode=202304 \n",
    "## SECTION: Signal detection theory\n",
    "### VIDEO: F-score\n",
    "#### TEACHER: Mike X Cohen, sincxpress.com"
   ]
  },
  {
   "cell_type": "code",
   "execution_count": null,
   "metadata": {},
   "outputs": [],
   "source": [
    "import numpy as np\n",
    "import matplotlib.pyplot as plt\n",
    "import scipy.stats as stats"
   ]
  },
  {
   "cell_type": "code",
   "execution_count": null,
   "metadata": {},
   "outputs": [],
   "source": [
    "## run experiment\n",
    "\n",
    "# number of 'trials' in the experiment\n",
    "N = 50 # actual trials is 2N\n",
    "\n",
    "# number of experiment repetitions\n",
    "numExps = 10000\n",
    "\n",
    "# initialize\n",
    "Fscores     = np.zeros(numExps)\n",
    "dPrimes     = np.zeros(numExps)\n",
    "specificity = np.zeros(numExps)\n",
    "\n",
    "\n",
    "### run the experiment!\n",
    "for expi in range(numExps):\n",
    "    \n",
    "    # generate data\n",
    "    H = np.random.randint(1,N)  # hits\n",
    "    M = N-H                     # misses\n",
    "    CR = np.random.randint(1,N) # correct rejections\n",
    "    FA = N-CR                   # false alarms\n",
    "    \n",
    "    # Fscore\n",
    "    Fscores[expi] = H / (H+(FA+M)/2)\n",
    "    \n",
    "    # specificity\n",
    "    specificity[expi] = CR/(CR+FA)\n",
    "    \n",
    "    # d'\n",
    "    dPrimes[expi] = stats.norm.ppf(H/N) - stats.norm.ppf(FA/N)\n",
    "    \n",
    "    \n",
    "    # not used here...\n",
    "    precision = H/(H+FA)\n",
    "    recall    = H/(H+M)\n"
   ]
  },
  {
   "cell_type": "code",
   "execution_count": null,
   "metadata": {},
   "outputs": [],
   "source": [
    "## let's see how they relate to each other!\n",
    "\n",
    "fig = plt.subplots(1,figsize=(6,6))\n",
    "\n",
    "plt.scatter(dPrimes,Fscores,s=5,c=specificity)\n",
    "plt.plot([-4,4],[.5,.5],'k--',linewidth=.5)\n",
    "plt.plot([0,0],[0,1],'k--',linewidth=.5)\n",
    "plt.xlabel('d-prime')\n",
    "plt.ylabel('F-score')\n",
    "plt.title('Correlation = %g' %np.round(np.corrcoef(Fscores,dPrimes)[1,0],3))\n",
    "\n",
    "plt.show()"
   ]
  }
 ],
 "metadata": {
  "kernelspec": {
   "display_name": "Python 3",
   "language": "python",
   "name": "python3"
  },
  "language_info": {
   "codemirror_mode": {
    "name": "ipython",
    "version": 3
   },
   "file_extension": ".py",
   "mimetype": "text/x-python",
   "name": "python",
   "nbconvert_exporter": "python",
   "pygments_lexer": "ipython3",
   "version": "3.7.3"
  }
 },
 "nbformat": 4,
 "nbformat_minor": 2
}

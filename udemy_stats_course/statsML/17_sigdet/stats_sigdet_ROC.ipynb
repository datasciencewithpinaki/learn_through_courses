{
 "cells": [
  {
   "cell_type": "markdown",
   "metadata": {},
   "source": [
    "# COURSE: Master statistics and machine learning: Intuition, Math, code\n",
    "##### COURSE URL: udemy.com/course/statsml_x/?couponCode=202304 \n",
    "## SECTION: Signal detection theory\n",
    "### VIDEO: ROC curves\n",
    "#### TEACHER: Mike X Cohen, sincxpress.com"
   ]
  },
  {
   "cell_type": "code",
   "execution_count": null,
   "metadata": {},
   "outputs": [],
   "source": [
    "import numpy as np\n",
    "import matplotlib.pyplot as plt\n",
    "import scipy.stats as stats"
   ]
  },
  {
   "cell_type": "code",
   "execution_count": null,
   "metadata": {},
   "outputs": [],
   "source": [
    "## first, re-create the dp and rb matrices from previous lectures\n",
    "\n",
    "x  = np.arange(.01,1,.01)\n",
    "dp = np.tile(stats.norm.ppf(x),(99,1)).T - np.tile(stats.norm.ppf(x),(99,1))\n",
    "rb = -( np.tile(stats.norm.ppf(x),(99,1)).T + np.tile(stats.norm.ppf(x),(99,1)) )/2"
   ]
  },
  {
   "cell_type": "code",
   "execution_count": null,
   "metadata": {},
   "outputs": [],
   "source": [
    "## create the 2D bias spaces and plot their ROC curves\n",
    "\n",
    "rb2plot = [.3, .5, .9, 1.5] # d'/bias levels \n",
    "tol = .01 # tolerance for matching levels\n",
    "colorz = 'rbmk'\n",
    "\n",
    "# setup the figure\n",
    "fig,ax = plt.subplots(1,2,figsize=(10,5))\n",
    "\n",
    "# show the 2D spaces\n",
    "ax[0].imshow(dp,extent=[x[0],x[-1],x[0],x[-1]],origin='lower')\n",
    "ax[0].set_xlabel('False alarm rate')\n",
    "ax[0].set_ylabel('Hit rate')\n",
    "ax[0].set_title(\"d'\")\n",
    "\n",
    "ax[1].imshow(rb,extent=[x[0],x[-1],x[0],x[-1]],origin='lower')\n",
    "ax[1].set_xlabel('False alarm rate')\n",
    "ax[1].set_ylabel('Hit rate')\n",
    "ax[1].set_title('Response bias')\n",
    "\n",
    "\n",
    "\n",
    "### now draw the isocontours\n",
    "for i in range(len(rb2plot)):\n",
    "    \n",
    "    # find d' points\n",
    "    idx = np.where((dp>rb2plot[i]-tol) & (dp<rb2plot[i]+tol))\n",
    "    ax[0].plot(x[idx[1]],x[idx[0]],'o-',color=colorz[i])\n",
    "    \n",
    "    # find bias points\n",
    "    idx = np.where((rb>rb2plot[i]-tol) & (rb<rb2plot[i]+tol))\n",
    "    ax[1].plot(x[idx[1]],x[idx[0]],'o-',color=colorz[i])\n",
    "\n",
    "\n",
    "plt.show()"
   ]
  }
 ],
 "metadata": {
  "kernelspec": {
   "display_name": "Python 3",
   "language": "python",
   "name": "python3"
  },
  "language_info": {
   "codemirror_mode": {
    "name": "ipython",
    "version": 3
   },
   "file_extension": ".py",
   "mimetype": "text/x-python",
   "name": "python",
   "nbconvert_exporter": "python",
   "pygments_lexer": "ipython3",
   "version": "3.7.4"
  }
 },
 "nbformat": 4,
 "nbformat_minor": 2
}

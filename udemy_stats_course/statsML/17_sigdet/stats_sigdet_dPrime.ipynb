{
 "cells": [
  {
   "cell_type": "markdown",
   "metadata": {},
   "source": [
    "# COURSE: Master statistics and machine learning: Intuition, Math, code\n",
    "##### COURSE URL: udemy.com/course/statsml_x/?couponCode=202304 \n",
    "## SECTION: Signal detection theory\n",
    "### VIDEO: d-prime\n",
    "#### TEACHER: Mike X Cohen, sincxpress.com"
   ]
  },
  {
   "cell_type": "code",
   "execution_count": null,
   "metadata": {},
   "outputs": [],
   "source": [
    "import numpy as np\n",
    "import matplotlib.pyplot as plt\n",
    "import scipy.stats as stats"
   ]
  },
  {
   "cell_type": "code",
   "execution_count": null,
   "metadata": {},
   "outputs": [],
   "source": [
    "## example from the slides\n",
    "\n",
    "# step 1\n",
    "hitP = 22/30\n",
    "faP  =  3/30\n",
    "\n",
    "# step 2\n",
    "hitZ = stats.norm.ppf(hitP)\n",
    "faZ  = stats.norm.ppf(faP)\n",
    "\n",
    "# step 3\n",
    "dPrime = hitZ-faZ\n",
    "\n",
    "print(dPrime)"
   ]
  },
  {
   "cell_type": "code",
   "execution_count": null,
   "metadata": {},
   "outputs": [],
   "source": [
    "## failure scenarios and their resolutions\n",
    "\n",
    "hitZ = stats.norm.ppf(0/30)\n",
    "faZ  = stats.norm.ppf(22/30)\n",
    "\n",
    "print(hitZ-faZ)"
   ]
  },
  {
   "cell_type": "code",
   "execution_count": null,
   "metadata": {},
   "outputs": [],
   "source": [
    "## 2D d' space\n",
    "\n",
    "# response probabilities\n",
    "x  = np.arange(.01,1,.01)\n",
    "\n",
    "# generate the space using tile expansion\n",
    "dp = np.tile(stats.norm.ppf(x),(99,1)).T - np.tile(stats.norm.ppf(x),(99,1))\n",
    "\n",
    "\n",
    "# show the 2D d' space\n",
    "plt.imshow(dp,extent=[x[0],x[-1],x[0],x[-1]],origin='lower')\n",
    "plt.xlabel('False alarm rate')\n",
    "plt.ylabel('Hit rate')\n",
    "plt.title(\"d'\")\n",
    "plt.colorbar()\n",
    "plt.show()"
   ]
  }
 ],
 "metadata": {
  "kernelspec": {
   "display_name": "Python 3",
   "language": "python",
   "name": "python3"
  },
  "language_info": {
   "codemirror_mode": {
    "name": "ipython",
    "version": 3
   },
   "file_extension": ".py",
   "mimetype": "text/x-python",
   "name": "python",
   "nbconvert_exporter": "python",
   "pygments_lexer": "ipython3",
   "version": "3.7.3"
  }
 },
 "nbformat": 4,
 "nbformat_minor": 2
}

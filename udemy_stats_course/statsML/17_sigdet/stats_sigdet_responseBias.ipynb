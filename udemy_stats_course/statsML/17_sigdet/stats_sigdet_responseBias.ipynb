{
 "cells": [
  {
   "cell_type": "markdown",
   "metadata": {},
   "source": [
    "# COURSE: Master statistics and machine learning: Intuition, Math, code\n",
    "##### COURSE URL: udemy.com/course/statsml_x/?couponCode=202304 \n",
    "## SECTION: Signal detection theory\n",
    "### VIDEO: Response bias\n",
    "#### TEACHER: Mike X Cohen, sincxpress.com"
   ]
  },
  {
   "cell_type": "code",
   "execution_count": null,
   "metadata": {},
   "outputs": [],
   "source": [
    "import numpy as np\n",
    "import matplotlib.pyplot as plt\n",
    "import scipy.stats as stats"
   ]
  },
  {
   "cell_type": "code",
   "execution_count": null,
   "metadata": {},
   "outputs": [],
   "source": [
    "## example from the slides\n",
    "\n",
    "# step 1\n",
    "hitP = 22/30\n",
    "faP  =  3/30\n",
    "\n",
    "# step 2\n",
    "hitZ = stats.norm.ppf(hitP)\n",
    "faZ  = stats.norm.ppf(faP)\n",
    "\n",
    "# step 3\n",
    "respBias = -(hitZ+faZ)/2\n",
    "\n",
    "print(respBias)"
   ]
  },
  {
   "cell_type": "code",
   "execution_count": null,
   "metadata": {},
   "outputs": [],
   "source": [
    "## 2D bias space\n",
    "\n",
    "# response probabilities\n",
    "x  = np.arange(.01,1,.01)\n",
    "\n",
    "# generate the space using tile expansion\n",
    "rb = -( np.tile(stats.norm.ppf(x),(99,1)).T + np.tile(stats.norm.ppf(x),(99,1)) )/2\n",
    "\n",
    "\n",
    "# show the 2D response bias space\n",
    "plt.imshow(rb,extent=[x[0],x[-1],x[0],x[-1]],origin='lower')\n",
    "plt.xlabel('False alarm rate')\n",
    "plt.ylabel('Hit rate')\n",
    "plt.title('Response bias')\n",
    "plt.colorbar()\n",
    "plt.show()"
   ]
  }
 ],
 "metadata": {
  "kernelspec": {
   "display_name": "Python 3",
   "language": "python",
   "name": "python3"
  },
  "language_info": {
   "codemirror_mode": {
    "name": "ipython",
    "version": 3
   },
   "file_extension": ".py",
   "mimetype": "text/x-python",
   "name": "python",
   "nbconvert_exporter": "python",
   "pygments_lexer": "ipython3",
   "version": "3.7.3"
  }
 },
 "nbformat": 4,
 "nbformat_minor": 2
}

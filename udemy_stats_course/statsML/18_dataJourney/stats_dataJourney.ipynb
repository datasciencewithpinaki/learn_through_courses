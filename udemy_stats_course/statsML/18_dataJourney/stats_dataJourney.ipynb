{
 "cells": [
  {
   "cell_type": "markdown",
   "metadata": {},
   "source": [
    "# COURSE: Master statistics and machine learning: Intuition, Math, code\n",
    "##### COURSE URL: udemy.com/course/statsml_x/?couponCode=202304 \n",
    "## SECTION: A real-world data journey\n",
    "#### TEACHER: Mike X Cohen, sincxpress.com"
   ]
  },
  {
   "cell_type": "code",
   "execution_count": null,
   "metadata": {},
   "outputs": [],
   "source": [
    "import numpy as np\n",
    "import matplotlib.pyplot as plt\n",
    "import scipy.stats as stats\n",
    "from sklearn.decomposition import PCA\n",
    "import pandas as pd"
   ]
  },
  {
   "cell_type": "code",
   "execution_count": null,
   "metadata": {},
   "outputs": [],
   "source": [
    "# data urls\n",
    "\n",
    "marriage_url = 'https://www.cdc.gov/nchs/data/dvs/state-marriage-rates-90-95-99-19.xlsx'\n",
    "divorce_url  = 'https://www.cdc.gov/nchs/data/dvs/state-divorce-rates-90-95-99-19.xlsx'"
   ]
  },
  {
   "cell_type": "markdown",
   "metadata": {},
   "source": [
    "# Import the marriage data"
   ]
  },
  {
   "cell_type": "code",
   "execution_count": null,
   "metadata": {},
   "outputs": [],
   "source": [
    "data = pd.read_excel(marriage_url,header=5)\n",
    "data"
   ]
  },
  {
   "cell_type": "code",
   "execution_count": null,
   "metadata": {},
   "outputs": [],
   "source": [
    "# remove irrelevant rows\n",
    "data.drop([0,52,53,54,55,56,57],axis=0,inplace=True)\n",
    "data"
   ]
  },
  {
   "cell_type": "code",
   "execution_count": null,
   "metadata": {},
   "outputs": [],
   "source": [
    "# replace --- with nan\n",
    "data = data.replace({'---': np.nan})\n",
    "data"
   ]
  },
  {
   "cell_type": "code",
   "execution_count": null,
   "metadata": {},
   "outputs": [],
   "source": [
    "# replace nan's with column median\n",
    "data.fillna(data.median(), inplace=True)\n",
    "data"
   ]
  },
  {
   "cell_type": "code",
   "execution_count": null,
   "metadata": {},
   "outputs": [],
   "source": [
    "# extract to matrices\n",
    "yearM = data.columns[1:].to_numpy().astype(float)\n",
    "yearM\n",
    "\n",
    "statesM = data.iloc[:,0]\n",
    "statesM\n",
    "\n",
    "M = data.iloc[:,1:].to_numpy()\n",
    "np.round(M,2)"
   ]
  },
  {
   "cell_type": "code",
   "execution_count": null,
   "metadata": {},
   "outputs": [],
   "source": [
    "# make some plots\n",
    "\n",
    "fig,ax = plt.subplots(3,1,figsize=(8,5))\n",
    "\n",
    "ax[0].plot(yearM,M.T)\n",
    "ax[0].set_ylabel('M. rate (per 1k)')\n",
    "ax[0].set_title('Marriage rates over time')\n",
    "\n",
    "ax[1].plot(yearM,stats.zscore(M.T))\n",
    "ax[1].set_ylabel('M. rate (per 1k)')\n",
    "ax[1].set_title('M. rate (z-norm)')\n",
    "\n",
    "# notice that x-axis is non-constant\n",
    "ax[2].plot(yearM,np.mean(M,axis=0),'ks-',markerfacecolor='w',markersize=8)\n",
    "ax[2].set_ylabel('M. rate (per 1k)')\n",
    "ax[2].set_title('State-average')\n",
    "ax[2].set_xlabel('Year')\n",
    "# QUESTION: Is this the same as the US average?\n",
    "\n",
    "plt.tight_layout()\n",
    "plt.show()\n",
    "\n",
    "plt.imshow(stats.zscore(M,axis=1),aspect='auto')\n",
    "plt.xticks([])\n",
    "plt.xlabel('Year')\n",
    "plt.ylabel('State index')\n",
    "plt.colorbar()\n",
    "plt.show()"
   ]
  },
  {
   "cell_type": "code",
   "execution_count": null,
   "metadata": {},
   "outputs": [],
   "source": [
    "# barplot of average marriage rate\n",
    "\n",
    "# average over time\n",
    "meanMarriageRate = np.mean(M,axis=1)\n",
    "\n",
    "# sort index\n",
    "sidx_M = np.argsort(meanMarriageRate)\n",
    "\n",
    "fig = plt.figure(figsize=(12,4))\n",
    "plt.bar(statesM.iloc[sidx_M],meanMarriageRate[sidx_M])\n",
    "plt.xticks(rotation=90)\n",
    "plt.ylabel('M. rate (per 1k)')\n",
    "plt.title('Marriage rates per state')\n",
    "plt.show()\n",
    "\n",
    "# QUESTION:\n",
    "#   Is Nevada a non-representative datapoint or an error?\n"
   ]
  },
  {
   "cell_type": "code",
   "execution_count": null,
   "metadata": {},
   "outputs": [],
   "source": [
    "# show the correlation matrix\n",
    "\n",
    "plt.imshow(np.corrcoef(M.T),vmin=.9,vmax=1,\n",
    "             extent=[yearM[0],yearM[-1],yearM[-1],yearM[0]])\n",
    "plt.colorbar()\n",
    "plt.show()"
   ]
  },
  {
   "cell_type": "code",
   "execution_count": null,
   "metadata": {},
   "outputs": [],
   "source": [
    "# PCA\n",
    "\n",
    "pca = PCA().fit(M)\n",
    "\n",
    "# scree plot\n",
    "plt.plot(100*pca.explained_variance_ratio_,'ks-',markerfacecolor='w',markersize=10)\n",
    "plt.ylabel('Percent variance explained')\n",
    "plt.xlabel('Component number')\n",
    "plt.title('PCA scree plot of marriage data')\n",
    "plt.show()\n",
    "100*pca.explained_variance_ratio_"
   ]
  },
  {
   "cell_type": "markdown",
   "metadata": {},
   "source": [
    "# Repeat for divorce data"
   ]
  },
  {
   "cell_type": "code",
   "execution_count": null,
   "metadata": {},
   "outputs": [],
   "source": [
    "# import the data\n",
    "data = pd.read_excel(divorce_url,header=5)\n",
    "data.drop([0,52,53,54,55,56,57],axis=0,inplace=True)\n",
    "data = data.replace({'---': np.nan})\n",
    "data.fillna(data.median(), inplace=True)\n",
    "yearD = data.columns[1:].to_numpy().astype(float)\n",
    "statesD = data.iloc[:,0]\n",
    "D = data.iloc[:,1:].to_numpy()"
   ]
  },
  {
   "cell_type": "code",
   "execution_count": null,
   "metadata": {},
   "outputs": [],
   "source": [
    "# make some plots\n",
    "fig,ax = plt.subplots(3,1,figsize=(8,5))\n",
    "\n",
    "ax[0].plot(yearD,D.T)\n",
    "ax[0].set_ylabel('D. rate (per 1k)')\n",
    "ax[0].set_title('Divorce rates over time')\n",
    "\n",
    "ax[1].plot(yearD,stats.zscore(D.T))\n",
    "ax[1].set_ylabel('D. rate (per 1k)')\n",
    "ax[1].set_title('D. rate (z-norm)')\n",
    "\n",
    "# notice that x-axis is non-constant\n",
    "ax[2].plot(yearD,np.mean(D,axis=0),'ks-',markerfacecolor='w',markersize=8)\n",
    "ax[2].set_ylabel('D. rate (per 1k)')\n",
    "ax[2].set_title('State-average')\n",
    "ax[2].set_xlabel('Year')\n",
    "plt.tight_layout()\n",
    "plt.show()\n",
    "\n",
    "plt.imshow(stats.zscore(D,axis=1),aspect='auto')\n",
    "plt.xticks([])\n",
    "plt.xlabel('Year')\n",
    "plt.ylabel('State index')\n",
    "plt.show()\n",
    "\n",
    "\n",
    "\n",
    "\n",
    "\n",
    "# barplot of average marriage rate\n",
    "meanDivorceRate = np.mean(D,axis=1)\n",
    "sidx_D = np.argsort(meanDivorceRate)\n",
    "\n",
    "fig = plt.figure(figsize=(12,4))\n",
    "plt.bar(statesD.iloc[sidx_D],meanDivorceRate[sidx_D])\n",
    "plt.xticks(rotation=90)\n",
    "plt.ylabel('D. rate (per 1k)')\n",
    "plt.title('Divorce rates per state')\n",
    "plt.show()\n",
    "\n",
    "\n",
    "\n",
    "\n",
    "\n",
    "\n",
    "# show the correlation matrix\n",
    "plt.imshow(np.corrcoef(D.T),vmin=.9,vmax=1,\n",
    "             extent=[yearD[0],yearD[-1],yearD[-1],yearD[0]])\n",
    "plt.colorbar()\n",
    "plt.show()\n",
    "\n",
    "\n",
    "\n",
    "\n",
    "\n",
    "# PCA\n",
    "pca = PCA().fit(D)\n",
    "\n",
    "# scree plot\n",
    "plt.plot(pca.explained_variance_ratio_,'ks-',markerfacecolor='w',markersize=10)\n",
    "plt.ylabel('Percent variance explained')\n",
    "plt.xlabel('Component number')\n",
    "plt.title('PCA scree plot of divorce data')\n",
    "plt.show()"
   ]
  },
  {
   "cell_type": "code",
   "execution_count": null,
   "metadata": {},
   "outputs": [],
   "source": [
    "# check if marriage and divorce datasets have the same year/state order\n",
    "\n",
    "# should be zero\n",
    "print( 'Comparison of year vectors: ')\n",
    "print( np.sum(yearD-yearM) )\n",
    "\n",
    "# should be TRUE\n",
    "print('')\n",
    "print( 'Comparison of states vectors: ')\n",
    "print( statesM.equals(statesD) )\n",
    "# ... uh oh...\n",
    "\n",
    "# compare\n",
    "tmpStateNames = pd.concat([statesM,statesD],axis=1)\n",
    "print(tmpStateNames)\n",
    "\n",
    "# find the difference\n",
    "np.where(tmpStateNames.iloc[:,0] != tmpStateNames.iloc[:,1])"
   ]
  },
  {
   "cell_type": "code",
   "execution_count": null,
   "metadata": {},
   "outputs": [],
   "source": [
    "# btw, you can also correlate over states\n",
    "\n",
    "fig = plt.figure(figsize=(12,12))\n",
    "plt.imshow(np.corrcoef(D),vmin=0,vmax=1)\n",
    "plt.xticks(ticks=range(len(statesD)),labels=statesD,rotation=90)\n",
    "plt.yticks(ticks=range(len(statesD)),labels=statesD)\n",
    "plt.colorbar()\n",
    "plt.show()"
   ]
  },
  {
   "cell_type": "markdown",
   "metadata": {},
   "source": [
    "# Now for some inferential statistics"
   ]
  },
  {
   "cell_type": "code",
   "execution_count": null,
   "metadata": {},
   "outputs": [],
   "source": [
    "# Correlate M and D over time per state\n",
    "\n",
    "\n",
    "# Bonferroni corrected threshold\n",
    "pvalThresh = .05/51\n",
    "\n",
    "\n",
    "fig = plt.figure(figsize=(6,10))\n",
    "\n",
    "color = 'rg'\n",
    "for si in range(len(statesM)):\n",
    "    \n",
    "    # compute correlation\n",
    "    r,p = stats.pearsonr(M[si,:],D[si,:])\n",
    "    \n",
    "    # plot the data point\n",
    "    plt.plot([r,1],[si,si],'-',color=[.5,.5,.5])\n",
    "    plt.plot(r,si,'ks',markerfacecolor=color[bool(p<pvalThresh)])\n",
    "\n",
    "plt.ylabel('State')\n",
    "plt.xlabel('Correlation')\n",
    "plt.title('Marriage-divorce correlations per state')\n",
    "plt.yticks(range(len(statesM)),labels=statesD)\n",
    "plt.tick_params(axis='y',which='both',labelleft=False,labelright=True)\n",
    "plt.xlim([-1,1])\n",
    "plt.ylim([-1,51])\n",
    "plt.plot([0,0],[-1,51],'k--')\n",
    "plt.show()"
   ]
  },
  {
   "cell_type": "code",
   "execution_count": null,
   "metadata": {},
   "outputs": [],
   "source": [
    "# have marriage/divorce rates really declined over time?\n",
    "\n",
    "fig,ax = plt.subplots(2,1,figsize=(12,6))\n",
    "\n",
    "\n",
    "# initialize slope differences vector\n",
    "MvsD = np.zeros(len(statesM))\n",
    "\n",
    "for rowi in range(len(statesM)):\n",
    "    \n",
    "    # run regression (includes the intercept!)\n",
    "    bM,intercept,r,pM,seM = stats.linregress(yearM,M[rowi,:])\n",
    "    bD,intercept,r,pD,seD = stats.linregress(yearM,D[rowi,:])\n",
    "    \n",
    "    # normalize beta coefficients\n",
    "    bM = bM / seM\n",
    "    bD = bD / seD\n",
    "    \n",
    "    # plot the slope values\n",
    "    ax[0].plot([rowi,rowi],[bM,bD],'k')\n",
    "    ax[0].plot(rowi,bM,'ko',markerfacecolor=color[bool(pM<pvalThresh)])\n",
    "    ax[0].plot(rowi,bD,'ks',markerfacecolor=color[bool(pD<pvalThresh)])\n",
    "    \n",
    "    # plot the slope differences\n",
    "    ax[1].plot([rowi,rowi],[bM-bD, 0],'k-',color=[.7,.7,.7])\n",
    "    ax[1].plot([rowi,rowi],[bM-bD,bM-bD],'ko',color=[.7,.7,.7])\n",
    "    \n",
    "    # store the slope differences for subsequent t-test\n",
    "    MvsD[rowi] = bM-bD\n",
    "\n",
    "\n",
    "\n",
    "# make the plot look nicer\n",
    "for i in range(2):\n",
    "    ax[i].set_xticks(range(51))\n",
    "    ax[i].set_xticklabels(statesD,rotation=90)\n",
    "    ax[i].set_xlim([-1,51])\n",
    "    ax[i].plot([-1,52],[0,0],'k--')\n",
    "\n",
    "ax[0].set_ylabel('Decrease per year (norm.)')\n",
    "ax[1].set_ylabel('$\\Delta$M - $\\Delta$D')\n",
    "\n",
    "\n",
    "\n",
    "### ttest on whether the M-vs-D rates are really different\n",
    "t,p = stats.ttest_1samp(MvsD,0)\n",
    "df = len(MvsD)-1\n",
    "\n",
    "# set the title\n",
    "ax[1].set_title('Marriage vs. divorce: t(%g)=%g, p=%g'%(df,t,p))\n",
    "\n",
    "plt.tight_layout()\n",
    "plt.show()"
   ]
  },
  {
   "cell_type": "code",
   "execution_count": null,
   "metadata": {},
   "outputs": [],
   "source": []
  }
 ],
 "metadata": {
  "kernelspec": {
   "display_name": "Python 3 (ipykernel)",
   "language": "python",
   "name": "python3"
  },
  "language_info": {
   "codemirror_mode": {
    "name": "ipython",
    "version": 3
   },
   "file_extension": ".py",
   "mimetype": "text/x-python",
   "name": "python",
   "nbconvert_exporter": "python",
   "pygments_lexer": "ipython3",
   "version": "3.9.7"
  }
 },
 "nbformat": 4,
 "nbformat_minor": 2
}

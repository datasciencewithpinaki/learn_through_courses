{
 "cells": [
  {
   "cell_type": "markdown",
   "metadata": {},
   "source": [
    "# COURSE: Master statistics and machine learning: intuition, math, code\n",
    "##### COURSE URL: udemy.com/course/statsml_x/?couponCode=202304 \n",
    "## SECTION: What are (is?) data?\n",
    "### VIDEO: Code: Representing types of data on computers\n",
    "#### TEACHER: Mike X Cohen, sincxpress.com\n"
   ]
  },
  {
   "cell_type": "code",
   "execution_count": null,
   "metadata": {},
   "outputs": [],
   "source": [
    "## create variables of different types (classes)\n",
    "\n",
    "# data numerical (here as a list)\n",
    "numdata = [ 1, 7, 17, 1717 ]\n",
    "\n",
    "# character / string\n",
    "chardata = 'xyz'\n",
    "\n",
    "# double-quotes also fine\n",
    "strdata = \"x\"\n",
    "\n",
    "# boolean (aka logical)\n",
    "logitdata = True # notice capitalization!\n",
    "\n",
    "# a list can be used like a MATLAB cell\n",
    "listdata = [ [3, 4, 34] , 'hello' , 4 ]\n",
    "\n",
    "# dict (kindof similar to MATLAB structure)\n",
    "dictdata = dict()\n",
    "dictdata['name'] = 'Mike'\n",
    "dictdata['age'] = 25\n",
    "dictdata['occupation'] = 'Nerdoscientist'\n"
   ]
  },
  {
   "cell_type": "code",
   "execution_count": null,
   "metadata": {},
   "outputs": [],
   "source": [
    "# let's see what the workspace looks like\n",
    "%whos"
   ]
  },
  {
   "cell_type": "code",
   "execution_count": null,
   "metadata": {},
   "outputs": [],
   "source": [
    "# clear the Python workspace\n",
    "%reset -sf"
   ]
  },
  {
   "cell_type": "code",
   "execution_count": null,
   "metadata": {},
   "outputs": [],
   "source": []
  }
 ],
 "metadata": {
  "kernelspec": {
   "display_name": "Python 3",
   "language": "python",
   "name": "python3"
  },
  "language_info": {
   "codemirror_mode": {
    "name": "ipython",
    "version": 3
   },
   "file_extension": ".py",
   "mimetype": "text/x-python",
   "name": "python",
   "nbconvert_exporter": "python",
   "pygments_lexer": "ipython3",
   "version": "3.7.4"
  }
 },
 "nbformat": 4,
 "nbformat_minor": 2
}

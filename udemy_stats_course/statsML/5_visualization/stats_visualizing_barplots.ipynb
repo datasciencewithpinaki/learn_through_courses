{
 "cells": [
  {
   "cell_type": "markdown",
   "metadata": {},
   "source": [
    "# COURSE: Master statistics and machine learning: Intuition, Math, code\n",
    "##### COURSE URL: udemy.com/course/statsml_x/?couponCode=202304 \n",
    "## SECTION: Visualizing data\n",
    "### VIDEO: Bar plots\n",
    "#### TEACHER: Mike X Cohen, sincxpress.com\n"
   ]
  },
  {
   "cell_type": "code",
   "execution_count": null,
   "metadata": {},
   "outputs": [],
   "source": [
    "# import libraries\n",
    "import matplotlib.pyplot as plt\n",
    "import numpy as np\n",
    "import pandas as pd"
   ]
  },
  {
   "cell_type": "code",
   "execution_count": null,
   "metadata": {},
   "outputs": [],
   "source": [
    "## create data for the bar plot\n",
    "\n",
    "# data sizes\n",
    "m = 30 # rows\n",
    "n =  6 # columns\n",
    "\n",
    "# generate data\n",
    "data = np.zeros((m,n))\n",
    "\n",
    "for i in range(n):\n",
    "    data[:,i] = 30*np.random.randn(m) * (2*i/(n-1)-1)**2 + (i+1)**2"
   ]
  },
  {
   "cell_type": "code",
   "execution_count": null,
   "metadata": {},
   "outputs": [],
   "source": [
    "# show the bars!\n",
    "\n",
    "fig,ax = plt.subplots(1,3,figsize=(8,2))\n",
    "\n",
    "# 'naked' bars\n",
    "ax[0].bar(range(n),np.mean(data,axis=0))\n",
    "ax[0].set_title('Bar plot')\n",
    "\n",
    "# just the error bars\n",
    "ax[1].errorbar(range(n),np.mean(data,axis=0),np.std(data,axis=0,ddof=1),marker='s',linestyle='')\n",
    "ax[1].set_title('Errorbar plot')\n",
    "\n",
    "# both\n",
    "ax[2].bar(range(n),np.mean(data,axis=0))\n",
    "ax[2].errorbar(range(n),np.mean(data,axis=0),np.std(data,axis=0,ddof=1),marker='.',linestyle='',color='k')\n",
    "ax[2].set_title('Error+bar plot')\n",
    "\n",
    "plt.show()"
   ]
  },
  {
   "cell_type": "code",
   "execution_count": null,
   "metadata": {},
   "outputs": [],
   "source": [
    "## manually specify x-axis coordinates\n",
    "\n",
    "xcrossings = [ 1, 2, 4, 5, 6, 9 ]\n",
    "\n",
    "plt.bar(xcrossings,np.mean(data,axis=0))\n",
    "plt.errorbar(xcrossings,np.mean(data,axis=0),np.std(data,axis=0,ddof=1),marker='.',linestyle='',color='k')\n",
    "plt.title('Bar+error plot')\n",
    "\n",
    "plt.show()"
   ]
  },
  {
   "cell_type": "code",
   "execution_count": null,
   "metadata": {},
   "outputs": [],
   "source": [
    "## note about bars from matrices\n",
    "\n",
    "# data are groups (rows) X property (columns)\n",
    "m = [ [2,5,4,3], [1,1,8,6] ]\n",
    "\n",
    "fig,ax = plt.subplots(nrows=2,ncols=2,figsize=(8,8))\n",
    "\n",
    "# conceptualizing the data as <row> groups of <columns>\n",
    "ax[0,0].imshow(m)\n",
    "\n",
    "# using pandas dataframe\n",
    "df = pd.DataFrame(m,columns=['prop 0','prop 1','prop 2','prop 3'])\n",
    "df.plot(ax=ax[1,0],kind='bar')\n",
    "ax[1,0].set_title('Grouping by rows')\n",
    "\n",
    "\n",
    "# now other orientation (property X group)\n",
    "ax[0,1].imshow(np.array(m).T)\n",
    "df.T.plot(ax=ax[1,1],kind='bar')\n",
    "ax[1,1].set_title('Grouping by columns')\n",
    "\n",
    "plt.show()"
   ]
  }
 ],
 "metadata": {
  "kernelspec": {
   "display_name": "Python 3",
   "language": "python",
   "name": "python3"
  },
  "language_info": {
   "codemirror_mode": {
    "name": "ipython",
    "version": 3
   },
   "file_extension": ".py",
   "mimetype": "text/x-python",
   "name": "python",
   "nbconvert_exporter": "python",
   "pygments_lexer": "ipython3",
   "version": "3.7.3"
  }
 },
 "nbformat": 4,
 "nbformat_minor": 2
}

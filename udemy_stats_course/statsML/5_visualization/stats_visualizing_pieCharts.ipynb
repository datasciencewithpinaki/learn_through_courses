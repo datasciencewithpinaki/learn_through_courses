{
 "cells": [
  {
   "cell_type": "markdown",
   "metadata": {},
   "source": [
    "# COURSE: Master statistics and machine learning: Intuition, Math, code\n",
    "##### COURSE URL: udemy.com/course/statsml_x/?couponCode=202304 \n",
    "## SECTION: Visualizing data\n",
    "### VIDEO: Pie charts\n",
    "#### TEACHER: Mike X Cohen, sincxpress.com\n"
   ]
  },
  {
   "cell_type": "code",
   "execution_count": null,
   "metadata": {},
   "outputs": [],
   "source": [
    "# import libraries\n",
    "import matplotlib.pyplot as plt\n",
    "import numpy as np"
   ]
  },
  {
   "cell_type": "code",
   "execution_count": null,
   "metadata": {},
   "outputs": [],
   "source": [
    "## create data for the plot\n",
    "\n",
    "nbins = 5\n",
    "totalN = 100\n",
    "\n",
    "rawdata = np.ceil(np.logspace(np.log10(1/2),np.log10(nbins-.01),totalN))\n",
    "\n",
    "\n",
    "# prepare data for pie chart\n",
    "uniquenums = np.unique(rawdata)\n",
    "data4pie = np.zeros(len(uniquenums))\n",
    "\n",
    "for i in range(len(uniquenums)):\n",
    "    data4pie[i] = sum(rawdata==uniquenums[i])\n"
   ]
  },
  {
   "cell_type": "code",
   "execution_count": null,
   "metadata": {},
   "outputs": [],
   "source": [
    "# show the pie chart\n",
    "plt.pie(data4pie,labels=100*data4pie/sum(data4pie))\n",
    "plt.show()"
   ]
  },
  {
   "cell_type": "code",
   "execution_count": null,
   "metadata": {},
   "outputs": [],
   "source": [
    "# another option\n",
    "plt.pie(data4pie,labels=['zero','one','two','three','four'],explode=[0,.1,0,.15,0])\n",
    "plt.show()"
   ]
  },
  {
   "cell_type": "code",
   "execution_count": null,
   "metadata": {},
   "outputs": [],
   "source": [
    "## for continuous data\n",
    "\n",
    "# generate log-normal distribution\n",
    "data = np.exp( np.random.randn(1000)/10 )\n",
    "\n",
    "\n",
    "# generate bins using histogram\n",
    "histout = np.histogram(data,bins=6)\n",
    "\n",
    "# and show that as a pie chart\n",
    "plt.pie(histout[0])\n",
    "plt.show()"
   ]
  }
 ],
 "metadata": {
  "kernelspec": {
   "display_name": "Python 3",
   "language": "python",
   "name": "python3"
  },
  "language_info": {
   "codemirror_mode": {
    "name": "ipython",
    "version": 3
   },
   "file_extension": ".py",
   "mimetype": "text/x-python",
   "name": "python",
   "nbconvert_exporter": "python",
   "pygments_lexer": "ipython3",
   "version": "3.7.4"
  }
 },
 "nbformat": 4,
 "nbformat_minor": 2
}

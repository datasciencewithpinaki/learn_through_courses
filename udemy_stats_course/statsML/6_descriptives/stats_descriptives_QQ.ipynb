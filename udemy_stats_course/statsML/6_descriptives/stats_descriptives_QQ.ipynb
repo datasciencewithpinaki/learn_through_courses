{
 "cells": [
  {
   "cell_type": "markdown",
   "metadata": {},
   "source": [
    "# COURSE: Master statistics and machine learning: Intuition, Math, code\n",
    "##### COURSE URL: udemy.com/course/statsml_x/?couponCode=202304 \n",
    "## SECTION: Descriptive statistics\n",
    "### VIDEO: QQ plots\n",
    "#### TEACHER: Mike X Cohen, sincxpress.com"
   ]
  },
  {
   "cell_type": "code",
   "execution_count": null,
   "metadata": {},
   "outputs": [],
   "source": [
    "# import libraries\n",
    "import matplotlib.pyplot as plt\n",
    "import numpy as np\n",
    "import scipy.stats as stats"
   ]
  },
  {
   "cell_type": "code",
   "execution_count": null,
   "metadata": {},
   "outputs": [],
   "source": [
    "## generate data\n",
    "\n",
    "n    = 1000\n",
    "data = np.random.randn(n)\n",
    "# data = np.exp( np.random.randn(n)*.8 ) # log-norm distribution\n",
    "\n",
    "# theoretical normal distribution given N\n",
    "x = np.linspace(-4,4,10001)\n",
    "theonorm = stats.norm.pdf(x)\n",
    "theonorm = theonorm/max(theonorm)\n",
    "\n",
    "# plot histograms on top of each other\n",
    "yy,xx = np.histogram(data,40)\n",
    "yy = yy/max(yy)\n",
    "xx = (xx[:-1]+xx[1:])/2\n",
    "\n",
    "plt.plot(xx,yy,label='Empirical')\n",
    "plt.plot(x,theonorm,label='Theoretical')\n",
    "plt.legend()\n",
    "plt.show()"
   ]
  },
  {
   "cell_type": "code",
   "execution_count": null,
   "metadata": {},
   "outputs": [],
   "source": [
    "## create a QQ plot\n",
    "\n",
    "zSortData  = np.sort(stats.zscore(data))\n",
    "sortNormal = stats.norm.ppf(np.linspace(0,1,n))\n",
    "\n",
    "# QQ plot is theory vs reality\n",
    "plt.plot(sortNormal,zSortData,'o')\n",
    "\n",
    "# set axes to be equal\n",
    "xL,xR = plt.xlim()\n",
    "yL,yR = plt.ylim()\n",
    "lims  = [ np.min([xL,xR,yL,yR]),np.max([xL,xR,yL,yR]) ]\n",
    "plt.xlim(lims)\n",
    "plt.ylim(lims)\n",
    "\n",
    "# draw red comparison line\n",
    "plt.plot(lims,lims)\n",
    "\n",
    "plt.xlabel('Theoretical normal')\n",
    "plt.ylabel('Observed data')\n",
    "plt.title('QQ plot')\n",
    "plt.axis('square')\n",
    "plt.show()"
   ]
  },
  {
   "cell_type": "code",
   "execution_count": null,
   "metadata": {},
   "outputs": [],
   "source": [
    "## Python solution\n",
    "\n",
    "x = stats.probplot(data,plot=plt)\n"
   ]
  }
 ],
 "metadata": {
  "kernelspec": {
   "display_name": "Python 3",
   "language": "python",
   "name": "python3"
  },
  "language_info": {
   "codemirror_mode": {
    "name": "ipython",
    "version": 3
   },
   "file_extension": ".py",
   "mimetype": "text/x-python",
   "name": "python",
   "nbconvert_exporter": "python",
   "pygments_lexer": "ipython3",
   "version": "3.7.4"
  }
 },
 "nbformat": 4,
 "nbformat_minor": 2
}

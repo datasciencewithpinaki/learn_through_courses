{
 "cells": [
  {
   "cell_type": "markdown",
   "metadata": {},
   "source": [
    "# COURSE: Master statistics and machine learning: Intuition, Math, code\n",
    "##### COURSE URL: udemy.com/course/statsml_x/?couponCode=202304 \n",
    "## SECTION: Descriptive statistics\n",
    "### VIDEO: Computing central tendency\n",
    "#### TEACHER: Mike X Cohen, sincxpress.com"
   ]
  },
  {
   "cell_type": "code",
   "execution_count": null,
   "metadata": {},
   "outputs": [],
   "source": [
    "# import libraries\n",
    "import matplotlib.pyplot as plt\n",
    "import numpy as np\n",
    "import scipy.stats as stats"
   ]
  },
  {
   "cell_type": "code",
   "execution_count": null,
   "metadata": {},
   "outputs": [],
   "source": [
    "## create some data distributions\n",
    "\n",
    "# the distributions\n",
    "N = 10001   # number of data points\n",
    "nbins = 30  # number of histogram bins\n",
    "\n",
    "d1 = np.random.randn(N) - 1\n",
    "d2 = 3*np.random.randn(N)\n",
    "d3 = np.random.randn(N) + 1\n",
    "\n",
    "# need their histograms\n",
    "y1,x1 = np.histogram(d1,nbins)\n",
    "x1 = (x1[1:]+x1[:-1])/2\n",
    "\n",
    "y2,x2 = np.histogram(d2,nbins)\n",
    "x2 = (x2[1:]+x2[:-1])/2\n",
    "\n",
    "y3,x3 = np.histogram(d3,nbins)\n",
    "x3 = (x3[1:]+x3[:-1])/2\n",
    "\n",
    "\n",
    "# plot them\n",
    "plt.plot(x1,y1,'b')\n",
    "plt.plot(x2,y2,'r')\n",
    "plt.plot(x3,y3,'k')\n",
    "\n",
    "plt.xlabel('Data values')\n",
    "plt.ylabel('Data counts')\n",
    "plt.show()"
   ]
  },
  {
   "cell_type": "code",
   "execution_count": null,
   "metadata": {},
   "outputs": [],
   "source": [
    "## overlay the mean\n",
    "\n",
    "# compute the means\n",
    "mean_d1 = sum(d1) / len(d1)\n",
    "mean_d2 = np.mean(d2)\n",
    "mean_d3 = np.mean(d3)\n",
    "\n",
    "# plot them\n",
    "plt.plot(x1,y1,'b', x2,y2,'r', x3,y3,'k')\n",
    "plt.plot([mean_d1,mean_d1],[0,max(y1)],'b--')\n",
    "plt.plot([mean_d2,mean_d2],[0,max(y2)],'r--')\n",
    "plt.plot([mean_d3,mean_d3],[0,max(y3)],'k--')\n",
    "\n",
    "plt.xlabel('Data values')\n",
    "plt.ylabel('Data counts')\n",
    "plt.show()"
   ]
  },
  {
   "cell_type": "code",
   "execution_count": null,
   "metadata": {},
   "outputs": [],
   "source": [
    "## \"failure\" of the mean\n",
    "\n",
    "# new dataset of distribution combinations\n",
    "d4 = np.hstack( (np.random.randn(N)-2,np.random.randn(N)+2) )\n",
    "# and its histogram\n",
    "[y4,x4] = np.histogram(d4,nbins)\n",
    "x4 = (x4[:-1]+x4[1:])/2\n",
    "\n",
    "# and its mean\n",
    "mean_d4 = np.mean(d4)\n",
    "\n",
    "\n",
    "plt.plot(x4,y4,'b')\n",
    "plt.plot([mean_d4,mean_d4],[0,max(y4)],'b--')\n",
    "\n",
    "plt.xlabel('Data values')\n",
    "plt.ylabel('Data counts')\n",
    "plt.show()"
   ]
  },
  {
   "cell_type": "code",
   "execution_count": null,
   "metadata": {},
   "outputs": [],
   "source": [
    "## median\n",
    "\n",
    "# create a log-normal distribution\n",
    "shift   = 0\n",
    "stretch = .7\n",
    "n       = 2000\n",
    "nbins   = 50\n",
    "\n",
    "# generate data\n",
    "data = stretch*np.random.randn(n) + shift\n",
    "data = np.exp( data )\n",
    "\n",
    "# and its histogram\n",
    "y,x = np.histogram(data,nbins)\n",
    "x = (x[:-1]+x[1:])/2\n",
    "\n",
    "# compute mean and median\n",
    "datamean = np.mean(data)\n",
    "datamedian = np.median(data)\n",
    "\n",
    "\n",
    "# plot data\n",
    "fig,ax = plt.subplots(2,1,figsize=(4,6))\n",
    "ax[0].plot(data,'.',color=[.5,.5,.5],label='Data')\n",
    "ax[0].plot([1,n],[datamean,datamean],'r--',label='Mean')\n",
    "ax[0].plot([1,n],[datamedian,datamedian],'b--',label='Median')\n",
    "ax[0].legend()\n",
    "\n",
    "ax[1].plot(x,y)\n",
    "ax[1].plot([datamean,datamean],[0,max(y)],'r--')\n",
    "ax[1].plot([datamedian,datamedian],[0,max(y)],'b--')\n",
    "ax[1].set_title('Log-normal data histogram')\n",
    "plt.show()"
   ]
  },
  {
   "cell_type": "code",
   "execution_count": null,
   "metadata": {},
   "outputs": [],
   "source": [
    "## mode\n",
    "\n",
    "data = np.round(np.random.randn(10))\n",
    "\n",
    "uniq_data = np.unique(data)\n",
    "for i in range(len(uniq_data)):\n",
    "    print(f'{uniq_data[i]} appears {sum(data==uniq_data[i])} times.')\n",
    "\n",
    "print(' ')\n",
    "print('The modal value is %g'%stats.mode(data)[0][0])\n"
   ]
  }
 ],
 "metadata": {
  "kernelspec": {
   "display_name": "Python 3",
   "language": "python",
   "name": "python3"
  },
  "language_info": {
   "codemirror_mode": {
    "name": "ipython",
    "version": 3
   },
   "file_extension": ".py",
   "mimetype": "text/x-python",
   "name": "python",
   "nbconvert_exporter": "python",
   "pygments_lexer": "ipython3",
   "version": "3.7.4"
  }
 },
 "nbformat": 4,
 "nbformat_minor": 2
}

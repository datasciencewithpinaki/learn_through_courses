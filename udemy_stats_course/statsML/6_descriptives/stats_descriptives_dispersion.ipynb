{
 "cells": [
  {
   "cell_type": "markdown",
   "metadata": {},
   "source": [
    "# COURSE: Master statistics and machine learning: Intuition, Math, code\n",
    "##### COURSE URL: udemy.com/course/statsml_x/?couponCode=202304 \n",
    "## SECTION: Descriptive statistics\n",
    "### VIDEO: Computing dispersion\n",
    "#### TEACHER: Mike X Cohen, sincxpress.com"
   ]
  },
  {
   "cell_type": "code",
   "execution_count": null,
   "metadata": {},
   "outputs": [],
   "source": [
    "# import libraries\n",
    "import matplotlib.pyplot as plt\n",
    "import numpy as np"
   ]
  },
  {
   "cell_type": "code",
   "execution_count": null,
   "metadata": {},
   "outputs": [],
   "source": [
    "## create some data distributions\n",
    "\n",
    "# the distributions\n",
    "N = 10001   # number of data points\n",
    "nbins = 30  # number of histogram bins\n",
    "\n",
    "d1 = np.random.randn(N) - 1\n",
    "d2 = 3*np.random.randn(N)\n",
    "d3 = np.random.randn(N) + 1\n",
    "\n",
    "# need their histograms\n",
    "y1,x1 = np.histogram(d1,nbins)\n",
    "x1 = (x1[1:]+x1[:-1])/2\n",
    "\n",
    "y2,x2 = np.histogram(d2,nbins)\n",
    "x2 = (x2[1:]+x2[:-1])/2\n",
    "\n",
    "y3,x3 = np.histogram(d3,nbins)\n",
    "x3 = (x3[1:]+x3[:-1])/2\n",
    "\n",
    "\n",
    "# plot them\n",
    "plt.plot(x1,y1,'b')\n",
    "plt.plot(x2,y2,'r')\n",
    "plt.plot(x3,y3,'k')\n",
    "\n",
    "plt.xlabel('Data values')\n",
    "plt.ylabel('Data counts')\n",
    "plt.show()"
   ]
  },
  {
   "cell_type": "code",
   "execution_count": null,
   "metadata": {},
   "outputs": [],
   "source": [
    "# side note:\n",
    "\n",
    "meanval = 10.2\n",
    "stdval  = 7.5\n",
    "numsamp = 123\n",
    "\n",
    "# this\n",
    "np.random.normal(meanval,stdval,numsamp)\n",
    "\n",
    "# is equivalent to\n",
    "np.random.randn(numsamp)*stdval + meanval"
   ]
  },
  {
   "cell_type": "code",
   "execution_count": null,
   "metadata": {},
   "outputs": [],
   "source": [
    "## overlay the mean\n",
    "\n",
    "# compute the means\n",
    "mean_d1 = sum(d1) / len(d1)\n",
    "mean_d2 = np.mean(d2)\n",
    "mean_d3 = np.mean(d3)\n",
    "\n",
    "# plot them\n",
    "plt.plot(x1,y1,'b', x2,y2,'r', x3,y3,'k')\n",
    "plt.plot([mean_d1,mean_d1],[0,max(y1)],'b--')\n",
    "plt.plot([mean_d2,mean_d2],[0,max(y2)],'r--')\n",
    "plt.plot([mean_d3,mean_d3],[0,max(y3)],'k--')\n",
    "\n",
    "plt.xlabel('Data values')\n",
    "plt.ylabel('Data counts')\n",
    "plt.show()"
   ]
  },
  {
   "cell_type": "code",
   "execution_count": null,
   "metadata": {},
   "outputs": [],
   "source": [
    "## now for the standard deviation\n",
    "\n",
    "# initialize\n",
    "stds = np.zeros(3)\n",
    "\n",
    "# compute standard deviations\n",
    "stds[0] = np.std(d1,ddof=1)\n",
    "stds[1] = np.std(d2,ddof=1)\n",
    "stds[2] = np.std(d3,ddof=1)\n",
    "\n",
    "\n",
    "# same plot as earlier\n",
    "plt.plot(x1,y1,'b', x2,y2,'r', x3,y3,'k')\n",
    "plt.plot([mean_d1,mean_d1],[0,max(y1)],'b--', [mean_d2,mean_d2],[0,max(y2)],'r--',[mean_d3,mean_d3],[0,max(y3)],'k--')\n",
    "\n",
    "# now add stds\n",
    "plt.plot([mean_d1-stds[0],mean_d1+stds[0]],[.4*max(y1),.4*max(y1)],'b',linewidth=10)\n",
    "plt.plot([mean_d2-stds[1],mean_d2+stds[1]],[.5*max(y2),.5*max(y2)],'r',linewidth=10)\n",
    "plt.plot([mean_d3-stds[2],mean_d3+stds[2]],[.6*max(y3),.6*max(y3)],'k',linewidth=10)\n",
    "\n",
    "plt.xlabel('Data values')\n",
    "plt.ylabel('Data counts')\n",
    "plt.show()"
   ]
  },
  {
   "cell_type": "code",
   "execution_count": null,
   "metadata": {},
   "outputs": [],
   "source": [
    "## different variance measures\n",
    "\n",
    "variances = np.arange(1,11)\n",
    "N = 300\n",
    "\n",
    "varmeasures = np.zeros((4,len(variances)))\n",
    "\n",
    "for i in range(len(variances)):\n",
    "    \n",
    "    # create data and mean-center\n",
    "    data = np.random.randn(N) * variances[i]\n",
    "    datacent = data - np.mean(data)\n",
    "    \n",
    "    # variance\n",
    "    varmeasures[0,i] = sum(datacent**2) / (N-1)\n",
    "    \n",
    "    # \"biased\" variance\n",
    "    varmeasures[1,i] = sum(datacent**2) / N\n",
    "    \n",
    "    # standard deviation\n",
    "    varmeasures[2,i] = np.sqrt( sum(datacent**2) / (N-1) )\n",
    "    \n",
    "    # MAD (mean absolute difference)\n",
    "    varmeasures[3,i] = sum(abs(datacent)) / (N-1)\n",
    "    \n",
    "\n",
    "# show them!\n",
    "plt.plot(variances,varmeasures.T)\n",
    "plt.legend(('Var','biased var','Std','MAD'))\n",
    "plt.show()"
   ]
  },
  {
   "cell_type": "code",
   "execution_count": null,
   "metadata": {},
   "outputs": [],
   "source": [
    "## Fano factor and coefficient of variation (CV)\n",
    "\n",
    "# need positive-valued data (why?)\n",
    "data = np.random.poisson(3,300)  # \"Poisson noise\"\n",
    "\n",
    "fig,ax = plt.subplots(2,1)\n",
    "ax[0].plot(data,'s')\n",
    "ax[0].set_title('Poisson noise')\n",
    "\n",
    "ax[1].hist(data)\n",
    "plt.show()"
   ]
  },
  {
   "cell_type": "code",
   "execution_count": null,
   "metadata": {},
   "outputs": [],
   "source": [
    "## compute fano factor and CV for a range of lambda parameters\n",
    "\n",
    "# list of parameters\n",
    "lambdas = np.linspace(1,12,15)\n",
    "\n",
    "# initialize output vectors\n",
    "fano = np.zeros(len(lambdas))\n",
    "cv   = np.zeros(len(lambdas))\n",
    "\n",
    "for li in range(len(lambdas)):\n",
    "    \n",
    "    # generate new data\n",
    "    data = np.random.poisson(lambdas[li],1000)\n",
    "    \n",
    "    # compute the metrics\n",
    "    cv[li]   = np.std(data) / np.mean(data) # need ddof=1 here?\n",
    "    fano[li] = np.var(data) / np.mean(data)\n",
    "\n",
    "\n",
    "# and plot\n",
    "plt.plot(lambdas,cv,'bs-')\n",
    "plt.plot(lambdas,fano,'ro-')\n",
    "plt.legend(('CV','Fano'))\n",
    "plt.xlabel('$\\lambda$')\n",
    "plt.ylabel('CV or Fano')\n",
    "plt.show()"
   ]
  }
 ],
 "metadata": {
  "kernelspec": {
   "display_name": "Python 3",
   "language": "python",
   "name": "python3"
  },
  "language_info": {
   "codemirror_mode": {
    "name": "ipython",
    "version": 3
   },
   "file_extension": ".py",
   "mimetype": "text/x-python",
   "name": "python",
   "nbconvert_exporter": "python",
   "pygments_lexer": "ipython3",
   "version": "3.7.4"
  }
 },
 "nbformat": 4,
 "nbformat_minor": 2
}

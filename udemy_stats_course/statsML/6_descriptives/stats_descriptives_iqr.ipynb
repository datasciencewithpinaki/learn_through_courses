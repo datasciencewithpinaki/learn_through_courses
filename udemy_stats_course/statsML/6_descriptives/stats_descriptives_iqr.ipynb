{
 "cells": [
  {
   "cell_type": "markdown",
   "metadata": {},
   "source": [
    "# COURSE: Master statistics and machine learning: Intuition, Math, code\n",
    "##### COURSE URL: udemy.com/course/statsml_x/?couponCode=202304 \n",
    "## SECTION: Descriptive statistics\n",
    "### VIDEO: Inter-quartile range (IQR)\n",
    "#### TEACHER: Mike X Cohen, sincxpress.com"
   ]
  },
  {
   "cell_type": "code",
   "execution_count": null,
   "metadata": {},
   "outputs": [],
   "source": [
    "# import libraries\n",
    "import matplotlib.pyplot as plt\n",
    "import numpy as np\n",
    "import scipy.stats as stats"
   ]
  },
  {
   "cell_type": "code",
   "execution_count": null,
   "metadata": {},
   "outputs": [],
   "source": [
    "## create the data\n",
    "\n",
    "# random number data\n",
    "n = 1000\n",
    "data = np.random.randn(n)**2"
   ]
  },
  {
   "cell_type": "code",
   "execution_count": null,
   "metadata": {},
   "outputs": [],
   "source": [
    "# rank-transform the data and scale to 1\n",
    "dataR = stats.rankdata(data)/n\n",
    "\n",
    "# find the values closest to 25% and 75% of the distribution\n",
    "q1 = np.argmin((dataR-.25)**2)\n",
    "q3 = np.argmin((dataR-.75)**2)\n",
    "\n",
    "# get the two values in the data\n",
    "iq_vals = data[[q1,q3]]\n",
    "\n",
    "# IQR is the difference between them\n",
    "iqrange1 = iq_vals[1] - iq_vals[0]\n",
    "\n",
    "# or use Python's built-in function ;)\n",
    "iqrange2 = stats.iqr(data)\n",
    "\n",
    "print(iqrange1,iqrange2)"
   ]
  }
 ],
 "metadata": {
  "kernelspec": {
   "display_name": "Python 3",
   "language": "python",
   "name": "python3"
  },
  "language_info": {
   "codemirror_mode": {
    "name": "ipython",
    "version": 3
   },
   "file_extension": ".py",
   "mimetype": "text/x-python",
   "name": "python",
   "nbconvert_exporter": "python",
   "pygments_lexer": "ipython3",
   "version": "3.7.4"
  }
 },
 "nbformat": 4,
 "nbformat_minor": 2
}

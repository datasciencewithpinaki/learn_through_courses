{
 "cells": [
  {
   "cell_type": "markdown",
   "metadata": {},
   "source": [
    "# COURSE: Master statistics and machine learning: Intuition, Math, code\n",
    "##### COURSE URL: udemy.com/course/statsml_x/?couponCode=202304 \n",
    "## SECTION: Descriptive statistics\n",
    "### VIDEO: Violin plots\n",
    "#### TEACHER: Mike X Cohen, sincxpress.com"
   ]
  },
  {
   "cell_type": "code",
   "execution_count": null,
   "metadata": {},
   "outputs": [],
   "source": [
    "# import libraries\n",
    "import matplotlib.pyplot as plt\n",
    "import numpy as np\n",
    "import scipy.stats as stats"
   ]
  },
  {
   "cell_type": "code",
   "execution_count": null,
   "metadata": {},
   "outputs": [],
   "source": [
    "## create the data\n",
    "\n",
    "n = 1000\n",
    "thresh = 5 # threshold for cropping data\n",
    "\n",
    "data = np.exp( np.random.randn(n) )\n",
    "data[data>thresh] = thresh + np.random.randn(sum(data>thresh))*.1\n",
    "\n",
    "# show histogram\n",
    "plt.hist(data,30)\n",
    "plt.title('Histogram')\n",
    "plt.show()\n",
    "\n",
    "# show violin plot\n",
    "plt.violinplot(data)\n",
    "plt.title('Violin')\n",
    "plt.show()"
   ]
  },
  {
   "cell_type": "code",
   "execution_count": null,
   "metadata": {},
   "outputs": [],
   "source": [
    "# another option: swarm plot\n",
    "\n",
    "import seaborn as sns\n",
    "sns.swarmplot(data,orient='v')"
   ]
  }
 ],
 "metadata": {
  "kernelspec": {
   "display_name": "Python 3",
   "language": "python",
   "name": "python3"
  },
  "language_info": {
   "codemirror_mode": {
    "name": "ipython",
    "version": 3
   },
   "file_extension": ".py",
   "mimetype": "text/x-python",
   "name": "python",
   "nbconvert_exporter": "python",
   "pygments_lexer": "ipython3",
   "version": "3.7.4"
  }
 },
 "nbformat": 4,
 "nbformat_minor": 2
}

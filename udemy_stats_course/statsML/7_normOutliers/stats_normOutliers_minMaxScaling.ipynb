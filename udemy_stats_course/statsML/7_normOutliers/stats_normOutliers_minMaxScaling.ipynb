{
 "cells": [
  {
   "cell_type": "markdown",
   "metadata": {},
   "source": [
    "# COURSE: Master statistics and machine learning: Intuition, Math, code\n",
    "##### COURSE URL: udemy.com/course/statsml_x/?couponCode=202304 \n",
    "## SECTION: Data normalizations and outliers\n",
    "### VIDEO: Min-max scaling\n",
    "#### TEACHER: Mike X Cohen, sincxpress.com"
   ]
  },
  {
   "cell_type": "code",
   "execution_count": null,
   "metadata": {},
   "outputs": [],
   "source": [
    "# import libraries\n",
    "import matplotlib.pyplot as plt\n",
    "import numpy as np"
   ]
  },
  {
   "cell_type": "code",
   "execution_count": null,
   "metadata": {},
   "outputs": [],
   "source": [
    "## create some data\n",
    "\n",
    "N = 42\n",
    "data = np.log(np.random.rand(N))*234 + 934\n",
    "\n",
    "# get min and max\n",
    "dataMin = min(data)\n",
    "dataMax = max(data)\n",
    "\n",
    "# now min-max scale\n",
    "dataS = (data-dataMin) / (dataMax-dataMin)\n",
    "\n",
    "\n",
    "# now plot\n",
    "fig,ax = plt.subplots(1,2,figsize=(8,4))\n",
    "ax[0].plot(1+np.random.randn(N)/20,data,'ks')\n",
    "ax[0].set_xlim([0,2])\n",
    "ax[0].set_xticks([])\n",
    "ax[0].set_ylabel('Original data scale')\n",
    "ax[0].set_title('Original data')\n",
    "\n",
    "ax[1].plot(1+np.random.randn(N)/20,dataS,'ks')\n",
    "ax[1].set_xlim([0,2])\n",
    "ax[1].set_xticks([])\n",
    "ax[1].set_ylabel('Unity-normed data scale')\n",
    "ax[1].set_title('Scaled data')\n",
    "\n",
    "plt.show()"
   ]
  },
  {
   "cell_type": "code",
   "execution_count": null,
   "metadata": {},
   "outputs": [],
   "source": [
    "## show that scaling doesn't affect the relative values\n",
    "\n",
    "plt.plot(data,dataS,'ks')\n",
    "plt.xlabel('Original')\n",
    "plt.ylabel('Scaled')\n",
    "plt.show()"
   ]
  },
  {
   "cell_type": "code",
   "execution_count": null,
   "metadata": {},
   "outputs": [],
   "source": [
    "## any abitrary data range\n",
    "\n",
    "# step 1 is to [0,1] normalize as above\n",
    "\n",
    "# step 2:\n",
    "newMin = 4\n",
    "newMax = 8.7\n",
    "\n",
    "dataSS = dataS*(newMax-newMin) + newMin\n",
    "\n",
    "# test it!\n",
    "print([min(dataSS), max(dataSS)])\n"
   ]
  }
 ],
 "metadata": {
  "kernelspec": {
   "display_name": "Python 3",
   "language": "python",
   "name": "python3"
  },
  "language_info": {
   "codemirror_mode": {
    "name": "ipython",
    "version": 3
   },
   "file_extension": ".py",
   "mimetype": "text/x-python",
   "name": "python",
   "nbconvert_exporter": "python",
   "pygments_lexer": "ipython3",
   "version": "3.7.4"
  }
 },
 "nbformat": 4,
 "nbformat_minor": 2
}

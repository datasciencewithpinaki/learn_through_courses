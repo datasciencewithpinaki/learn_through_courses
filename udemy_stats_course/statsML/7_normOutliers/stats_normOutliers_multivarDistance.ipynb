{
 "cells": [
  {
   "cell_type": "markdown",
   "metadata": {},
   "source": [
    "# COURSE: Master statistics and machine learning: Intuition, Math, code\n",
    "##### COURSE URL: udemy.com/course/statsml_x/?couponCode=202304 \n",
    "## SECTION: Data normalizations and outliers\n",
    "### VIDEO: Euclidean distance for outlier removal\n",
    "#### TEACHER: Mike X Cohen, sincxpress.com"
   ]
  },
  {
   "cell_type": "code",
   "execution_count": null,
   "metadata": {},
   "outputs": [],
   "source": [
    "import numpy as np\n",
    "import matplotlib.pyplot as plt"
   ]
  },
  {
   "cell_type": "code",
   "execution_count": null,
   "metadata": {},
   "outputs": [],
   "source": [
    "## create some data\n",
    "\n",
    "N = 40\n",
    "\n",
    "# two-dimensional data\n",
    "d1 = np.exp(-abs(np.random.randn(N)*3))\n",
    "d2 = np.exp(-abs(np.random.randn(N)*5))\n",
    "datamean = [ np.mean(d1), np.mean(d2) ]\n",
    "\n",
    "\n",
    "# compute distance of each point to the mean\n",
    "ds = np.zeros(N)\n",
    "for i in range(N):\n",
    "    ds[i] = np.sqrt( (d1[i]-datamean[0])**2 + (d2[i]-datamean[1])**2 )\n",
    "    \n",
    "\n",
    "# convert to z (don't need the original data)\n",
    "ds = (ds-np.mean(ds)) / np.std(ds)\n",
    "\n",
    "\n",
    "\n",
    "\n",
    "\n",
    "# plot the data\n",
    "fig,ax = plt.subplots(1,2,figsize=(8,6))\n",
    "\n",
    "ax[0].plot(d1,d2,'ko',markerfacecolor='k')\n",
    "ax[0].set_xticks([])\n",
    "ax[0].set_yticks([])\n",
    "ax[0].set_xlabel('Variable x')\n",
    "ax[0].set_ylabel('Variable y')\n",
    "\n",
    "# plot the multivariate mean\n",
    "ax[0].plot(datamean[0],datamean[1],'kp',markerfacecolor='g',markersize=15)\n",
    "\n",
    "# then plot those distances\n",
    "ax[1].plot(ds,'ko',markerfacecolor=[.7, .5, .3],markersize=12)\n",
    "ax[1].set_xlabel('Data index')\n",
    "ax[1].set_ylabel('Z distance')"
   ]
  },
  {
   "cell_type": "code",
   "execution_count": null,
   "metadata": {},
   "outputs": [],
   "source": [
    "## now for the thresholding\n",
    "\n",
    "# threshold in standard deviation units\n",
    "distanceThresh = 2.5\n",
    "\n",
    "# find the offending points\n",
    "oidx = np.where(ds>distanceThresh)[0]\n",
    "\n",
    "print(oidx)\n",
    "\n",
    "\n",
    "# and cross those out\n",
    "ax[1].plot(oidx,ds[oidx],'x',color='r',markersize=20)\n",
    "ax[0].plot(d1[oidx],d2[oidx],'x',color='r',markersize=20)\n",
    "\n",
    "fig"
   ]
  }
 ],
 "metadata": {
  "kernelspec": {
   "display_name": "Python 3",
   "language": "python",
   "name": "python3"
  },
  "language_info": {
   "codemirror_mode": {
    "name": "ipython",
    "version": 3
   },
   "file_extension": ".py",
   "mimetype": "text/x-python",
   "name": "python",
   "nbconvert_exporter": "python",
   "pygments_lexer": "ipython3",
   "version": "3.7.4"
  }
 },
 "nbformat": 4,
 "nbformat_minor": 2
}

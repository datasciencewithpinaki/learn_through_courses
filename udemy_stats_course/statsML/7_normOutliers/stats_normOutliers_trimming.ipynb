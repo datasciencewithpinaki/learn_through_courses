{
 "cells": [
  {
   "cell_type": "markdown",
   "metadata": {},
   "source": [
    "# COURSE: Master statistics and machine learning: Intuition, Math, code\n",
    "##### COURSE URL: udemy.com/course/statsml_x/?couponCode=202304 \n",
    "## SECTION: Data normalizations and outliers\n",
    "### VIDEO: Data trimming to remove outliers\n",
    "#### TEACHER: Mike X Cohen, sincxpress.com"
   ]
  },
  {
   "cell_type": "code",
   "execution_count": null,
   "metadata": {},
   "outputs": [],
   "source": [
    "import numpy as np\n",
    "import matplotlib.pyplot as plt"
   ]
  },
  {
   "cell_type": "code",
   "execution_count": null,
   "metadata": {},
   "outputs": [],
   "source": [
    "## create some data\n",
    "\n",
    "N = 40\n",
    "data = np.random.randn(N)\n",
    "data[data<-2] = -data[data<-2]**2\n",
    "data[data>2]  =  data[data>2]**2\n",
    "\n",
    "# also need the mean-centered data\n",
    "dataMC = data - np.mean(data)\n",
    "\n",
    "# and plot them (not it ;) )\n",
    "fig,ax = plt.subplots(1,1)\n",
    "ax.plot(data,'k^',markerfacecolor='y',markersize=12)\n",
    "ax.set_xticks([])\n",
    "ax.set_yticks([])\n",
    "ax.set_xlabel('Data index')\n",
    "ax.set_ylabel('Data value')\n",
    "plt.show()"
   ]
  },
  {
   "cell_type": "code",
   "execution_count": null,
   "metadata": {},
   "outputs": [],
   "source": [
    "## option 1: remove k% of the data\n",
    "\n",
    "# percent of \"extreme\" data values to remove\n",
    "trimPct = 5 # in percent\n",
    "\n",
    "# identify the cut-off (note the abs() )\n",
    "datacutoff = np.percentile(abs(dataMC),100-trimPct)\n",
    "\n",
    "# find the exceedance data values\n",
    "data2cut = np.where( abs(dataMC)>datacutoff )[0]\n",
    "\n",
    "# and mark those off\n",
    "ax.plot(data2cut,data[data2cut],'rx',markersize=15)\n",
    "\n",
    "fig"
   ]
  },
  {
   "cell_type": "code",
   "execution_count": null,
   "metadata": {},
   "outputs": [],
   "source": [
    "## option 2: remove k most extreme values\n",
    "\n",
    "# number of \"extreme\" data values to remove\n",
    "k2remove = 3  # in number\n",
    "\n",
    "# find the exceedance data values\n",
    "datasortIdx = np.argsort(abs(dataMC),axis=0)[::-1]\n",
    "data2cut = np.squeeze(datasortIdx[:k2remove])\n",
    "\n",
    "# and mark those off\n",
    "ax.plot(data2cut,data[data2cut],'go',markersize=15,alpha=.5)\n",
    "\n",
    "# finally, add a legend\n",
    "ax.legend(('All data','%g%% threshold'%(100-trimPct),'%g-value threshold'%k2remove))\n",
    "fig"
   ]
  }
 ],
 "metadata": {
  "kernelspec": {
   "display_name": "Python 3",
   "language": "python",
   "name": "python3"
  },
  "language_info": {
   "codemirror_mode": {
    "name": "ipython",
    "version": 3
   },
   "file_extension": ".py",
   "mimetype": "text/x-python",
   "name": "python",
   "nbconvert_exporter": "python",
   "pygments_lexer": "ipython3",
   "version": "3.7.4"
  }
 },
 "nbformat": 4,
 "nbformat_minor": 2
}

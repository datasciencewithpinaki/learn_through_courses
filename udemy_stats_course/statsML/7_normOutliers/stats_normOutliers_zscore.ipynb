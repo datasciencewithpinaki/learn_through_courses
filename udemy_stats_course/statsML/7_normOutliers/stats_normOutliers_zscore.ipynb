{
 "cells": [
  {
   "cell_type": "markdown",
   "metadata": {},
   "source": [
    "# COURSE: Master statistics and machine learning: Intuition, Math, code\n",
    "##### COURSE URL: udemy.com/course/statsml_x/?couponCode=202304 \n",
    "## SECTION: Data normalizations and outliers\n",
    "### VIDEO: Z-score\n",
    "#### TEACHER: Mike X Cohen, sincxpress.com"
   ]
  },
  {
   "cell_type": "code",
   "execution_count": null,
   "metadata": {},
   "outputs": [],
   "source": [
    "# import libraries\n",
    "import matplotlib.pyplot as plt\n",
    "import numpy as np\n",
    "from scipy import stats"
   ]
  },
  {
   "cell_type": "code",
   "execution_count": null,
   "metadata": {},
   "outputs": [],
   "source": [
    "## create data\n",
    "\n",
    "data = np.random.poisson(3,1000)**2\n",
    "\n",
    "## compute the mean and std\n",
    "datamean = np.mean(data)\n",
    "datastd  = np.std(data,ddof=1)\n",
    "\n",
    "# the previous two lines are equivalent to the following two lines\n",
    "#datamean = data.mean()\n",
    "#datastd  = data.std(ddof=1)\n",
    "\n",
    "\n",
    "\n",
    "plt.plot(data,'s',markersize=3)\n",
    "plt.xlabel('Data index')\n",
    "plt.ylabel('Data value')\n",
    "plt.title(f'Mean = {np.round(datamean,2)}; std = {np.round(datastd,2)}')\n",
    "\n",
    "plt.show()"
   ]
  },
  {
   "cell_type": "code",
   "execution_count": null,
   "metadata": {},
   "outputs": [],
   "source": [
    "## now for z-scoring\n",
    "\n",
    "# z-score is data minus mean divided by stdev\n",
    "dataz = (data-datamean) / datastd\n",
    "\n",
    "# can also use Python function\n",
    "### NOTE the ddof=1 in the zscore function, to match std() below. That's incorrect in the video :(\n",
    "dataz = stats.zscore(data,ddof=1)\n",
    "\n",
    "# compute the mean and std\n",
    "dataZmean = np.mean(dataz)\n",
    "dataZstd  = np.std(dataz,ddof=1)\n",
    "\n",
    "plt.plot(dataz,'s',markersize=3)\n",
    "plt.xlabel('Data index')\n",
    "plt.ylabel('Data value')\n",
    "plt.title(f'Mean = {np.round(dataZmean,2)}; std = {np.round(dataZstd,2)}')\n",
    "\n",
    "plt.show()"
   ]
  },
  {
   "cell_type": "code",
   "execution_count": null,
   "metadata": {},
   "outputs": [],
   "source": [
    "## show that the relative values are preserved\n",
    "\n",
    "plt.plot(data,dataz,'s')\n",
    "plt.xlabel('Original')\n",
    "plt.ylabel('Z-transformed')\n",
    "plt.title('Correlation r = %g'%np.corrcoef(data,dataz)[0,0])\n",
    "plt.show()"
   ]
  }
 ],
 "metadata": {
  "kernelspec": {
   "display_name": "Python 3",
   "language": "python",
   "name": "python3"
  },
  "language_info": {
   "codemirror_mode": {
    "name": "ipython",
    "version": 3
   },
   "file_extension": ".py",
   "mimetype": "text/x-python",
   "name": "python",
   "nbconvert_exporter": "python",
   "pygments_lexer": "ipython3",
   "version": "3.7.3"
  }
 },
 "nbformat": 4,
 "nbformat_minor": 2
}

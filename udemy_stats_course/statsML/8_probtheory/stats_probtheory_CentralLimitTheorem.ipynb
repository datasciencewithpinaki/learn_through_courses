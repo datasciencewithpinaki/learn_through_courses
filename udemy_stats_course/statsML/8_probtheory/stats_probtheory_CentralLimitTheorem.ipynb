{
 "cells": [
  {
   "cell_type": "markdown",
   "metadata": {},
   "source": [
    "# COURSE: Master statistics and machine learning: Intuition, Math, code\n",
    "##### COURSE URL: udemy.com/course/statsml_x/?couponCode=202304 \n",
    "## SECTION: Probability theory\n",
    "### VIDEO: Central limit theorem in action!\n",
    "#### TEACHER: Mike X Cohen, sincxpress.com"
   ]
  },
  {
   "cell_type": "code",
   "execution_count": null,
   "metadata": {},
   "outputs": [],
   "source": [
    "# import libraries\n",
    "import matplotlib.pyplot as plt\n",
    "import numpy as np"
   ]
  },
  {
   "cell_type": "code",
   "execution_count": null,
   "metadata": {},
   "outputs": [],
   "source": [
    "## create data from a power-law distribution\n",
    "\n",
    "# data\n",
    "N = 1000000\n",
    "data = np.random.randn(N)**2\n",
    "# alternative data\n",
    "# data = np.sin(np.linspace(0,10*np.pi,N))\n",
    "\n",
    "# show the distribution\n",
    "plt.plot(data,'.')\n",
    "plt.show()\n",
    "\n",
    "plt.hist(data,40)\n",
    "plt.show()"
   ]
  },
  {
   "cell_type": "code",
   "execution_count": null,
   "metadata": {},
   "outputs": [],
   "source": [
    "## repeated samples of the mean\n",
    "\n",
    "samplesize   = 30\n",
    "numberOfExps = 500\n",
    "samplemeans  = np.zeros(numberOfExps)\n",
    "\n",
    "for expi in range(numberOfExps):\n",
    "    # get a sample and compute its mean\n",
    "    sampleidx = np.random.randint(0,N,samplesize)\n",
    "    samplemeans[expi] = np.mean(data[ sampleidx ])\n",
    "    \n",
    "\n",
    "# and show its distribution\n",
    "plt.hist(samplemeans,30)\n",
    "plt.xlabel('Mean estimate')\n",
    "plt.ylabel('Count')\n",
    "plt.show()\n"
   ]
  },
  {
   "cell_type": "code",
   "execution_count": null,
   "metadata": {},
   "outputs": [],
   "source": [
    "## linear mixtures\n",
    "\n",
    "# create two datasets with non-Gaussian distributions\n",
    "x = np.linspace(0,6*np.pi,10001)\n",
    "s = np.sin(x)\n",
    "u = 2*np.random.rand(len(x))-1\n",
    "\n",
    "fig,ax = plt.subplots(2,3,figsize=(10,6))\n",
    "ax[0,0].plot(x,s,'b')\n",
    "ax[0,0].set_title('Signal')\n",
    "\n",
    "y,xx = np.histogram(s,200)\n",
    "ax[1,0].plot(y,'b')\n",
    "ax[1,0].set_title('Distribution')\n",
    "\n",
    "ax[0,1].plot(x,u,'m')\n",
    "ax[0,1].set_title('Signal')\n",
    "\n",
    "y,xx = np.histogram(u,200)\n",
    "ax[1,1].plot(y,'m')\n",
    "ax[1,1].set_title('Distribution')\n",
    "\n",
    "ax[0,2].plot(x,s+u,'k')\n",
    "ax[0,2].set_title('Combined signal')\n",
    "\n",
    "y,xx = np.histogram(s+u,200)\n",
    "ax[1,2].plot(y,'k')\n",
    "ax[1,2].set_title('Combined distribution')\n",
    "\n",
    "plt.show()"
   ]
  }
 ],
 "metadata": {
  "kernelspec": {
   "display_name": "Python 3",
   "language": "python",
   "name": "python3"
  },
  "language_info": {
   "codemirror_mode": {
    "name": "ipython",
    "version": 3
   },
   "file_extension": ".py",
   "mimetype": "text/x-python",
   "name": "python",
   "nbconvert_exporter": "python",
   "pygments_lexer": "ipython3",
   "version": "3.7.4"
  }
 },
 "nbformat": 4,
 "nbformat_minor": 2
}

{
 "cells": [
  {
   "cell_type": "markdown",
   "metadata": {},
   "source": [
    "# COURSE: Master statistics and machine learning: Intuition, Math, code\n",
    "##### COURSE URL: udemy.com/course/statsml_x/?couponCode=202304 \n",
    "## SECTION: Probability theory\n",
    "### VIDEO: The law of large numbers\n",
    "#### TEACHER: Mike X Cohen, sincxpress.com"
   ]
  },
  {
   "cell_type": "code",
   "execution_count": null,
   "metadata": {},
   "outputs": [],
   "source": [
    "# import libraries\n",
    "import matplotlib.pyplot as plt\n",
    "import numpy as np"
   ]
  },
  {
   "cell_type": "code",
   "execution_count": null,
   "metadata": {},
   "outputs": [],
   "source": [
    "## example with rolling a die\n",
    "\n",
    "# die probabilities (weighted)\n",
    "f1 = 2/8\n",
    "f2 = 2/8\n",
    "f3 = 1/8\n",
    "f4 = 1/8\n",
    "f5 = 1/8\n",
    "f6 = 1/8\n",
    "\n",
    "# confirm sum to 1\n",
    "print(f1+f2+f3+f4+f5+f6)\n",
    "\n",
    "# expected value\n",
    "expval = 1*f1 + 2*f2 + 3*f3 + 4*f4 + 5*f5 + 6*f6\n",
    "\n",
    "# generate \"population\"\n",
    "population = [ 1, 1, 2, 2, 3, 4, 5, 6 ]\n",
    "for i in range(20):\n",
    "    population = np.hstack((population,population))\n",
    "\n",
    "nPop = len(population)\n",
    "\n",
    "# draw sample of 8 rolls\n",
    "sample = np.random.choice(population,8)"
   ]
  },
  {
   "cell_type": "code",
   "execution_count": null,
   "metadata": {},
   "outputs": [],
   "source": [
    "## experiment: draw larger and larger samples\n",
    "\n",
    "k = 5000  # maximum number of samples\n",
    "sampleAve = np.zeros(k)\n",
    "\n",
    "for i in range(k):\n",
    "    idx = np.floor(np.random.rand(i+1)*nPop)\n",
    "    sampleAve[i] = np.mean( population[idx.astype(int)] )\n",
    "\n",
    "\n",
    "plt.plot(sampleAve,'k')\n",
    "plt.plot([1,k],[expval,expval],'r',linewidth=4)\n",
    "plt.xlabel('Number of samples')\n",
    "plt.ylabel('Value')\n",
    "plt.ylim([expval-1, expval+1])\n",
    "plt.legend(('Sample average','expected value'))\n",
    "\n",
    "# mean of samples converges to population estimate quickly:\n",
    "print( np.mean(sampleAve) )\n",
    "print( np.mean(sampleAve[:9]) )"
   ]
  },
  {
   "cell_type": "code",
   "execution_count": null,
   "metadata": {},
   "outputs": [],
   "source": [
    "## Another example from a previous lecture (sampleVariability) (slightly adapted)\n",
    "\n",
    "# generate population data with known mean\n",
    "populationN = 1000000\n",
    "population = np.random.randn(populationN)\n",
    "population = population - np.mean(population)  # demean\n",
    "\n",
    "\n",
    "# get means of samples\n",
    "samplesize   = 30\n",
    "numberOfExps = 500\n",
    "samplemeans  = np.zeros(numberOfExps)\n",
    "\n",
    "for expi in range(numberOfExps):\n",
    "    # get a sample and compute its mean\n",
    "    sampleidx = np.random.randint(0,populationN,samplesize)\n",
    "    samplemeans[expi] = np.mean(population[ sampleidx ])\n",
    "\n",
    "\n",
    "# show the results!\n",
    "fig,ax = plt.subplots(2,1,figsize=(4,6))\n",
    "ax[0].plot(samplemeans,'s-')\n",
    "ax[0].plot([0,numberOfExps],[np.mean(population),np.mean(population)],'r',linewidth=3)\n",
    "ax[0].set_xlabel('Experiment number')\n",
    "ax[0].set_ylabel('mean value')\n",
    "ax[0].legend(('Sample means','Population mean'))\n",
    "\n",
    "ax[1].plot(np.cumsum(samplemeans) / np.arange(1,numberOfExps+1),'s-')\n",
    "ax[1].plot([0,numberOfExps],[np.mean(population),np.mean(population)],'r',linewidth=3)\n",
    "ax[1].set_xlabel('Experiment number')\n",
    "ax[1].set_ylabel('mean value')\n",
    "ax[1].legend(('Sample means','Population mean'))\n",
    "\n",
    "plt.show()"
   ]
  },
  {
   "cell_type": "code",
   "execution_count": null,
   "metadata": {},
   "outputs": [],
   "source": [
    "## some foreshadowing...\n",
    "\n",
    "plt.hist(samplemeans,30)\n",
    "plt.xlabel('Sample mean value')\n",
    "plt.ylabel('Count')\n",
    "plt.show()"
   ]
  }
 ],
 "metadata": {
  "kernelspec": {
   "display_name": "Python 3",
   "language": "python",
   "name": "python3"
  },
  "language_info": {
   "codemirror_mode": {
    "name": "ipython",
    "version": 3
   },
   "file_extension": ".py",
   "mimetype": "text/x-python",
   "name": "python",
   "nbconvert_exporter": "python",
   "pygments_lexer": "ipython3",
   "version": "3.7.4"
  }
 },
 "nbformat": 4,
 "nbformat_minor": 2
}

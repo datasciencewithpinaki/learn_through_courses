{
 "cells": [
  {
   "cell_type": "markdown",
   "metadata": {},
   "source": [
    "# COURSE: Master statistics and machine learning: Intuition, Math, code\n",
    "##### COURSE URL: udemy.com/course/statsml_x/?couponCode=202304 \n",
    "## SECTION: Probability theory\n",
    "### VIDEO: cdf's and pdf's\n",
    "#### TEACHER: Mike X Cohen, sincxpress.com"
   ]
  },
  {
   "cell_type": "code",
   "execution_count": null,
   "metadata": {},
   "outputs": [],
   "source": [
    "# import libraries\n",
    "import matplotlib.pyplot as plt\n",
    "import numpy as np\n",
    "import scipy.stats as stats"
   ]
  },
  {
   "cell_type": "code",
   "execution_count": null,
   "metadata": {},
   "outputs": [],
   "source": [
    "## example using log-normal distribution\n",
    "\n",
    "# variable to evaluate the functions on\n",
    "x = np.linspace(0,5,1001)\n",
    "\n",
    "# note the function call pattern...\n",
    "p1 = stats.lognorm.pdf(x,1)\n",
    "c1 = stats.lognorm.cdf(x,1)\n",
    "\n",
    "p2 = stats.lognorm.pdf(x,.1)\n",
    "c2 = stats.lognorm.cdf(x,.1)\n"
   ]
  },
  {
   "cell_type": "code",
   "execution_count": null,
   "metadata": {},
   "outputs": [],
   "source": [
    "# draw the pdfs\n",
    "fig,ax = plt.subplots(2,1,figsize=(4,7))\n",
    "\n",
    "ax[0].plot(x,p1/sum(p1)) # question: why divide by sum here?\n",
    "ax[0].plot(x,p1/sum(p1), x,p2/sum(p2))\n",
    "ax[0].set_ylabel('probability')\n",
    "ax[0].set_title('pdf(x)')\n",
    "\n",
    "# draw the cdfs\n",
    "ax[1].plot(x,c1)\n",
    "ax[1].plot(x,c1, x,c2)\n",
    "ax[1].set_ylabel('probability')\n",
    "ax[1].set_title('cdf(x)')\n",
    "plt.show()"
   ]
  },
  {
   "cell_type": "code",
   "execution_count": null,
   "metadata": {},
   "outputs": [],
   "source": [
    "## computing the cdf from the pdf\n",
    "\n",
    "# compute the cdf\n",
    "c1x = np.cumsum( p1*(x[1]-x[0]) )\n",
    "\n",
    "plt.plot(x,c1)\n",
    "plt.plot(x,c1x,'--')\n",
    "plt.show()"
   ]
  }
 ],
 "metadata": {
  "kernelspec": {
   "display_name": "Python 3",
   "language": "python",
   "name": "python3"
  },
  "language_info": {
   "codemirror_mode": {
    "name": "ipython",
    "version": 3
   },
   "file_extension": ".py",
   "mimetype": "text/x-python",
   "name": "python",
   "nbconvert_exporter": "python",
   "pygments_lexer": "ipython3",
   "version": "3.7.3"
  }
 },
 "nbformat": 4,
 "nbformat_minor": 2
}

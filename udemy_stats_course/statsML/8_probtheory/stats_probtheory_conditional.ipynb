{
 "cells": [
  {
   "cell_type": "markdown",
   "metadata": {},
   "source": [
    "# COURSE: Master statistics and machine learning: Intuition, Math, code\n",
    "##### COURSE URL: udemy.com/course/statsml_x/?couponCode=202304 \n",
    "## SECTION: Probability theory\n",
    "### VIDEO: Conditional probability\n",
    "#### TEACHER: Mike X Cohen, sincxpress.com"
   ]
  },
  {
   "cell_type": "code",
   "execution_count": null,
   "metadata": {},
   "outputs": [],
   "source": [
    "# import libraries\n",
    "import matplotlib.pyplot as plt\n",
    "import numpy as np"
   ]
  },
  {
   "cell_type": "code",
   "execution_count": null,
   "metadata": {},
   "outputs": [],
   "source": [
    "## generate two long-spike time series\n",
    "\n",
    "N = 10000\n",
    "spikeDur  = 10  # a.u. but must be an even number\n",
    "spikeNumA = .01 # in proportion of total number of points\n",
    "spikeNumB = .05 # in proportion of total number of points\n",
    "\n",
    "# initialize to zeros\n",
    "spike_tsA = np.zeros(N)\n",
    "spike_tsB = np.zeros(N)\n",
    "\n",
    "\n",
    "### populate time series A\n",
    "spiketimesA = np.random.randint(0,N,int(N*spikeNumA))\n",
    "\n",
    "# flesh out spikes (loop per spike)\n",
    "for spikei in range(len(spiketimesA)):\n",
    "    \n",
    "    # find boundaries\n",
    "    bnd_pre = int( max(0,spiketimesA[spikei]-spikeDur/2) )\n",
    "    bnd_pst = int( min(N,spiketimesA[spikei]+spikeDur/2) )\n",
    "    \n",
    "    # fill in with ones\n",
    "    spike_tsA[bnd_pre:bnd_pst] = 1\n",
    "\n",
    "\n",
    "# ### repeat for time series 2\n",
    "spiketimesB = np.random.randint(0,N,int(N*spikeNumB))\n",
    "# spiketimesB[:len(spiketimesA)] = spiketimesA # induce strong conditional probability\n",
    "\n",
    "# flesh out spikes (loop per spike)\n",
    "for spikei in range(len(spiketimesB)):\n",
    "    \n",
    "    # find boundaries\n",
    "    bnd_pre = int( max(0,spiketimesB[spikei]-spikeDur/2) )\n",
    "    bnd_pst = int( min(N,spiketimesB[spikei]+spikeDur/2) )\n",
    "    \n",
    "    # fill in with ones\n",
    "    spike_tsB[bnd_pre:bnd_pst] = 1\n"
   ]
  },
  {
   "cell_type": "code",
   "execution_count": null,
   "metadata": {},
   "outputs": [],
   "source": [
    "## let's see what they look like\n",
    "\n",
    "plt.plot(range(N),spike_tsA, range(N),spike_tsB)\n",
    "plt.ylim([0,1.2])\n",
    "# plt.xlim([2000,2500])\n",
    "plt.show()"
   ]
  },
  {
   "cell_type": "code",
   "execution_count": null,
   "metadata": {},
   "outputs": [],
   "source": [
    "## compute their probabilities and intersection\n",
    "\n",
    "# probabilities\n",
    "probA = sum(spike_tsA==1) / N\n",
    "probB = np.mean(spike_tsB)\n",
    "\n",
    "# joint probability\n",
    "probAB = np.mean(spike_tsA+spike_tsB==2)\n",
    "\n",
    "print(probA,probB,probAB)"
   ]
  },
  {
   "cell_type": "code",
   "execution_count": null,
   "metadata": {},
   "outputs": [],
   "source": [
    "## compute the conditional probabilities\n",
    "\n",
    "# p(A|B)\n",
    "pAgivenB = probAB/probB\n",
    "\n",
    "# p(B|A)\n",
    "pBgivenA = probAB/probA\n",
    "\n",
    "# print a little report\n",
    "print('P(A)   = %g'%probA)\n",
    "print('P(A|B) = %g'%pAgivenB)\n",
    "print('P(B)   = %g'%probB)\n",
    "print('P(B|A) = %g'%pBgivenA)"
   ]
  }
 ],
 "metadata": {
  "kernelspec": {
   "display_name": "Python 3",
   "language": "python",
   "name": "python3"
  },
  "language_info": {
   "codemirror_mode": {
    "name": "ipython",
    "version": 3
   },
   "file_extension": ".py",
   "mimetype": "text/x-python",
   "name": "python",
   "nbconvert_exporter": "python",
   "pygments_lexer": "ipython3",
   "version": "3.7.4"
  }
 },
 "nbformat": 4,
 "nbformat_minor": 2
}

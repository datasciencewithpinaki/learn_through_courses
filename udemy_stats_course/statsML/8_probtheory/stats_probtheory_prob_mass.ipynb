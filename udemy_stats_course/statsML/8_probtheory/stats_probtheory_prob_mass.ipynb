{
 "cells": [
  {
   "cell_type": "markdown",
   "metadata": {},
   "source": [
    "# COURSE: Master statistics and machine learning: Intuition, Math, code\n",
    "##### COURSE URL: udemy.com/course/statsml_x/?couponCode=202304 \n",
    "## SECTION: Probability theory\n",
    "### VIDEO: Compute probability mass functions\n",
    "#### TEACHER: Mike X Cohen, sincxpress.com"
   ]
  },
  {
   "cell_type": "code",
   "execution_count": null,
   "metadata": {},
   "outputs": [],
   "source": [
    "# import libraries\n",
    "import matplotlib.pyplot as plt\n",
    "import numpy as np"
   ]
  },
  {
   "cell_type": "code",
   "execution_count": null,
   "metadata": {},
   "outputs": [],
   "source": [
    "\n",
    "## re-run marble jar code from \"compute probabilities\"\n"
   ]
  },
  {
   "cell_type": "code",
   "execution_count": null,
   "metadata": {},
   "outputs": [],
   "source": [
    "## compute empirical probability function\n",
    "\n",
    "# continous signal (technically discrete!)\n",
    "N = 10004\n",
    "datats1 = np.cumsum(np.sign(np.random.randn(N)))\n",
    "datats2 = np.cumsum(np.sign(np.random.randn(N)))\n",
    "\n",
    "# let's see what they look like\n",
    "plt.plot(np.arange(N),datats1,linewidth=2)\n",
    "plt.plot(np.arange(N),datats2,linewidth=2)\n",
    "plt.show()\n",
    "\n",
    "\n",
    "# discretize using histograms\n",
    "nbins = 50\n",
    "\n",
    "y,x = np.histogram(datats1,nbins)\n",
    "x1 = (x[1:]+x[:-1])/2\n",
    "y1 = y/sum(y)\n",
    "\n",
    "y,x = np.histogram(datats2,nbins)\n",
    "x2 = (x[1:]+x[:-1])/2\n",
    "y2 = y/sum(y)\n",
    "\n",
    "\n",
    "plt.plot(x1,y1, x2,y2,linewidth=3)\n",
    "plt.legend(('ts1','ts2'))\n",
    "plt.xlabel('Data value')\n",
    "plt.ylabel('Probability')\n",
    "plt.show()"
   ]
  }
 ],
 "metadata": {
  "kernelspec": {
   "display_name": "Python 3",
   "language": "python",
   "name": "python3"
  },
  "language_info": {
   "codemirror_mode": {
    "name": "ipython",
    "version": 3
   },
   "file_extension": ".py",
   "mimetype": "text/x-python",
   "name": "python",
   "nbconvert_exporter": "python",
   "pygments_lexer": "ipython3",
   "version": "3.7.4"
  }
 },
 "nbformat": 4,
 "nbformat_minor": 2
}
